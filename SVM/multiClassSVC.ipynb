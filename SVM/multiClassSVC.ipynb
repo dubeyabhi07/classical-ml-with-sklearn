{
  "nbformat": 4,
  "nbformat_minor": 0,
  "metadata": {
    "colab": {
      "name": "multiClassSVC.ipynb",
      "provenance": [],
      "collapsed_sections": [],
      "authorship_tag": "ABX9TyNGYZ95dqhME8y5b/5O9s6z",
      "include_colab_link": true
    },
    "kernelspec": {
      "name": "python3",
      "display_name": "Python 3"
    }
  },
  "cells": [
    {
      "cell_type": "markdown",
      "metadata": {
        "id": "view-in-github",
        "colab_type": "text"
      },
      "source": [
        "<a href=\"https://colab.research.google.com/github/dubeyabhi07/hands-on-scikit-learn/blob/master/SVM/multiClassSVC.ipynb\" target=\"_parent\"><img src=\"https://colab.research.google.com/assets/colab-badge.svg\" alt=\"Open In Colab\"/></a>"
      ]
    },
    {
      "cell_type": "markdown",
      "metadata": {
        "id": "9vxpgLOHz7xG",
        "colab_type": "text"
      },
      "source": [
        "# Multi-class classification with SVC\n",
        "\n",
        "- Logistic Regression can be naturally extended to multi-class learning problems by replacing the sigmoid function with the softmax function. The KNN algorithm is also straightforward to extend to multiclass case. When we find k closest examples using a distance metric such as Euclidean Distance, for the input x and examine them, we return the class that we saw the most among the k examples. Multi-class labeling is also trivial with Naive Bayes classifier.\n",
        "\n",
        "- SVM cannot be naturally extended to multi-class problems\n",
        "\n",
        "- A one-vs-one OR one-vs-all strategy has to be determined if multi-class classification has to be carried out by SVC.\n",
        "\n",
        "- By default, SVC implements one-vs-all strategy. In order to use one-vs-rest strategy, we need to use meta-estimator / specify decision_function_shape='ovo'.\n",
        "\n",
        "- By default, LinearSVC uses one-vs-all strategy but it can be easily changed to one-vs-rest by specifying multi_class='ovr' in the constructor."
      ]
    },
    {
      "cell_type": "code",
      "metadata": {
        "id": "6o90oBl7WsXF",
        "colab_type": "code",
        "colab": {
          "base_uri": "https://localhost:8080/",
          "height": 168
        },
        "outputId": "2823b862-6dba-4d91-8048-dd7f079118e9"
      },
      "source": [
        "from sklearn import datasets\n",
        "from sklearn import svm\n",
        "data = datasets.make_classification(n_samples=1000, n_features=5, n_informative=4, n_redundant=1, n_classes=5,random_state=3)\n",
        "print(\"first 5 samples : \")\n",
        "print(data[0][0:5])\n",
        "print(\"\\nprediction for first 5 samples : \")\n",
        "print(data[1][0:5])\n",
        "\n",
        "\n",
        "X = data[0]\n",
        "Y = data[1]"
      ],
      "execution_count": null,
      "outputs": [
        {
          "output_type": "stream",
          "text": [
            "first 5 samples : \n",
            "[[ 1.92675881 -0.37142864  0.26895069  1.01306378  0.34952276]\n",
            " [ 0.7173925   0.98164137  1.20622939  0.2535553   0.42079308]\n",
            " [ 1.70973199  0.14127233 -0.34242828  0.99092091  0.35059309]\n",
            " [ 1.62178036  1.92497436 -2.07616403  1.08555836  0.52694852]\n",
            " [-1.28404986  1.14046739 -1.21193321 -0.5686877  -0.14887834]]\n",
            "\n",
            "prediction for first 5 samples : \n",
            "[0 2 1 1 2]\n"
          ],
          "name": "stdout"
        }
      ]
    },
    {
      "cell_type": "code",
      "metadata": {
        "id": "l3-uQhpFgPIV",
        "colab_type": "code",
        "colab": {
          "base_uri": "https://localhost:8080/",
          "height": 218
        },
        "outputId": "2557d8e4-db63-4b97-d369-acf83b4280fd"
      },
      "source": [
        "print(\"SVM with ovr startegy :\\n\")\n",
        "svc1 = svm.SVC(kernel='linear', C=1).fit(X, Y)\n",
        "y_pred1 = svc1.predict(X)\n",
        "y_pred_values1 = svc1.decision_function(X)\n",
        "print(svc1)\n",
        "print(y_pred1[0:5])\n",
        "print(y_pred_values1[0:5,:])"
      ],
      "execution_count": null,
      "outputs": [
        {
          "output_type": "stream",
          "text": [
            "SVM with ovr startegy :\n",
            "\n",
            "SVC(C=1, break_ties=False, cache_size=200, class_weight=None, coef0=0.0,\n",
            "    decision_function_shape='ovr', degree=3, gamma='scale', kernel='linear',\n",
            "    max_iter=-1, probability=False, random_state=None, shrinking=True,\n",
            "    tol=0.001, verbose=False)\n",
            "[2 2 2 1 1]\n",
            "[[ 3.11669179  1.07540878  4.2762562   0.73911708  0.77523688]\n",
            " [ 2.22105721  3.2607182   4.27356788  0.70589377 -0.24173596]\n",
            " [ 0.76813905  3.23459427  4.27944253  1.82668017 -0.26914591]\n",
            " [-0.30684585  4.30445585  3.29516366  2.27745189  0.69300379]\n",
            " [ 0.7289235   3.23464736  3.15417717  3.27478203 -0.26050765]]\n"
          ],
          "name": "stdout"
        }
      ]
    },
    {
      "cell_type": "code",
      "metadata": {
        "id": "FbodGeG97kfU",
        "colab_type": "code",
        "colab": {
          "base_uri": "https://localhost:8080/",
          "height": 336
        },
        "outputId": "d23c09c0-0780-4527-b6ea-1157c9dec54e"
      },
      "source": [
        "print(\"\\n\\nSVM with ovo startegy :\\n\")\n",
        "svc2 = svm.SVC(kernel='linear', C=100, decision_function_shape='ovo').fit(X, Y)\n",
        "y_pred2 = svc2.predict(X)\n",
        "y_pred_values2 = svc2.decision_function(X)\n",
        "print(svc2)\n",
        "print(y_pred2[0:5])\n",
        "print(y_pred_values2[0:5,:])"
      ],
      "execution_count": null,
      "outputs": [
        {
          "output_type": "stream",
          "text": [
            "\n",
            "\n",
            "SVM with ovo startegy :\n",
            "\n",
            "SVC(C=100, break_ties=False, cache_size=200, class_weight=None, coef0=0.0,\n",
            "    decision_function_shape='ovo', degree=3, gamma='scale', kernel='linear',\n",
            "    max_iter=-1, probability=False, random_state=None, shrinking=True,\n",
            "    tol=0.001, verbose=False)\n",
            "[2 2 2 1 1]\n",
            "[[ 0.24369285 -0.96036787  0.98270991  0.34616354 -1.54583284  2.29244034\n",
            "  -0.17696521  0.78065044  1.58580342  0.3572326 ]\n",
            " [-0.17937947 -0.77248011  1.96539447  1.08045099 -1.03961443  4.34172268\n",
            "   0.22359312  1.62373971  1.14668286  0.24114778]\n",
            " [-0.4795382  -1.60520186 -0.3398489   0.14666031 -0.74937691  2.11549806\n",
            "   0.57752191  0.69208279  2.18468592  1.35184474]\n",
            " [-2.94854295 -4.04361382 -4.1097323  -0.68773018  1.65799454  2.77197582\n",
            "   3.28377012  0.76206365  4.68507087  4.52625659]\n",
            " [-1.24313816 -1.17633647 -2.20383541  0.23975948  1.15531141 -0.80414725\n",
            "   0.80729401  0.1398409   0.70911704  1.89976366]]\n"
          ],
          "name": "stdout"
        }
      ]
    },
    {
      "cell_type": "markdown",
      "metadata": {
        "id": "y4dP1ZVmcN7T",
        "colab_type": "text"
      },
      "source": [
        "#### Interpretation of ovo decision function :\n",
        "\n",
        " - https://datascience.stackexchange.com/questions/18374/predicting-probability-from-scikit-learn-svc-decision-function-with-decision-fun\n",
        " - In first example : AB->A, AC->C, AD->A, AE->A, BC->C, BD->B, BE->E, CD->C, CE->C, DE->D. Thus votes for A = 3, B = 1, C= 4, D= 1, E= 1. C is the output. \n",
        " - When the constructor option probability is set to True, class membership probability estimates (from the methods predict_proba and predict_log_proba) are enabled. These are estimated using regression.\n",
        " - Tie breaking is costly if decision_function_shape='ovr', and therefore it is not enabled by default. By deafault, the first class is returned. \n",
        " - break_ties must be False when decision_function_shape is 'ovo' "
      ]
    },
    {
      "cell_type": "code",
      "metadata": {
        "id": "jfO798lhaoe1",
        "colab_type": "code",
        "colab": {
          "base_uri": "https://localhost:8080/",
          "height": 420
        },
        "outputId": "ad33bb75-5071-473e-9925-be41198284fa"
      },
      "source": [
        "print(\"\\n\\nSVM with ovo startegy and predict_prob enabled :\\n\")\n",
        "svc3 = svm.SVC(kernel='linear', C=100, decision_function_shape='ovo',probability=True,random_state=3).fit(X, Y)\n",
        "y_pred3 = svc3.predict(X)\n",
        "y_pred_values3 = svc3.decision_function(X)\n",
        "y_pred_prob = svc3.predict_proba(X)\n",
        "print(svc3)\n",
        "print(y_pred3[0:5])\n",
        "print(y_pred_values3[0:5,:])\n",
        "print(y_pred_prob[0:5,:])"
      ],
      "execution_count": null,
      "outputs": [
        {
          "output_type": "stream",
          "text": [
            "\n",
            "\n",
            "SVM with ovo startegy and predict_prob enabled :\n",
            "\n",
            "SVC(C=100, break_ties=False, cache_size=200, class_weight=None, coef0=0.0,\n",
            "    decision_function_shape='ovo', degree=3, gamma='scale', kernel='linear',\n",
            "    max_iter=-1, probability=True, random_state=3, shrinking=True, tol=0.001,\n",
            "    verbose=False)\n",
            "[2 2 2 1 1]\n",
            "[[ 0.24369285 -0.96036787  0.98270991  0.34616354 -1.54583284  2.29244034\n",
            "  -0.17696521  0.78065044  1.58580342  0.3572326 ]\n",
            " [-0.17937947 -0.77248011  1.96539447  1.08045099 -1.03961443  4.34172268\n",
            "   0.22359312  1.62373971  1.14668286  0.24114778]\n",
            " [-0.4795382  -1.60520186 -0.3398489   0.14666031 -0.74937691  2.11549806\n",
            "   0.57752191  0.69208279  2.18468592  1.35184474]\n",
            " [-2.94854295 -4.04361382 -4.1097323  -0.68773018  1.65799454  2.77197582\n",
            "   3.28377012  0.76206365  4.68507087  4.52625659]\n",
            " [-1.24313816 -1.17633647 -2.20383541  0.23975948  1.15531141 -0.80414725\n",
            "   0.80729401  0.1398409   0.70911704  1.89976366]]\n",
            "[[0.18996058 0.13920525 0.45993617 0.07530171 0.1355963 ]\n",
            " [0.20513807 0.20791539 0.42781444 0.03411138 0.12502072]\n",
            " [0.10286065 0.25820418 0.45986116 0.09819623 0.08087778]\n",
            " [0.00699974 0.80371946 0.15055522 0.03201501 0.00671058]\n",
            " [0.0631265  0.26627087 0.21020708 0.3644304  0.09596515]]\n"
          ],
          "name": "stdout"
        }
      ]
    },
    {
      "cell_type": "markdown",
      "metadata": {
        "id": "p1sX5Csmix5T",
        "colab_type": "text"
      },
      "source": [
        "- As it can be observed that predicted class for 5th sample is 1. however the predict_proba value is point to class 3. Hence, predict_prob doesn't always coincide with predicted values.\n",
        "\n",
        "- In fifth example : AB->B, AC->C, AD->D, AE->A, BC->B, BD->D, BE->B, CD->C, CE->C, DE->D. Thus votes for A = 1, B = 3, C= 3, D= 3, E= 0.\n",
        "\n",
        "- Despite the probabiliy of D being highest, predict method picked the first class."
      ]
    },
    {
      "cell_type": "markdown",
      "metadata": {
        "id": "PyGgdpB_oK5Y",
        "colab_type": "text"
      },
      "source": [
        "# Using meta-estimators"
      ]
    },
    {
      "cell_type": "code",
      "metadata": {
        "id": "Mi-ybTrhh2sI",
        "colab_type": "code",
        "colab": {
          "base_uri": "https://localhost:8080/",
          "height": 403
        },
        "outputId": "60871f56-c630-43db-beea-5ae690778830"
      },
      "source": [
        "from sklearn.multiclass import OneVsRestClassifier\n",
        "ovr_ovr = OneVsRestClassifier(svm.SVC(random_state=0, kernel='linear', C=1)).fit(X, Y)\n",
        "\n",
        "print(ovr_ovr.n_classes_)\n",
        "print(ovr_ovr.estimators_)\n",
        "\n",
        "y_pred_ovr_ovr = ovr_ovr.predict(X)\n",
        "y_pred_values_ovr_ovr = ovr_ovr.decision_function(X)\n",
        "print(y_pred_ovr_ovr[0:5])\n",
        "print(y_pred_values_ovr_ovr[0:5,:])\n"
      ],
      "execution_count": null,
      "outputs": [
        {
          "output_type": "stream",
          "text": [
            "5\n",
            "[SVC(C=1, break_ties=False, cache_size=200, class_weight=None, coef0=0.0,\n",
            "    decision_function_shape='ovr', degree=3, gamma='scale', kernel='linear',\n",
            "    max_iter=-1, probability=False, random_state=0, shrinking=True, tol=0.001,\n",
            "    verbose=False), SVC(C=1, break_ties=False, cache_size=200, class_weight=None, coef0=0.0,\n",
            "    decision_function_shape='ovr', degree=3, gamma='scale', kernel='linear',\n",
            "    max_iter=-1, probability=False, random_state=0, shrinking=True, tol=0.001,\n",
            "    verbose=False), SVC(C=1, break_ties=False, cache_size=200, class_weight=None, coef0=0.0,\n",
            "    decision_function_shape='ovr', degree=3, gamma='scale', kernel='linear',\n",
            "    max_iter=-1, probability=False, random_state=0, shrinking=True, tol=0.001,\n",
            "    verbose=False), SVC(C=1, break_ties=False, cache_size=200, class_weight=None, coef0=0.0,\n",
            "    decision_function_shape='ovr', degree=3, gamma='scale', kernel='linear',\n",
            "    max_iter=-1, probability=False, random_state=0, shrinking=True, tol=0.001,\n",
            "    verbose=False), SVC(C=1, break_ties=False, cache_size=200, class_weight=None, coef0=0.0,\n",
            "    decision_function_shape='ovr', degree=3, gamma='scale', kernel='linear',\n",
            "    max_iter=-1, probability=False, random_state=0, shrinking=True, tol=0.001,\n",
            "    verbose=False)]\n",
            "[2 4 2 1 1]\n",
            "[[-1.04868699 -1.68955299 -0.99992365 -1.37883491 -1.00021858]\n",
            " [-1.12284553 -1.26857948 -1.00005906 -2.04269511 -1.00004064]\n",
            " [-1.47712822 -1.04681659 -0.99992594 -1.30874589 -1.00014442]\n",
            " [-2.8157053   1.08246603 -0.99991698 -1.25243772 -0.99995477]\n",
            " [-2.21830501 -0.11335125 -1.00007761 -1.33684678 -0.99974703]]\n"
          ],
          "name": "stdout"
        }
      ]
    },
    {
      "cell_type": "code",
      "metadata": {
        "id": "heGVqD6WoJTH",
        "colab_type": "code",
        "colab": {
          "base_uri": "https://localhost:8080/",
          "height": 403
        },
        "outputId": "07c1e86a-40a9-4f7b-957e-3c71b88ee2cb"
      },
      "source": [
        "from sklearn.multiclass import OneVsRestClassifier\n",
        "ovr_ovo = OneVsRestClassifier(svm.SVC(random_state=0, decision_function_shape='ovo',kernel='linear', C=1)).fit(X, Y)\n",
        "\n",
        "print(ovr_ovo.n_classes_)\n",
        "print(ovr_ovo.estimators_)\n",
        "\n",
        "y_pred_ovr_ovo = ovr_ovo.predict(X)\n",
        "y_pred_values_ovr_ovo = ovr_ovo.decision_function(X)\n",
        "print(y_pred_ovr_ovo[0:5])\n",
        "print(y_pred_values_ovr_ovo[0:5,:])"
      ],
      "execution_count": null,
      "outputs": [
        {
          "output_type": "stream",
          "text": [
            "5\n",
            "[SVC(C=1, break_ties=False, cache_size=200, class_weight=None, coef0=0.0,\n",
            "    decision_function_shape='ovo', degree=3, gamma='scale', kernel='linear',\n",
            "    max_iter=-1, probability=False, random_state=0, shrinking=True, tol=0.001,\n",
            "    verbose=False), SVC(C=1, break_ties=False, cache_size=200, class_weight=None, coef0=0.0,\n",
            "    decision_function_shape='ovo', degree=3, gamma='scale', kernel='linear',\n",
            "    max_iter=-1, probability=False, random_state=0, shrinking=True, tol=0.001,\n",
            "    verbose=False), SVC(C=1, break_ties=False, cache_size=200, class_weight=None, coef0=0.0,\n",
            "    decision_function_shape='ovo', degree=3, gamma='scale', kernel='linear',\n",
            "    max_iter=-1, probability=False, random_state=0, shrinking=True, tol=0.001,\n",
            "    verbose=False), SVC(C=1, break_ties=False, cache_size=200, class_weight=None, coef0=0.0,\n",
            "    decision_function_shape='ovo', degree=3, gamma='scale', kernel='linear',\n",
            "    max_iter=-1, probability=False, random_state=0, shrinking=True, tol=0.001,\n",
            "    verbose=False), SVC(C=1, break_ties=False, cache_size=200, class_weight=None, coef0=0.0,\n",
            "    decision_function_shape='ovo', degree=3, gamma='scale', kernel='linear',\n",
            "    max_iter=-1, probability=False, random_state=0, shrinking=True, tol=0.001,\n",
            "    verbose=False)]\n",
            "[2 4 2 1 1]\n",
            "[[-1.04868699 -1.68955299 -0.99992365 -1.37883491 -1.00021858]\n",
            " [-1.12284553 -1.26857948 -1.00005906 -2.04269511 -1.00004064]\n",
            " [-1.47712822 -1.04681659 -0.99992594 -1.30874589 -1.00014442]\n",
            " [-2.8157053   1.08246603 -0.99991698 -1.25243772 -0.99995477]\n",
            " [-2.21830501 -0.11335125 -1.00007761 -1.33684678 -0.99974703]]\n"
          ],
          "name": "stdout"
        }
      ]
    },
    {
      "cell_type": "code",
      "metadata": {
        "id": "pv_WmZeOjOZt",
        "colab_type": "code",
        "colab": {
          "base_uri": "https://localhost:8080/",
          "height": 655
        },
        "outputId": "3e774a93-e24e-448c-a817-ec736aa9cc20"
      },
      "source": [
        "from sklearn.multiclass import OneVsOneClassifier\n",
        "ovo_ovr = OneVsOneClassifier(svm.SVC(random_state=0, kernel='linear', C=1)).fit(X, Y)\n",
        "\n",
        "print(ovo_ovr.n_classes_)\n",
        "print(ovo_ovr.estimators_)\n",
        "\n",
        "y_pred_ovo_ovr = ovo_ovr.predict(X)\n",
        "y_pred_values_ovo_ovr = ovo_ovr.decision_function(X)\n",
        "print(y_pred_ovo_ovr[0:5])\n",
        "print(y_pred_values_ovo_ovr[0:5,:])\n"
      ],
      "execution_count": null,
      "outputs": [
        {
          "output_type": "stream",
          "text": [
            "5\n",
            "(SVC(C=1, break_ties=False, cache_size=200, class_weight=None, coef0=0.0,\n",
            "    decision_function_shape='ovr', degree=3, gamma='scale', kernel='linear',\n",
            "    max_iter=-1, probability=False, random_state=0, shrinking=True, tol=0.001,\n",
            "    verbose=False), SVC(C=1, break_ties=False, cache_size=200, class_weight=None, coef0=0.0,\n",
            "    decision_function_shape='ovr', degree=3, gamma='scale', kernel='linear',\n",
            "    max_iter=-1, probability=False, random_state=0, shrinking=True, tol=0.001,\n",
            "    verbose=False), SVC(C=1, break_ties=False, cache_size=200, class_weight=None, coef0=0.0,\n",
            "    decision_function_shape='ovr', degree=3, gamma='scale', kernel='linear',\n",
            "    max_iter=-1, probability=False, random_state=0, shrinking=True, tol=0.001,\n",
            "    verbose=False), SVC(C=1, break_ties=False, cache_size=200, class_weight=None, coef0=0.0,\n",
            "    decision_function_shape='ovr', degree=3, gamma='scale', kernel='linear',\n",
            "    max_iter=-1, probability=False, random_state=0, shrinking=True, tol=0.001,\n",
            "    verbose=False), SVC(C=1, break_ties=False, cache_size=200, class_weight=None, coef0=0.0,\n",
            "    decision_function_shape='ovr', degree=3, gamma='scale', kernel='linear',\n",
            "    max_iter=-1, probability=False, random_state=0, shrinking=True, tol=0.001,\n",
            "    verbose=False), SVC(C=1, break_ties=False, cache_size=200, class_weight=None, coef0=0.0,\n",
            "    decision_function_shape='ovr', degree=3, gamma='scale', kernel='linear',\n",
            "    max_iter=-1, probability=False, random_state=0, shrinking=True, tol=0.001,\n",
            "    verbose=False), SVC(C=1, break_ties=False, cache_size=200, class_weight=None, coef0=0.0,\n",
            "    decision_function_shape='ovr', degree=3, gamma='scale', kernel='linear',\n",
            "    max_iter=-1, probability=False, random_state=0, shrinking=True, tol=0.001,\n",
            "    verbose=False), SVC(C=1, break_ties=False, cache_size=200, class_weight=None, coef0=0.0,\n",
            "    decision_function_shape='ovr', degree=3, gamma='scale', kernel='linear',\n",
            "    max_iter=-1, probability=False, random_state=0, shrinking=True, tol=0.001,\n",
            "    verbose=False), SVC(C=1, break_ties=False, cache_size=200, class_weight=None, coef0=0.0,\n",
            "    decision_function_shape='ovr', degree=3, gamma='scale', kernel='linear',\n",
            "    max_iter=-1, probability=False, random_state=0, shrinking=True, tol=0.001,\n",
            "    verbose=False), SVC(C=1, break_ties=False, cache_size=200, class_weight=None, coef0=0.0,\n",
            "    decision_function_shape='ovr', degree=3, gamma='scale', kernel='linear',\n",
            "    max_iter=-1, probability=False, random_state=0, shrinking=True, tol=0.001,\n",
            "    verbose=False))\n",
            "[2 2 2 1 3]\n",
            "[[ 3.11669179  1.07540878  4.2762562   0.73911708  0.77523688]\n",
            " [ 2.22105721  3.2607182   4.27356788  0.70589377 -0.24173596]\n",
            " [ 0.76813905  3.23459427  4.27944253  1.82668017 -0.26914591]\n",
            " [-0.30684585  4.30445585  3.29516366  2.27745189  0.69300379]\n",
            " [ 0.7289235   3.23464736  3.15417717  3.27478203 -0.26050765]]\n"
          ],
          "name": "stdout"
        }
      ]
    },
    {
      "cell_type": "code",
      "metadata": {
        "id": "lxVFrQ3ak7BW",
        "colab_type": "code",
        "colab": {
          "base_uri": "https://localhost:8080/",
          "height": 655
        },
        "outputId": "271fa2c8-0ac0-431f-8c89-c723e238de43"
      },
      "source": [
        "ovo_ovo = OneVsOneClassifier(svm.SVC(random_state=0, decision_function_shape='ovo', kernel='linear', C=1)).fit(X, Y)\n",
        "\n",
        "print(ovo_ovo.n_classes_)\n",
        "print(ovo_ovo.estimators_)\n",
        "\n",
        "y_pred_ovo_ovo = ovo_ovo.predict(X)\n",
        "y_pred_values_ovo_ovo = ovo_ovo.decision_function(X)\n",
        "print(y_pred_ovo_ovo[0:5])\n",
        "print(y_pred_values_ovo_ovo[0:5,:])"
      ],
      "execution_count": null,
      "outputs": [
        {
          "output_type": "stream",
          "text": [
            "5\n",
            "(SVC(C=1, break_ties=False, cache_size=200, class_weight=None, coef0=0.0,\n",
            "    decision_function_shape='ovo', degree=3, gamma='scale', kernel='linear',\n",
            "    max_iter=-1, probability=False, random_state=0, shrinking=True, tol=0.001,\n",
            "    verbose=False), SVC(C=1, break_ties=False, cache_size=200, class_weight=None, coef0=0.0,\n",
            "    decision_function_shape='ovo', degree=3, gamma='scale', kernel='linear',\n",
            "    max_iter=-1, probability=False, random_state=0, shrinking=True, tol=0.001,\n",
            "    verbose=False), SVC(C=1, break_ties=False, cache_size=200, class_weight=None, coef0=0.0,\n",
            "    decision_function_shape='ovo', degree=3, gamma='scale', kernel='linear',\n",
            "    max_iter=-1, probability=False, random_state=0, shrinking=True, tol=0.001,\n",
            "    verbose=False), SVC(C=1, break_ties=False, cache_size=200, class_weight=None, coef0=0.0,\n",
            "    decision_function_shape='ovo', degree=3, gamma='scale', kernel='linear',\n",
            "    max_iter=-1, probability=False, random_state=0, shrinking=True, tol=0.001,\n",
            "    verbose=False), SVC(C=1, break_ties=False, cache_size=200, class_weight=None, coef0=0.0,\n",
            "    decision_function_shape='ovo', degree=3, gamma='scale', kernel='linear',\n",
            "    max_iter=-1, probability=False, random_state=0, shrinking=True, tol=0.001,\n",
            "    verbose=False), SVC(C=1, break_ties=False, cache_size=200, class_weight=None, coef0=0.0,\n",
            "    decision_function_shape='ovo', degree=3, gamma='scale', kernel='linear',\n",
            "    max_iter=-1, probability=False, random_state=0, shrinking=True, tol=0.001,\n",
            "    verbose=False), SVC(C=1, break_ties=False, cache_size=200, class_weight=None, coef0=0.0,\n",
            "    decision_function_shape='ovo', degree=3, gamma='scale', kernel='linear',\n",
            "    max_iter=-1, probability=False, random_state=0, shrinking=True, tol=0.001,\n",
            "    verbose=False), SVC(C=1, break_ties=False, cache_size=200, class_weight=None, coef0=0.0,\n",
            "    decision_function_shape='ovo', degree=3, gamma='scale', kernel='linear',\n",
            "    max_iter=-1, probability=False, random_state=0, shrinking=True, tol=0.001,\n",
            "    verbose=False), SVC(C=1, break_ties=False, cache_size=200, class_weight=None, coef0=0.0,\n",
            "    decision_function_shape='ovo', degree=3, gamma='scale', kernel='linear',\n",
            "    max_iter=-1, probability=False, random_state=0, shrinking=True, tol=0.001,\n",
            "    verbose=False), SVC(C=1, break_ties=False, cache_size=200, class_weight=None, coef0=0.0,\n",
            "    decision_function_shape='ovo', degree=3, gamma='scale', kernel='linear',\n",
            "    max_iter=-1, probability=False, random_state=0, shrinking=True, tol=0.001,\n",
            "    verbose=False))\n",
            "[2 2 2 1 3]\n",
            "[[ 3.11669179  1.07540878  4.2762562   0.73911708  0.77523688]\n",
            " [ 2.22105721  3.2607182   4.27356788  0.70589377 -0.24173596]\n",
            " [ 0.76813905  3.23459427  4.27944253  1.82668017 -0.26914591]\n",
            " [-0.30684585  4.30445585  3.29516366  2.27745189  0.69300379]\n",
            " [ 0.7289235   3.23464736  3.15417717  3.27478203 -0.26050765]]\n"
          ],
          "name": "stdout"
        }
      ]
    },
    {
      "cell_type": "markdown",
      "metadata": {
        "id": "IRyzpeGCmlBo",
        "colab_type": "text"
      },
      "source": [
        "### Observations :\n",
        "- The shape of OneVsOneClassifier's decision function is Changed in version 0.19: output shape changed to (n_samples,) to conform to scikit-learn conventions for binary classification.\n",
        "\n",
        "- When meta estimator is applied results are according to the meta estimators,and decision_function_shape becomes irrelevant.\n",
        "\n",
        "- When meta estimator **OneVsOneClassifier** is used, the decision function produced by it resembles that of simple svm with decision_function_shape = 'ovr'. This hints at possible use of OVO strategy by svm internally."
      ]
    },
    {
      "cell_type": "markdown",
      "metadata": {
        "id": "8meZXwOoWnaA",
        "colab_type": "text"
      },
      "source": [
        "# LinearSVC :\n",
        "\n",
        "- Does not support multi_class='ovo'\n",
        "- Supports multi_class='ovr' and multi_class='crammer_singer'. Ovr is preferred."
      ]
    },
    {
      "cell_type": "code",
      "metadata": {
        "id": "YAV-nDJAWrlg",
        "colab_type": "code",
        "colab": {
          "base_uri": "https://localhost:8080/",
          "height": 218
        },
        "outputId": "93b518da-e822-4d7e-85e2-fa2104e9957d"
      },
      "source": [
        "print(\"LinearSVM with ovr startegy :\\n\")\n",
        "linearSvc1 = svm.LinearSVC(C=1,max_iter=10000).fit(X, Y)\n",
        "y_pred_l1 = linearSvc1.predict(X)\n",
        "y_pred_values_l1 = linearSvc1.decision_function(X)\n",
        "print(linearSvc1)\n",
        "print(y_pred_l1[0:5])\n",
        "print(y_pred_values_l1[0:5,:])"
      ],
      "execution_count": null,
      "outputs": [
        {
          "output_type": "stream",
          "text": [
            "LinearSVM with ovr startegy :\n",
            "\n",
            "LinearSVC(C=1, class_weight=None, dual=True, fit_intercept=True,\n",
            "          intercept_scaling=1, loss='squared_hinge', max_iter=10000,\n",
            "          multi_class='ovr', penalty='l2', random_state=None, tol=0.0001,\n",
            "          verbose=0)\n",
            "[2 2 2 1 1]\n",
            "[[-0.55545043 -0.79848614 -0.40586362 -0.75607719 -0.85880374]\n",
            " [-0.52974059 -0.55989459 -0.3733283  -1.17978197 -0.75180764]\n",
            " [-0.78366129 -0.49687015 -0.4172447  -0.69429914 -0.89170184]\n",
            " [-1.50433942  0.50801998 -0.3658002  -0.59658152 -1.06110211]\n",
            " [-1.11333877 -0.05802819 -0.70283318 -0.68056006 -0.56469538]]\n"
          ],
          "name": "stdout"
        }
      ]
    },
    {
      "cell_type": "code",
      "metadata": {
        "id": "OUo7QAnKYHmF",
        "colab_type": "code",
        "colab": {
          "base_uri": "https://localhost:8080/",
          "height": 655
        },
        "outputId": "d35ddea5-f135-4e39-b33f-c424362dd9c1"
      },
      "source": [
        "linear_ovo = OneVsOneClassifier(svm.LinearSVC(random_state=0, C=1, max_iter=10000)).fit(X, Y)\n",
        "\n",
        "print(linear_ovo.n_classes_)\n",
        "print(linear_ovo.estimators_)\n",
        "\n",
        "y_pred_linear_ovo = linear_ovo.predict(X)\n",
        "y_pred_values_linear_ovo = linear_ovo.decision_function(X)\n",
        "print(y_pred_linear_ovo[0:5])\n",
        "print(y_pred_values_linear_ovo[0:5,:])"
      ],
      "execution_count": null,
      "outputs": [
        {
          "output_type": "stream",
          "text": [
            "5\n",
            "(LinearSVC(C=1, class_weight=None, dual=True, fit_intercept=True,\n",
            "          intercept_scaling=1, loss='squared_hinge', max_iter=10000,\n",
            "          multi_class='ovr', penalty='l2', random_state=0, tol=0.0001,\n",
            "          verbose=0), LinearSVC(C=1, class_weight=None, dual=True, fit_intercept=True,\n",
            "          intercept_scaling=1, loss='squared_hinge', max_iter=10000,\n",
            "          multi_class='ovr', penalty='l2', random_state=0, tol=0.0001,\n",
            "          verbose=0), LinearSVC(C=1, class_weight=None, dual=True, fit_intercept=True,\n",
            "          intercept_scaling=1, loss='squared_hinge', max_iter=10000,\n",
            "          multi_class='ovr', penalty='l2', random_state=0, tol=0.0001,\n",
            "          verbose=0), LinearSVC(C=1, class_weight=None, dual=True, fit_intercept=True,\n",
            "          intercept_scaling=1, loss='squared_hinge', max_iter=10000,\n",
            "          multi_class='ovr', penalty='l2', random_state=0, tol=0.0001,\n",
            "          verbose=0), LinearSVC(C=1, class_weight=None, dual=True, fit_intercept=True,\n",
            "          intercept_scaling=1, loss='squared_hinge', max_iter=10000,\n",
            "          multi_class='ovr', penalty='l2', random_state=0, tol=0.0001,\n",
            "          verbose=0), LinearSVC(C=1, class_weight=None, dual=True, fit_intercept=True,\n",
            "          intercept_scaling=1, loss='squared_hinge', max_iter=10000,\n",
            "          multi_class='ovr', penalty='l2', random_state=0, tol=0.0001,\n",
            "          verbose=0), LinearSVC(C=1, class_weight=None, dual=True, fit_intercept=True,\n",
            "          intercept_scaling=1, loss='squared_hinge', max_iter=10000,\n",
            "          multi_class='ovr', penalty='l2', random_state=0, tol=0.0001,\n",
            "          verbose=0), LinearSVC(C=1, class_weight=None, dual=True, fit_intercept=True,\n",
            "          intercept_scaling=1, loss='squared_hinge', max_iter=10000,\n",
            "          multi_class='ovr', penalty='l2', random_state=0, tol=0.0001,\n",
            "          verbose=0), LinearSVC(C=1, class_weight=None, dual=True, fit_intercept=True,\n",
            "          intercept_scaling=1, loss='squared_hinge', max_iter=10000,\n",
            "          multi_class='ovr', penalty='l2', random_state=0, tol=0.0001,\n",
            "          verbose=0), LinearSVC(C=1, class_weight=None, dual=True, fit_intercept=True,\n",
            "          intercept_scaling=1, loss='squared_hinge', max_iter=10000,\n",
            "          multi_class='ovr', penalty='l2', random_state=0, tol=0.0001,\n",
            "          verbose=0))\n",
            "[2 2 2 1 3]\n",
            "[[ 3.0914661   1.07764013  4.21669127  0.78357427  0.86410356]\n",
            " [ 2.16629622  3.22123795  4.21229291  0.73561918 -0.15686178]\n",
            " [-0.16025103  3.18511673  4.22140746  1.85367059  0.7990068 ]\n",
            " [-0.27893038  4.27740827  3.24870274  2.20904537  0.72778536]\n",
            " [-0.22768426  3.19006483  3.06430448  3.21144665  0.82204224]]\n"
          ],
          "name": "stdout"
        }
      ]
    }
  ]
}