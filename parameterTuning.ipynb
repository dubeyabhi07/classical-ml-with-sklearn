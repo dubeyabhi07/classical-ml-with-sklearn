{
  "nbformat": 4,
  "nbformat_minor": 0,
  "metadata": {
    "colab": {
      "name": "parameterTuning.ipynb",
      "provenance": [],
      "authorship_tag": "ABX9TyM59ZRSx4+EAcm3sPgajrg2",
      "include_colab_link": true
    },
    "kernelspec": {
      "name": "python3",
      "display_name": "Python 3"
    }
  },
  "cells": [
    {
      "cell_type": "markdown",
      "metadata": {
        "id": "view-in-github",
        "colab_type": "text"
      },
      "source": [
        "<a href=\"https://colab.research.google.com/github/dubeyabhi07/hands-on-scikit-learn/blob/master/parameterTuning.ipynb\" target=\"_parent\"><img src=\"https://colab.research.google.com/assets/colab-badge.svg\" alt=\"Open In Colab\"/></a>"
      ]
    },
    {
      "cell_type": "code",
      "metadata": {
        "id": "G3lFKc8LQi2e",
        "colab_type": "code",
        "colab": {}
      },
      "source": [
        "from sklearn.datasets import load_iris\n",
        "from sklearn.neighbors import KNeighborsClassifier\n",
        "from sklearn.model_selection import cross_val_score\n",
        "import matplotlib.pyplot as plt\n",
        "\n",
        "# read in the iris data\n",
        "iris = load_iris()\n",
        "\n",
        "# create X (features) and y (response)\n",
        "X = iris.data\n",
        "y = iris.target"
      ],
      "execution_count": 1,
      "outputs": []
    },
    {
      "cell_type": "markdown",
      "metadata": {
        "id": "rMyQ1R8ZPySC",
        "colab_type": "text"
      },
      "source": [
        "# Parameter-tuning using K-fold\n",
        "- Tuning k for KNeighborsClassifier "
      ]
    },
    {
      "cell_type": "code",
      "metadata": {
        "id": "JMkcMCKLP7tn",
        "colab_type": "code",
        "colab": {
          "base_uri": "https://localhost:8080/",
          "height": 70
        },
        "outputId": "dd4241e7-7456-43a3-8734-907a3efff9bf"
      },
      "source": [
        "# search for an optimal value of K for KNN\n",
        "k_range = list(range(1, 15))\n",
        "k_scores = []\n",
        "for k in k_range:\n",
        "    knn = KNeighborsClassifier(n_neighbors=k)\n",
        "    scores = cross_val_score(knn, X, y, cv=10, scoring='accuracy')\n",
        "    k_scores.append(scores.mean())\n",
        "print(k_scores)\n",
        "print(\"Best hyperParameter(k) : %0.2f\"%(max(k_scores)))"
      ],
      "execution_count": 34,
      "outputs": [
        {
          "output_type": "stream",
          "text": [
            "[0.96, 0.9533333333333334, 0.9666666666666666, 0.9666666666666666, 0.9666666666666668, 0.9666666666666668, 0.9666666666666668, 0.9666666666666668, 0.9733333333333334, 0.9666666666666668, 0.9666666666666668, 0.9733333333333334, 0.9800000000000001, 0.9733333333333334]\n",
            "Best hyperParameter(k) : 0.98\n"
          ],
          "name": "stdout"
        }
      ]
    },
    {
      "cell_type": "code",
      "metadata": {
        "id": "7g8BSAGAQb3S",
        "colab_type": "code",
        "colab": {
          "base_uri": "https://localhost:8080/",
          "height": 296
        },
        "outputId": "bdf866a5-87b9-4310-d562-b386fbb4b636"
      },
      "source": [
        "# plot the value of K for KNN (x-axis) versus the cross-validated accuracy (y-axis)\n",
        "plt.plot(k_range, k_scores)\n",
        "plt.xlabel('Value of K for KNN')\n",
        "plt.ylabel('Cross-Validated Accuracy')"
      ],
      "execution_count": 35,
      "outputs": [
        {
          "output_type": "execute_result",
          "data": {
            "text/plain": [
              "Text(0, 0.5, 'Cross-Validated Accuracy')"
            ]
          },
          "metadata": {
            "tags": []
          },
          "execution_count": 35
        },
        {
          "output_type": "display_data",
          "data": {
            "image/png": "[encoded data removed]",
            "text/plain": [
              "<Figure size 432x288 with 1 Axes>"
            ]
          },
          "metadata": {
            "tags": [],
            "needs_background": "light"
          }
        }
      ]
    },
    {
      "cell_type": "markdown",
      "metadata": {
        "id": "2tGiNTtoSSvf",
        "colab_type": "text"
      },
      "source": [
        "# More efficient parameter tuning using GridSearchCV\n",
        "- It allows us to define a grid of parameters that will be searched using K-fold cross-validation"
      ]
    },
    {
      "cell_type": "code",
      "metadata": {
        "id": "70IC9H3ySdsy",
        "colab_type": "code",
        "colab": {
          "base_uri": "https://localhost:8080/",
          "height": 202
        },
        "outputId": "5446597f-90f7-4e7c-d61c-77a6fe232f4f"
      },
      "source": [
        "from sklearn.model_selection import GridSearchCV\n",
        "param_grid = dict(n_neighbors=k_range)\n",
        "knn = KNeighborsClassifier()\n",
        "grid = GridSearchCV(knn, param_grid, cv=10, scoring='accuracy', return_train_score=False)\n",
        "\n",
        "\n",
        "# fit the grid with data\n",
        "grid.fit(X, y)\n",
        "print(grid)\n"
      ],
      "execution_count": 36,
      "outputs": [
        {
          "output_type": "stream",
          "text": [
            "GridSearchCV(cv=10, error_score=nan,\n",
            "             estimator=KNeighborsClassifier(algorithm='auto', leaf_size=30,\n",
            "                                            metric='minkowski',\n",
            "                                            metric_params=None, n_jobs=None,\n",
            "                                            n_neighbors=5, p=2,\n",
            "                                            weights='uniform'),\n",
            "             iid='deprecated', n_jobs=None,\n",
            "             param_grid={'n_neighbors': [1, 2, 3, 4, 5, 6, 7, 8, 9, 10, 11, 12,\n",
            "                                         13, 14]},\n",
            "             pre_dispatch='2*n_jobs', refit=True, return_train_score=False,\n",
            "             scoring='accuracy', verbose=0)\n"
          ],
          "name": "stdout"
        }
      ]
    },
    {
      "cell_type": "code",
      "metadata": {
        "id": "CZHthZbGTRw6",
        "colab_type": "code",
        "colab": {
          "base_uri": "https://localhost:8080/",
          "height": 717
        },
        "outputId": "54f18d0e-f234-4261-bf17-1316f7f626e6"
      },
      "source": [
        "# view the results as a pandas DataFrame\n",
        "import pandas as pd\n",
        "pd.DataFrame(grid.cv_results_)"
      ],
      "execution_count": 37,
      "outputs": [
        {
          "output_type": "execute_result",
          "data": {
            "text/html": [
              "<div>\n",
              "<style scoped>\n",
              "    .dataframe tbody tr th:only-of-type {\n",
              "        vertical-align: middle;\n",
              "    }\n",
              "\n",
              "    .dataframe tbody tr th {\n",
              "        vertical-align: top;\n",
              "    }\n",
              "\n",
              "    .dataframe thead th {\n",
              "        text-align: right;\n",
              "    }\n",
              "</style>\n",
              "<table border=\"1\" class=\"dataframe\">\n",
              "  <thead>\n",
              "    <tr style=\"text-align: right;\">\n",
              "      <th></th>\n",
              "      <th>mean_fit_time</th>\n",
              "      <th>std_fit_time</th>\n",
              "      <th>mean_score_time</th>\n",
              "      <th>std_score_time</th>\n",
              "      <th>param_n_neighbors</th>\n",
              "      <th>params</th>\n",
              "      <th>split0_test_score</th>\n",
              "      <th>split1_test_score</th>\n",
              "      <th>split2_test_score</th>\n",
              "      <th>split3_test_score</th>\n",
              "      <th>split4_test_score</th>\n",
              "      <th>split5_test_score</th>\n",
              "      <th>split6_test_score</th>\n",
              "      <th>split7_test_score</th>\n",
              "      <th>split8_test_score</th>\n",
              "      <th>split9_test_score</th>\n",
              "      <th>mean_test_score</th>\n",
              "      <th>std_test_score</th>\n",
              "      <th>rank_test_score</th>\n",
              "    </tr>\n",
              "  </thead>\n",
              "  <tbody>\n",
              "    <tr>\n",
              "      <th>0</th>\n",
              "      <td>0.000589</td>\n",
              "      <td>0.000254</td>\n",
              "      <td>0.001448</td>\n",
              "      <td>0.000445</td>\n",
              "      <td>1</td>\n",
              "      <td>{'n_neighbors': 1}</td>\n",
              "      <td>1.0</td>\n",
              "      <td>0.933333</td>\n",
              "      <td>1.0</td>\n",
              "      <td>0.933333</td>\n",
              "      <td>0.866667</td>\n",
              "      <td>1.000000</td>\n",
              "      <td>0.866667</td>\n",
              "      <td>1.000000</td>\n",
              "      <td>1.0</td>\n",
              "      <td>1.0</td>\n",
              "      <td>0.960000</td>\n",
              "      <td>0.053333</td>\n",
              "      <td>13</td>\n",
              "    </tr>\n",
              "    <tr>\n",
              "      <th>1</th>\n",
              "      <td>0.000415</td>\n",
              "      <td>0.000020</td>\n",
              "      <td>0.001151</td>\n",
              "      <td>0.000075</td>\n",
              "      <td>2</td>\n",
              "      <td>{'n_neighbors': 2}</td>\n",
              "      <td>1.0</td>\n",
              "      <td>0.933333</td>\n",
              "      <td>1.0</td>\n",
              "      <td>0.933333</td>\n",
              "      <td>0.866667</td>\n",
              "      <td>1.000000</td>\n",
              "      <td>0.866667</td>\n",
              "      <td>0.933333</td>\n",
              "      <td>1.0</td>\n",
              "      <td>1.0</td>\n",
              "      <td>0.953333</td>\n",
              "      <td>0.052068</td>\n",
              "      <td>14</td>\n",
              "    </tr>\n",
              "    <tr>\n",
              "      <th>2</th>\n",
              "      <td>0.000419</td>\n",
              "      <td>0.000019</td>\n",
              "      <td>0.001166</td>\n",
              "      <td>0.000090</td>\n",
              "      <td>3</td>\n",
              "      <td>{'n_neighbors': 3}</td>\n",
              "      <td>1.0</td>\n",
              "      <td>0.933333</td>\n",
              "      <td>1.0</td>\n",
              "      <td>0.933333</td>\n",
              "      <td>0.866667</td>\n",
              "      <td>1.000000</td>\n",
              "      <td>0.933333</td>\n",
              "      <td>1.000000</td>\n",
              "      <td>1.0</td>\n",
              "      <td>1.0</td>\n",
              "      <td>0.966667</td>\n",
              "      <td>0.044721</td>\n",
              "      <td>11</td>\n",
              "    </tr>\n",
              "    <tr>\n",
              "      <th>3</th>\n",
              "      <td>0.000413</td>\n",
              "      <td>0.000018</td>\n",
              "      <td>0.001193</td>\n",
              "      <td>0.000115</td>\n",
              "      <td>4</td>\n",
              "      <td>{'n_neighbors': 4}</td>\n",
              "      <td>1.0</td>\n",
              "      <td>0.933333</td>\n",
              "      <td>1.0</td>\n",
              "      <td>0.933333</td>\n",
              "      <td>0.866667</td>\n",
              "      <td>1.000000</td>\n",
              "      <td>0.933333</td>\n",
              "      <td>1.000000</td>\n",
              "      <td>1.0</td>\n",
              "      <td>1.0</td>\n",
              "      <td>0.966667</td>\n",
              "      <td>0.044721</td>\n",
              "      <td>11</td>\n",
              "    </tr>\n",
              "    <tr>\n",
              "      <th>4</th>\n",
              "      <td>0.000471</td>\n",
              "      <td>0.000084</td>\n",
              "      <td>0.001298</td>\n",
              "      <td>0.000222</td>\n",
              "      <td>5</td>\n",
              "      <td>{'n_neighbors': 5}</td>\n",
              "      <td>1.0</td>\n",
              "      <td>0.933333</td>\n",
              "      <td>1.0</td>\n",
              "      <td>1.000000</td>\n",
              "      <td>0.866667</td>\n",
              "      <td>0.933333</td>\n",
              "      <td>0.933333</td>\n",
              "      <td>1.000000</td>\n",
              "      <td>1.0</td>\n",
              "      <td>1.0</td>\n",
              "      <td>0.966667</td>\n",
              "      <td>0.044721</td>\n",
              "      <td>5</td>\n",
              "    </tr>\n",
              "    <tr>\n",
              "      <th>5</th>\n",
              "      <td>0.000416</td>\n",
              "      <td>0.000020</td>\n",
              "      <td>0.001158</td>\n",
              "      <td>0.000068</td>\n",
              "      <td>6</td>\n",
              "      <td>{'n_neighbors': 6}</td>\n",
              "      <td>1.0</td>\n",
              "      <td>0.933333</td>\n",
              "      <td>1.0</td>\n",
              "      <td>1.000000</td>\n",
              "      <td>0.866667</td>\n",
              "      <td>0.933333</td>\n",
              "      <td>0.933333</td>\n",
              "      <td>1.000000</td>\n",
              "      <td>1.0</td>\n",
              "      <td>1.0</td>\n",
              "      <td>0.966667</td>\n",
              "      <td>0.044721</td>\n",
              "      <td>5</td>\n",
              "    </tr>\n",
              "    <tr>\n",
              "      <th>6</th>\n",
              "      <td>0.000420</td>\n",
              "      <td>0.000026</td>\n",
              "      <td>0.001139</td>\n",
              "      <td>0.000011</td>\n",
              "      <td>7</td>\n",
              "      <td>{'n_neighbors': 7}</td>\n",
              "      <td>1.0</td>\n",
              "      <td>0.933333</td>\n",
              "      <td>1.0</td>\n",
              "      <td>1.000000</td>\n",
              "      <td>0.866667</td>\n",
              "      <td>0.933333</td>\n",
              "      <td>0.933333</td>\n",
              "      <td>1.000000</td>\n",
              "      <td>1.0</td>\n",
              "      <td>1.0</td>\n",
              "      <td>0.966667</td>\n",
              "      <td>0.044721</td>\n",
              "      <td>5</td>\n",
              "    </tr>\n",
              "    <tr>\n",
              "      <th>7</th>\n",
              "      <td>0.000417</td>\n",
              "      <td>0.000020</td>\n",
              "      <td>0.001155</td>\n",
              "      <td>0.000023</td>\n",
              "      <td>8</td>\n",
              "      <td>{'n_neighbors': 8}</td>\n",
              "      <td>1.0</td>\n",
              "      <td>0.933333</td>\n",
              "      <td>1.0</td>\n",
              "      <td>1.000000</td>\n",
              "      <td>1.000000</td>\n",
              "      <td>0.866667</td>\n",
              "      <td>0.933333</td>\n",
              "      <td>0.933333</td>\n",
              "      <td>1.0</td>\n",
              "      <td>1.0</td>\n",
              "      <td>0.966667</td>\n",
              "      <td>0.044721</td>\n",
              "      <td>5</td>\n",
              "    </tr>\n",
              "    <tr>\n",
              "      <th>8</th>\n",
              "      <td>0.000416</td>\n",
              "      <td>0.000021</td>\n",
              "      <td>0.001196</td>\n",
              "      <td>0.000098</td>\n",
              "      <td>9</td>\n",
              "      <td>{'n_neighbors': 9}</td>\n",
              "      <td>1.0</td>\n",
              "      <td>0.933333</td>\n",
              "      <td>1.0</td>\n",
              "      <td>1.000000</td>\n",
              "      <td>1.000000</td>\n",
              "      <td>0.933333</td>\n",
              "      <td>0.933333</td>\n",
              "      <td>0.933333</td>\n",
              "      <td>1.0</td>\n",
              "      <td>1.0</td>\n",
              "      <td>0.973333</td>\n",
              "      <td>0.032660</td>\n",
              "      <td>2</td>\n",
              "    </tr>\n",
              "    <tr>\n",
              "      <th>9</th>\n",
              "      <td>0.000417</td>\n",
              "      <td>0.000016</td>\n",
              "      <td>0.001174</td>\n",
              "      <td>0.000054</td>\n",
              "      <td>10</td>\n",
              "      <td>{'n_neighbors': 10}</td>\n",
              "      <td>1.0</td>\n",
              "      <td>0.933333</td>\n",
              "      <td>1.0</td>\n",
              "      <td>1.000000</td>\n",
              "      <td>1.000000</td>\n",
              "      <td>0.866667</td>\n",
              "      <td>0.933333</td>\n",
              "      <td>0.933333</td>\n",
              "      <td>1.0</td>\n",
              "      <td>1.0</td>\n",
              "      <td>0.966667</td>\n",
              "      <td>0.044721</td>\n",
              "      <td>5</td>\n",
              "    </tr>\n",
              "    <tr>\n",
              "      <th>10</th>\n",
              "      <td>0.000412</td>\n",
              "      <td>0.000012</td>\n",
              "      <td>0.001166</td>\n",
              "      <td>0.000026</td>\n",
              "      <td>11</td>\n",
              "      <td>{'n_neighbors': 11}</td>\n",
              "      <td>1.0</td>\n",
              "      <td>0.933333</td>\n",
              "      <td>1.0</td>\n",
              "      <td>1.000000</td>\n",
              "      <td>1.000000</td>\n",
              "      <td>0.866667</td>\n",
              "      <td>0.933333</td>\n",
              "      <td>0.933333</td>\n",
              "      <td>1.0</td>\n",
              "      <td>1.0</td>\n",
              "      <td>0.966667</td>\n",
              "      <td>0.044721</td>\n",
              "      <td>5</td>\n",
              "    </tr>\n",
              "    <tr>\n",
              "      <th>11</th>\n",
              "      <td>0.000415</td>\n",
              "      <td>0.000017</td>\n",
              "      <td>0.001181</td>\n",
              "      <td>0.000073</td>\n",
              "      <td>12</td>\n",
              "      <td>{'n_neighbors': 12}</td>\n",
              "      <td>1.0</td>\n",
              "      <td>0.933333</td>\n",
              "      <td>1.0</td>\n",
              "      <td>1.000000</td>\n",
              "      <td>1.000000</td>\n",
              "      <td>0.933333</td>\n",
              "      <td>0.933333</td>\n",
              "      <td>0.933333</td>\n",
              "      <td>1.0</td>\n",
              "      <td>1.0</td>\n",
              "      <td>0.973333</td>\n",
              "      <td>0.032660</td>\n",
              "      <td>2</td>\n",
              "    </tr>\n",
              "    <tr>\n",
              "      <th>12</th>\n",
              "      <td>0.000416</td>\n",
              "      <td>0.000021</td>\n",
              "      <td>0.001147</td>\n",
              "      <td>0.000008</td>\n",
              "      <td>13</td>\n",
              "      <td>{'n_neighbors': 13}</td>\n",
              "      <td>1.0</td>\n",
              "      <td>0.933333</td>\n",
              "      <td>1.0</td>\n",
              "      <td>1.000000</td>\n",
              "      <td>1.000000</td>\n",
              "      <td>0.933333</td>\n",
              "      <td>0.933333</td>\n",
              "      <td>1.000000</td>\n",
              "      <td>1.0</td>\n",
              "      <td>1.0</td>\n",
              "      <td>0.980000</td>\n",
              "      <td>0.030551</td>\n",
              "      <td>1</td>\n",
              "    </tr>\n",
              "    <tr>\n",
              "      <th>13</th>\n",
              "      <td>0.000412</td>\n",
              "      <td>0.000014</td>\n",
              "      <td>0.001178</td>\n",
              "      <td>0.000046</td>\n",
              "      <td>14</td>\n",
              "      <td>{'n_neighbors': 14}</td>\n",
              "      <td>1.0</td>\n",
              "      <td>0.933333</td>\n",
              "      <td>1.0</td>\n",
              "      <td>1.000000</td>\n",
              "      <td>1.000000</td>\n",
              "      <td>0.866667</td>\n",
              "      <td>0.933333</td>\n",
              "      <td>1.000000</td>\n",
              "      <td>1.0</td>\n",
              "      <td>1.0</td>\n",
              "      <td>0.973333</td>\n",
              "      <td>0.044222</td>\n",
              "      <td>2</td>\n",
              "    </tr>\n",
              "  </tbody>\n",
              "</table>\n",
              "</div>"
            ],
            "text/plain": [
              "    mean_fit_time  std_fit_time  ...  std_test_score  rank_test_score\n",
              "0        0.000589      0.000254  ...        0.053333               13\n",
              "1        0.000415      0.000020  ...        0.052068               14\n",
              "2        0.000419      0.000019  ...        0.044721               11\n",
              "3        0.000413      0.000018  ...        0.044721               11\n",
              "4        0.000471      0.000084  ...        0.044721                5\n",
              "5        0.000416      0.000020  ...        0.044721                5\n",
              "6        0.000420      0.000026  ...        0.044721                5\n",
              "7        0.000417      0.000020  ...        0.044721                5\n",
              "8        0.000416      0.000021  ...        0.032660                2\n",
              "9        0.000417      0.000016  ...        0.044721                5\n",
              "10       0.000412      0.000012  ...        0.044721                5\n",
              "11       0.000415      0.000017  ...        0.032660                2\n",
              "12       0.000416      0.000021  ...        0.030551                1\n",
              "13       0.000412      0.000014  ...        0.044222                2\n",
              "\n",
              "[14 rows x 19 columns]"
            ]
          },
          "metadata": {
            "tags": []
          },
          "execution_count": 37
        }
      ]
    },
    {
      "cell_type": "code",
      "metadata": {
        "id": "vQ_pwLa6Twte",
        "colab_type": "code",
        "colab": {
          "base_uri": "https://localhost:8080/",
          "height": 296
        },
        "outputId": "bd075933-82e3-428b-bf02-3a7abfcfa6e5"
      },
      "source": [
        "# plot the results\n",
        "plt.plot(k_range, grid.cv_results_['mean_test_score'])\n",
        "plt.xlabel('Value of K for KNN')\n",
        "plt.ylabel('Cross-Validated Accuracy')"
      ],
      "execution_count": 38,
      "outputs": [
        {
          "output_type": "execute_result",
          "data": {
            "text/plain": [
              "Text(0, 0.5, 'Cross-Validated Accuracy')"
            ]
          },
          "metadata": {
            "tags": []
          },
          "execution_count": 38
        },
        {
          "output_type": "display_data",
          "data": {
            "image/png": "[encoded data removed]",
            "text/plain": [
              "<Figure size 432x288 with 1 Axes>"
            ]
          },
          "metadata": {
            "tags": [],
            "needs_background": "light"
          }
        }
      ]
    },
    {
      "cell_type": "code",
      "metadata": {
        "id": "mktkuF4xUdft",
        "colab_type": "code",
        "colab": {
          "base_uri": "https://localhost:8080/",
          "height": 101
        },
        "outputId": "d697ec5e-31ad-4b0b-d70c-5fc89621e8f8"
      },
      "source": [
        "# examine the best model\n",
        "print(grid.best_score_)\n",
        "print(grid.best_params_)\n",
        "print(grid.best_estimator_)"
      ],
      "execution_count": 39,
      "outputs": [
        {
          "output_type": "stream",
          "text": [
            "0.9800000000000001\n",
            "{'n_neighbors': 13}\n",
            "KNeighborsClassifier(algorithm='auto', leaf_size=30, metric='minkowski',\n",
            "                     metric_params=None, n_jobs=None, n_neighbors=13, p=2,\n",
            "                     weights='uniform')\n"
          ],
          "name": "stdout"
        }
      ]
    },
    {
      "cell_type": "markdown",
      "metadata": {
        "id": "6MVRwEVmV8ZW",
        "colab_type": "text"
      },
      "source": [
        "# Using RandomizedSearchCV and multi-parameter tuning\n",
        "\n",
        "- Searching many different parameters at once may be computationally infeasible\n",
        "- RandomizedSearchCV searches a subset of the parameters, and you control the computational \"budget\""
      ]
    },
    {
      "cell_type": "code",
      "metadata": {
        "id": "bgZA2SoKVflU",
        "colab_type": "code",
        "colab": {
          "base_uri": "https://localhost:8080/",
          "height": 343
        },
        "outputId": "495a4b42-2acc-45b4-96eb-04211ad1826a"
      },
      "source": [
        "from sklearn.model_selection import RandomizedSearchCV\n",
        "# specify \"parameter distributions\" rather than a \"parameter grid\"\n",
        "weight_options = ['uniform', 'distance']\n",
        "param_dist = dict(n_neighbors=k_range, weights=weight_options)\n",
        "\n",
        "rand = RandomizedSearchCV(knn, param_dist, cv=10, scoring='accuracy', n_iter=10, random_state=5, return_train_score=False)\n",
        "rand.fit(X, y)\n",
        "pd.DataFrame(rand.cv_results_)[['mean_test_score', 'std_test_score', 'params']]"
      ],
      "execution_count": 41,
      "outputs": [
        {
          "output_type": "execute_result",
          "data": {
            "text/html": [
              "<div>\n",
              "<style scoped>\n",
              "    .dataframe tbody tr th:only-of-type {\n",
              "        vertical-align: middle;\n",
              "    }\n",
              "\n",
              "    .dataframe tbody tr th {\n",
              "        vertical-align: top;\n",
              "    }\n",
              "\n",
              "    .dataframe thead th {\n",
              "        text-align: right;\n",
              "    }\n",
              "</style>\n",
              "<table border=\"1\" class=\"dataframe\">\n",
              "  <thead>\n",
              "    <tr style=\"text-align: right;\">\n",
              "      <th></th>\n",
              "      <th>mean_test_score</th>\n",
              "      <th>std_test_score</th>\n",
              "      <th>params</th>\n",
              "    </tr>\n",
              "  </thead>\n",
              "  <tbody>\n",
              "    <tr>\n",
              "      <th>0</th>\n",
              "      <td>0.966667</td>\n",
              "      <td>0.044721</td>\n",
              "      <td>{'weights': 'uniform', 'n_neighbors': 6}</td>\n",
              "    </tr>\n",
              "    <tr>\n",
              "      <th>1</th>\n",
              "      <td>0.973333</td>\n",
              "      <td>0.032660</td>\n",
              "      <td>{'weights': 'distance', 'n_neighbors': 14}</td>\n",
              "    </tr>\n",
              "    <tr>\n",
              "      <th>2</th>\n",
              "      <td>0.966667</td>\n",
              "      <td>0.044721</td>\n",
              "      <td>{'weights': 'distance', 'n_neighbors': 6}</td>\n",
              "    </tr>\n",
              "    <tr>\n",
              "      <th>3</th>\n",
              "      <td>0.966667</td>\n",
              "      <td>0.044721</td>\n",
              "      <td>{'weights': 'uniform', 'n_neighbors': 11}</td>\n",
              "    </tr>\n",
              "    <tr>\n",
              "      <th>4</th>\n",
              "      <td>0.973333</td>\n",
              "      <td>0.032660</td>\n",
              "      <td>{'weights': 'distance', 'n_neighbors': 11}</td>\n",
              "    </tr>\n",
              "    <tr>\n",
              "      <th>5</th>\n",
              "      <td>0.953333</td>\n",
              "      <td>0.052068</td>\n",
              "      <td>{'weights': 'uniform', 'n_neighbors': 2}</td>\n",
              "    </tr>\n",
              "    <tr>\n",
              "      <th>6</th>\n",
              "      <td>0.973333</td>\n",
              "      <td>0.044222</td>\n",
              "      <td>{'weights': 'uniform', 'n_neighbors': 14}</td>\n",
              "    </tr>\n",
              "    <tr>\n",
              "      <th>7</th>\n",
              "      <td>0.980000</td>\n",
              "      <td>0.030551</td>\n",
              "      <td>{'weights': 'uniform', 'n_neighbors': 13}</td>\n",
              "    </tr>\n",
              "    <tr>\n",
              "      <th>8</th>\n",
              "      <td>0.973333</td>\n",
              "      <td>0.032660</td>\n",
              "      <td>{'weights': 'distance', 'n_neighbors': 10}</td>\n",
              "    </tr>\n",
              "    <tr>\n",
              "      <th>9</th>\n",
              "      <td>0.966667</td>\n",
              "      <td>0.044721</td>\n",
              "      <td>{'weights': 'distance', 'n_neighbors': 7}</td>\n",
              "    </tr>\n",
              "  </tbody>\n",
              "</table>\n",
              "</div>"
            ],
            "text/plain": [
              "   mean_test_score  std_test_score                                      params\n",
              "0         0.966667        0.044721    {'weights': 'uniform', 'n_neighbors': 6}\n",
              "1         0.973333        0.032660  {'weights': 'distance', 'n_neighbors': 14}\n",
              "2         0.966667        0.044721   {'weights': 'distance', 'n_neighbors': 6}\n",
              "3         0.966667        0.044721   {'weights': 'uniform', 'n_neighbors': 11}\n",
              "4         0.973333        0.032660  {'weights': 'distance', 'n_neighbors': 11}\n",
              "5         0.953333        0.052068    {'weights': 'uniform', 'n_neighbors': 2}\n",
              "6         0.973333        0.044222   {'weights': 'uniform', 'n_neighbors': 14}\n",
              "7         0.980000        0.030551   {'weights': 'uniform', 'n_neighbors': 13}\n",
              "8         0.973333        0.032660  {'weights': 'distance', 'n_neighbors': 10}\n",
              "9         0.966667        0.044721   {'weights': 'distance', 'n_neighbors': 7}"
            ]
          },
          "metadata": {
            "tags": []
          },
          "execution_count": 41
        }
      ]
    },
    {
      "cell_type": "code",
      "metadata": {
        "id": "hsVITXDBWik2",
        "colab_type": "code",
        "colab": {
          "base_uri": "https://localhost:8080/",
          "height": 101
        },
        "outputId": "f68f845e-7d43-4d44-8ab3-341091fd9001"
      },
      "source": [
        "print(rand.best_score_)\n",
        "print(rand.best_params_)\n",
        "print(rand.best_estimator_)"
      ],
      "execution_count": 42,
      "outputs": [
        {
          "output_type": "stream",
          "text": [
            "0.9800000000000001\n",
            "{'weights': 'uniform', 'n_neighbors': 13}\n",
            "KNeighborsClassifier(algorithm='auto', leaf_size=30, metric='minkowski',\n",
            "                     metric_params=None, n_jobs=None, n_neighbors=13, p=2,\n",
            "                     weights='uniform')\n"
          ],
          "name": "stdout"
        }
      ]
    },
    {
      "cell_type": "markdown",
      "metadata": {
        "id": "l4xFVacOXGpb",
        "colab_type": "text"
      },
      "source": [
        "- Above code selects same Model in 10 iterations. \n",
        "- Grid search would have done 2*15 iterations."
      ]
    }
  ]
}