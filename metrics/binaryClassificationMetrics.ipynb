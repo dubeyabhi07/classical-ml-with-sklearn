{
  "nbformat": 4,
  "nbformat_minor": 0,
  "metadata": {
    "colab": {
      "name": "binaryClassificationMetrics.ipynb",
      "provenance": [],
      "collapsed_sections": [],
      "authorship_tag": "ABX9TyM+xCwE8UdjZQke9Chv5wZP",
      "include_colab_link": true
    },
    "kernelspec": {
      "name": "python3",
      "display_name": "Python 3"
    }
  },
  "cells": [
    {
      "cell_type": "markdown",
      "metadata": {
        "id": "view-in-github",
        "colab_type": "text"
      },
      "source": [
        "<a href=\"https://colab.research.google.com/github/dubeyabhi07/hands-on-scikit-learn/blob/master/metrics/binaryClassificationMetrics.ipynb\" target=\"_parent\"><img src=\"https://colab.research.google.com/assets/colab-badge.svg\" alt=\"Open In Colab\"/></a>"
      ]
    },
    {
      "cell_type": "code",
      "metadata": {
        "id": "EiuQKVlTeL3B",
        "colab_type": "code",
        "colab": {}
      },
      "source": [
        "from sklearn.datasets import load_breast_cancer\n",
        "from sklearn.neighbors import KNeighborsClassifier\n",
        "from sklearn.model_selection import cross_val_score\n",
        "import matplotlib.pyplot as plt\n",
        "\n",
        "# read in the iris data\n",
        "cancer = load_breast_cancer()\n",
        "\n",
        "# create X (features) and y (response)\n",
        "X = cancer.data\n",
        "y = cancer.target"
      ],
      "execution_count": null,
      "outputs": []
    },
    {
      "cell_type": "markdown",
      "metadata": {
        "id": "qSjVzLq1a8dS",
        "colab_type": "text"
      },
      "source": [
        "# Classification accuracy\n",
        "- Useful when data is balanced.\n",
        "- For an unbalanced data-set (say 90% belong to class-1), even null accuracy is 90%."
      ]
    },
    {
      "cell_type": "code",
      "metadata": {
        "id": "rEEsCv1HcHEP",
        "colab_type": "code",
        "colab": {
          "base_uri": "https://localhost:8080/",
          "height": 34
        },
        "outputId": "06003b55-c67e-4148-fe25-5df822e32c37"
      },
      "source": [
        "# split X and y into training and testing sets\n",
        "from sklearn.model_selection import train_test_split\n",
        "X_train, X_test, y_train, y_test = train_test_split(X, y,test_size=0.33, random_state=0)\n",
        "knn = KNeighborsClassifier(n_neighbors=5)\n",
        "knn.fit(X_train, y_train)\n",
        "\n",
        "# calculate accuracy\n",
        "y_pred = knn.predict(X_test)\n",
        "print(metrics.accuracy_score(y_test, y_pred))"
      ],
      "execution_count": null,
      "outputs": [
        {
          "output_type": "stream",
          "text": [
            "0.9468085106382979\n"
          ],
          "name": "stdout"
        }
      ]
    },
    {
      "cell_type": "markdown",
      "metadata": {
        "id": "2_n2u96gf22f",
        "colab_type": "text"
      },
      "source": [
        "# Confusion Matrix\n",
        "- Useful for all kind of dataset (balanced/unbalanced)  \n",
        "\n",
        "### Basic terminology\n",
        "\n",
        "- True Positives (mat[1][1]): we correctly predicted that they do have cancer.\n",
        "- True Negatives (mat[0][0]): we correctly predicted that they don't have cancer.\n",
        "- False Positives (mat[0][1]): we incorrectly predicted that they do have cancer (a \"Type I error\") \n",
        "- False Negatives (mat[1][0]): we incorrectly predicted that they don't have cancer (a \"Type II error\")."
      ]
    },
    {
      "cell_type": "code",
      "metadata": {
        "id": "A4Wl4G7UgBGY",
        "colab_type": "code",
        "colab": {
          "base_uri": "https://localhost:8080/",
          "height": 313
        },
        "outputId": "39ac7476-9966-4a3f-8dcb-8cf1d198243d"
      },
      "source": [
        "# IMPORTANT: first argument is true values, second argument is predicted values\n",
        "print(metrics.confusion_matrix(y_test, y_pred))\n",
        "\n",
        "from sklearn.metrics import plot_confusion_matrix\n",
        "x =plot_confusion_matrix(knn, X_test, y_test,values_format = 'd')  # doctest: +SKIP\n",
        "plt.show()"
      ],
      "execution_count": null,
      "outputs": [
        {
          "output_type": "stream",
          "text": [
            "[[ 63   4]\n",
            " [  6 115]]\n"
          ],
          "name": "stdout"
        },
        {
          "output_type": "display_data",
          "data": {
            "image/png": "[encoded data removed]",
            "text/plain": [
              "<Figure size 432x288 with 2 Axes>"
            ]
          },
          "metadata": {
            "tags": [],
            "needs_background": "light"
          }
        }
      ]
    },
    {
      "cell_type": "code",
      "metadata": {
        "id": "PVzBY0A0gT84",
        "colab_type": "code",
        "colab": {}
      },
      "source": [
        "confusion = metrics.confusion_matrix(y_test, y_pred)\n",
        "TP = confusion[1, 1]\n",
        "TN = confusion[0, 0]\n",
        "FP = confusion[0, 1]\n",
        "FN = confusion[1, 0]"
      ],
      "execution_count": null,
      "outputs": []
    },
    {
      "cell_type": "markdown",
      "metadata": {
        "id": "EsniZ8Omjig7",
        "colab_type": "text"
      },
      "source": [
        "# Sensitivity Or Recall: \n",
        "\n",
        "- When the actual value is positive, how often is the prediction correct?\n",
        "- How \"sensitive\" is the classifier to detecting positive instances?\n",
        "- Also known as \"True Positive Rate\"."
      ]
    },
    {
      "cell_type": "code",
      "metadata": {
        "id": "vpgctZShktS5",
        "colab_type": "code",
        "colab": {
          "base_uri": "https://localhost:8080/",
          "height": 50
        },
        "outputId": "d73581b4-f646-4d59-9f3b-e8aa1546a782"
      },
      "source": [
        "print(TP / float(TP + FN))\n",
        "print(metrics.recall_score(y_test, y_pred))"
      ],
      "execution_count": null,
      "outputs": [
        {
          "output_type": "stream",
          "text": [
            "0.9504132231404959\n",
            "0.9504132231404959\n"
          ],
          "name": "stdout"
        }
      ]
    },
    {
      "cell_type": "markdown",
      "metadata": {
        "id": "AebiEn30kUyB",
        "colab_type": "text"
      },
      "source": [
        "# Specificity and False-positive-rate: \n",
        "\n",
        "- Specificity is : when the actual value is negative, how often is the prediction correct?\n",
        "- How \"specific\" (or \"selective\") is the classifier in predicting positive instances?\n",
        "\n",
        "- False-positive-rate is (1-specificity)"
      ]
    },
    {
      "cell_type": "code",
      "metadata": {
        "id": "MrSqm6ZFjhan",
        "colab_type": "code",
        "colab": {
          "base_uri": "https://localhost:8080/",
          "height": 50
        },
        "outputId": "5c8db6e5-e4cb-4627-f1e4-b7f9b8d13179"
      },
      "source": [
        "print(\"Specificity : %0.2f\" % (TN / float(TN + FP)))\n",
        "print(\"false-positive-rate: %0.2f\" %(FP / float(TN + FP)))"
      ],
      "execution_count": null,
      "outputs": [
        {
          "output_type": "stream",
          "text": [
            "Specificity : 0.94\n",
            "false-positive-rate: 0.06\n"
          ],
          "name": "stdout"
        }
      ]
    },
    {
      "cell_type": "markdown",
      "metadata": {
        "id": "TK0Ajzn_mkwg",
        "colab_type": "text"
      },
      "source": [
        "# Precision: \n",
        "- When a positive value is predicted, how often is the prediction correct?\n",
        "- How \"precise\" is the classifier when predicting positive instances?"
      ]
    },
    {
      "cell_type": "code",
      "metadata": {
        "id": "VNn61i6NmkNs",
        "colab_type": "code",
        "colab": {
          "base_uri": "https://localhost:8080/",
          "height": 50
        },
        "outputId": "d1011555-58f1-4e15-b64c-0b60323cce35"
      },
      "source": [
        "print(TP / float(TP + FP))\n",
        "print(metrics.precision_score(y_test, y_pred))"
      ],
      "execution_count": null,
      "outputs": [
        {
          "output_type": "stream",
          "text": [
            "0.9663865546218487\n",
            "0.9663865546218487\n"
          ],
          "name": "stdout"
        }
      ]
    },
    {
      "cell_type": "markdown",
      "metadata": {
        "id": "-hIApTQvmQ4_",
        "colab_type": "text"
      },
      "source": [
        "# Takeaways\n",
        "\n",
        "- Choice of metric depends on your business objective\n",
        "- Spam filter (positive class is \"spam\"): Optimize for precision or specificity because false negatives (spam goes to the inbox) are more acceptable than false positives (non-spam is caught by the spam filter)\n",
        "- Fraudulent transaction detector (positive class is \"fraud\"): Optimize for sensitivity because false positives (normal transactions that are flagged as possible fraud) are more acceptable than false negatives (fraudulent transactions that are not detected)"
      ]
    },
    {
      "cell_type": "markdown",
      "metadata": {
        "id": "XHGNCq0cZcNz",
        "colab_type": "text"
      },
      "source": [
        "# All Useful Metrics:\n",
        "- Covered already:\n",
        "  - **accuracy_score()**\n",
        "  - **recall_score()**\n",
        "  - **precision_score()**\n",
        "- Others: \n",
        "  - **fbeta_score()** : (1+b^2)((precison)x(recall))/(b^2)x(precison) + recall). When b is 0, it becomes precison and b is inf, it becomes recall. When FP can to be tolerated but not FN (cancer detection case), recall should be given more weightage and hence b>1.  \n",
        "  - **f1_score()** : when b=1, both precision and recall are equaly important.\n",
        "  - **precision_recall_fscore_support()** : Compute precision, recall, F-measure and support for each class.\n",
        "  - **balanced_accuracy_score** : average recall of each class.\n",
        "  - **classification_report** : self-explainatory.\n",
        "\n",
        "- Explained later :\n",
        "  - **roc_auc_score**\n",
        "  - **average_precision_score**\n"
      ]
    },
    {
      "cell_type": "code",
      "metadata": {
        "id": "v6_ccfNJZTN1",
        "colab_type": "code",
        "colab": {
          "base_uri": "https://localhost:8080/",
          "height": 403
        },
        "outputId": "197421ee-a64d-4332-bbbc-e15ab796a5a1"
      },
      "source": [
        "print(\"output of fbeta_score : \")\n",
        "print(metrics.fbeta_score(y_test, y_pred, beta=0))\n",
        "print(metrics.fbeta_score(y_test, y_pred, beta=0.5))\n",
        "print(metrics.f1_score(y_test, y_pred))\n",
        "print(metrics.fbeta_score(y_test, y_pred, beta=2.0))\n",
        "\n",
        "print(\"\\noutput of precison_recall_fscore_support : \")\n",
        "print(metrics.precision_recall_fscore_support(y_test,y_pred,beta=1))\n",
        "print(metrics.precision_recall_fscore_support(y_test,y_pred,beta=2))\n",
        "\n",
        "\n",
        "print(\"\\noutput of balanced_accuracy_score : \")\n",
        "print(metrics.balanced_accuracy_score(y_test,y_pred))\n",
        "\n",
        "print(\"\\noutput of classification_report: \")\n",
        "print(metrics.classification_report(y_test,y_pred))\n",
        "\n",
        "\n"
      ],
      "execution_count": null,
      "outputs": [
        {
          "output_type": "stream",
          "text": [
            "output of fbeta_score : \n",
            "0.9663865546218487\n",
            "0.9631490787269682\n",
            "0.9583333333333334\n",
            "0.9535655058043118\n",
            "\n",
            "output of precison_recall_fscore_support : \n",
            "(array([0.91304348, 0.96638655]), array([0.94029851, 0.95041322]), array([0.92647059, 0.95833333]), array([ 67, 121]))\n",
            "(array([0.91304348, 0.96638655]), array([0.94029851, 0.95041322]), array([0.9347181 , 0.95356551]), array([ 67, 121]))\n",
            "\n",
            "output of balanced_accuracy_score : \n",
            "0.9453558653015912\n",
            "\n",
            "output of classification_report: \n",
            "              precision    recall  f1-score   support\n",
            "\n",
            "           0       0.91      0.94      0.93        67\n",
            "           1       0.97      0.95      0.96       121\n",
            "\n",
            "    accuracy                           0.95       188\n",
            "   macro avg       0.94      0.95      0.94       188\n",
            "weighted avg       0.95      0.95      0.95       188\n",
            "\n"
          ],
          "name": "stdout"
        }
      ]
    },
    {
      "cell_type": "markdown",
      "metadata": {
        "id": "FkjVSn-XGJQu",
        "colab_type": "text"
      },
      "source": [
        "# ROC Curves and Area Under the Curve (AUC)\n",
        "\n",
        "- Threshold of 0.5 is used by default (for binary problems) to convert predicted probabilities into class predictions\n",
        "- Threshold can be adjusted to increase sensitivity or specificity.Sensitivity and specificity have an inverse relationship. Greater threshold makes the model more specific. \n",
        "- ROC is the curve between FPR and TPR for varying threshholds.\n",
        "- AUC is area under that curve. Greater the area, better the model."
      ]
    },
    {
      "cell_type": "code",
      "metadata": {
        "id": "7_7sW6NMHaNv",
        "colab_type": "code",
        "colab": {
          "base_uri": "https://localhost:8080/",
          "height": 101
        },
        "outputId": "cfeaa56d-4846-444a-f43b-4ae84decf698"
      },
      "source": [
        "knn.predict_proba(X_test)[0:5, :]"
      ],
      "execution_count": null,
      "outputs": [
        {
          "output_type": "execute_result",
          "data": {
            "text/plain": [
              "array([[0.6, 0.4],\n",
              "       [0. , 1. ],\n",
              "       [0. , 1. ],\n",
              "       [0.6, 0.4],\n",
              "       [0. , 1. ]])"
            ]
          },
          "metadata": {
            "tags": []
          },
          "execution_count": 67
        }
      ]
    },
    {
      "cell_type": "code",
      "metadata": {
        "id": "zpIF9WtdH6-6",
        "colab_type": "code",
        "colab": {
          "base_uri": "https://localhost:8080/",
          "height": 312
        },
        "outputId": "c1d61c8f-4eb3-4ebb-ff80-5996775e9a54"
      },
      "source": [
        "# store the predicted probabilities for class 1\n",
        "y_pred_prob = knn.predict_proba(X_test)[:, 1]\n",
        "\n",
        "# histogram of predicted probabilities\n",
        "plt.hist(y_pred_prob, bins=8)\n",
        "plt.xlim(0, 1)\n",
        "plt.title('Histogram of predicted probabilities')\n",
        "plt.xlabel('Predicted probability of cancer')\n",
        "plt.ylabel('Frequency')"
      ],
      "execution_count": null,
      "outputs": [
        {
          "output_type": "execute_result",
          "data": {
            "text/plain": [
              "Text(0, 0.5, 'Frequency')"
            ]
          },
          "metadata": {
            "tags": []
          },
          "execution_count": 70
        },
        {
          "output_type": "display_data",
          "data": {
            "image/png": "[encoded data removed]",
            "text/plain": [
              "<Figure size 432x288 with 1 Axes>"
            ]
          },
          "metadata": {
            "tags": [],
            "needs_background": "light"
          }
        }
      ]
    },
    {
      "cell_type": "code",
      "metadata": {
        "id": "ylZL1qTuIYGW",
        "colab_type": "code",
        "colab": {
          "base_uri": "https://localhost:8080/",
          "height": 84
        },
        "outputId": "e543ebec-8b9f-403d-9955-2b48bf0a8086"
      },
      "source": [
        "# predict cancer if the predicted probability is greater than 0.6 else not. Increasing specificity of model\n",
        "# observation made after looking at model. (not recommended as for such detections model sensitivity should be high)\n",
        "from sklearn.preprocessing import binarize\n",
        "y_pred_class = binarize([y_pred_prob], 0.6)[0]\n",
        "print(y_pred_prob[0:5])\n",
        "print(y_pred_class[0:5])\n",
        "print(metrics.confusion_matrix(y_test, y_pred_class))"
      ],
      "execution_count": null,
      "outputs": [
        {
          "output_type": "stream",
          "text": [
            "[0.4 1.  1.  0.4 1. ]\n",
            "[0. 1. 1. 0. 1.]\n",
            "[[ 63   4]\n",
            " [ 10 111]]\n"
          ],
          "name": "stdout"
        }
      ]
    },
    {
      "cell_type": "code",
      "metadata": {
        "id": "bQ93JdJ0JZD9",
        "colab_type": "code",
        "colab": {
          "base_uri": "https://localhost:8080/",
          "height": 379
        },
        "outputId": "a1edae52-9ce6-45c4-94f2-8800b4326db9"
      },
      "source": [
        "# IMPORTANT: first argument is true values, second argument is predicted probabilities\n",
        "fpr, tpr, thresholds = metrics.roc_curve(y_test, y_pred_prob)\n",
        "plt.plot(fpr, tpr)\n",
        "plt.xlim([0.0, 1.0])\n",
        "plt.ylim([0.0, 1.0])\n",
        "plt.title('ROC curve for cancer classifier')\n",
        "plt.xlabel('False Positive Rate (1 - Specificity)')\n",
        "plt.ylabel('True Positive Rate (Sensitivity)')\n",
        "plt.grid(True)\n",
        "\n",
        "\n",
        "\n",
        "print(fpr)\n",
        "print(tpr)\n",
        "print(thresholds)"
      ],
      "execution_count": null,
      "outputs": [
        {
          "output_type": "stream",
          "text": [
            "[0.         0.04477612 0.05970149 0.05970149 0.1641791  0.32835821\n",
            " 1.        ]\n",
            "[0.         0.84297521 0.91735537 0.95041322 0.98347107 1.\n",
            " 1.        ]\n",
            "[2.  1.  0.8 0.6 0.4 0.2 0. ]\n"
          ],
          "name": "stdout"
        },
        {
          "output_type": "display_data",
          "data": {
            "image/png": "[encoded data removed]",
            "text/plain": [
              "<Figure size 432x288 with 1 Axes>"
            ]
          },
          "metadata": {
            "tags": [],
            "needs_background": "light"
          }
        }
      ]
    },
    {
      "cell_type": "markdown",
      "metadata": {
        "id": "9BHxVLtOLXs7",
        "colab_type": "text"
      },
      "source": [
        "- when threshhold is < 0, everything is predicted positive, no FN and no TN results in tpr = fpr = 1\n",
        "- when threshhold is > 0, evrything is predicted negavite, no TP and no FP, results in tpr = fpr = 0\n",
        "\n",
        "- Number of threshholds returned by roc_curve function is governed by number of different values in y_pred_prob. if y_pred would have been passed, it would have returned only 3 threshholds.\n",
        "\n",
        "- Ideally, we want the fraction of correct positive class predictions to be 1 (top of the plot) and the fraction of incorrect negative class predictions to be 0 (left of the plot). This highlights that the best possible classifier that achieves perfect skill is the top-left of the plot."
      ]
    },
    {
      "cell_type": "code",
      "metadata": {
        "id": "8arhOunOL22M",
        "colab_type": "code",
        "colab": {
          "base_uri": "https://localhost:8080/",
          "height": 34
        },
        "outputId": "92fb394d-5b1e-4b86-c364-2dab370b78ad"
      },
      "source": [
        "# IMPORTANT: first argument is true values, second argument is predicted probabilities\n",
        "print(metrics.roc_auc_score(y_test, y_pred_prob))\n"
      ],
      "execution_count": null,
      "outputs": [
        {
          "output_type": "stream",
          "text": [
            "0.9674972246206981\n"
          ],
          "name": "stdout"
        }
      ]
    },
    {
      "cell_type": "markdown",
      "metadata": {
        "id": "OoLLmoZTSDKb",
        "colab_type": "text"
      },
      "source": [
        "- For imbalanced classification with a severe skew and few examples of the minority class, the ROC AUC can be misleading. This is because a small number of correct or incorrect predictions can result in a large change in the ROC Curve or ROC AUC score.\n",
        "- To compare 2 models, directly compare AUC"
      ]
    },
    {
      "cell_type": "markdown",
      "metadata": {
        "id": "HpN7VPxdSV8-",
        "colab_type": "text"
      },
      "source": [
        "# Precision-Recall Curve\n",
        "- computes precision(y) vs recall(x) for varying threshhold.\n",
        "- A model with perfect skill is depicted as a point at a coordinate of (1,1). A skillful model is represented by a curve that bows towards a coordinate of (1,1).\n",
        "- Precision-recall curves (PR curves) are recommended for highly skewed domains where ROC curves may provide an excessively optimistic view of the performance.\n",
        "- The focus of the PR curve on the minority class makes it an effective diagnostic for imbalanced binary classification models. example : testing a pandemic only 5-10% people will be affected. Both the precision and the recall are focused on the positive class (the minority class) and are unconcerned with the true negatives (majority class)."
      ]
    },
    {
      "cell_type": "code",
      "metadata": {
        "id": "mEsyrPX_ogCb",
        "colab_type": "code",
        "colab": {
          "base_uri": "https://localhost:8080/",
          "height": 346
        },
        "outputId": "db4c3abf-c829-411d-c170-4022412b435a"
      },
      "source": [
        "precision, recall, thresholds = metrics.precision_recall_curve(y_test, y_pred_prob)\n",
        "print(precision)\n",
        "print(recall)\n",
        "print(thresholds)\n",
        "\n",
        "plt.plot(recall,precision)\n",
        "plt.xlim([0.0, 1.0])\n",
        "plt.ylim([0.0, 1.0])\n",
        "plt.title('PR curve for cancer classifier')\n",
        "plt.xlabel('Recall')\n",
        "plt.ylabel('Precision')\n",
        "plt.grid(True)"
      ],
      "execution_count": null,
      "outputs": [
        {
          "output_type": "stream",
          "text": [
            "[0.84615385 0.91538462 0.96638655 0.96521739 0.97142857 1.        ]\n",
            "[1.         0.98347107 0.95041322 0.91735537 0.84297521 0.        ]\n",
            "[0.2 0.4 0.6 0.8 1. ]\n"
          ],
          "name": "stdout"
        },
        {
          "output_type": "display_data",
          "data": {
            "image/png": "[encoded data removed]",
            "text/plain": [
              "<Figure size 432x288 with 1 Axes>"
            ]
          },
          "metadata": {
            "tags": [],
            "needs_background": "light"
          }
        }
      ]
    },
    {
      "cell_type": "code",
      "metadata": {
        "id": "99yjHz-BWxUR",
        "colab_type": "code",
        "colab": {
          "base_uri": "https://localhost:8080/",
          "height": 34
        },
        "outputId": "4ffb5e91-9012-4375-cdc1-8b1e1ab9b7fd"
      },
      "source": [
        "print(metrics.average_precision_score(y_test, y_pred_prob))"
      ],
      "execution_count": null,
      "outputs": [
        {
          "output_type": "stream",
          "text": [
            "0.9668765552048509\n"
          ],
          "name": "stdout"
        }
      ]
    }
  ]
}