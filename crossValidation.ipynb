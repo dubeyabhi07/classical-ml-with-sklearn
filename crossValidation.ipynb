{
  "nbformat": 4,
  "nbformat_minor": 0,
  "metadata": {
    "colab": {
      "name": "crossValidation.ipynb",
      "provenance": [],
      "toc_visible": true,
      "authorship_tag": "ABX9TyPOk3BXaFi/qlPKCc9S/NBR",
      "include_colab_link": true
    },
    "kernelspec": {
      "name": "python3",
      "display_name": "Python 3"
    }
  },
  "cells": [
    {
      "cell_type": "markdown",
      "metadata": {
        "id": "view-in-github",
        "colab_type": "text"
      },
      "source": [
        "<a href=\"https://colab.research.google.com/github/dubeyabhi07/hands-on-scikit-learn/blob/master/crossValidation.ipynb\" target=\"_parent\"><img src=\"https://colab.research.google.com/assets/colab-badge.svg\" alt=\"Open In Colab\"/></a>"
      ]
    },
    {
      "cell_type": "markdown",
      "metadata": {
        "id": "qmKCJfofZBid",
        "colab_type": "text"
      },
      "source": [
        "# Train/test split\n",
        "- Split the dataset into two pieces: a training set and a testing set.\n",
        "- Train the model on the training set.\n",
        "- Test the model on the testing set, and evaluate how well we did."
      ]
    },
    {
      "cell_type": "code",
      "metadata": {
        "id": "Nq7WyimPZSj2",
        "colab_type": "code",
        "colab": {
          "base_uri": "https://localhost:8080/",
          "height": 34
        },
        "outputId": "25fbb45a-49b0-40e7-b317-2bf434d41afc"
      },
      "source": [
        "from sklearn.datasets import load_iris\n",
        "from sklearn.model_selection import train_test_split\n",
        "from sklearn.neighbors import KNeighborsClassifier\n",
        "from sklearn import metrics\n",
        "\n",
        "# read in the iris data\n",
        "iris = load_iris()\n",
        "\n",
        "# create X (features) and y (response)\n",
        "X = iris.data\n",
        "y = iris.target\n",
        "\n",
        "# use train/test split with different random_state values\n",
        "X_train, X_test, y_train, y_test = train_test_split(X, y, random_state=4)\n",
        "\n",
        "# check classification accuracy of KNN with K=5\n",
        "knn = KNeighborsClassifier(n_neighbors=5)\n",
        "knn.fit(X_train, y_train)\n",
        "y_pred = knn.predict(X_test)\n",
        "print(metrics.accuracy_score(y_test, y_pred))"
      ],
      "execution_count": 2,
      "outputs": [
        {
          "output_type": "stream",
          "text": [
            "0.9736842105263158\n"
          ],
          "name": "stdout"
        }
      ]
    },
    {
      "cell_type": "markdown",
      "metadata": {
        "id": "761Qf-EGZz3y",
        "colab_type": "text"
      },
      "source": [
        "# K-fold cross-validation\n",
        "- Split the dataset into K equal partitions (or \"folds\").\n",
        "- Use fold 1 as the testing set and the union of the other folds as the training set.\n",
        "- Calculate testing accuracy.\n",
        "- Repeat steps 2 and 3 K times, using a different fold as the testing set each time.\n",
        "- Use the average testing accuracy as the estimate of out-of-sample accuracy."
      ]
    },
    {
      "cell_type": "code",
      "metadata": {
        "id": "Gswv-oaIaGtg",
        "colab_type": "code",
        "colab": {
          "base_uri": "https://localhost:8080/",
          "height": 67
        },
        "outputId": "e8ca8e41-b1c8-43d4-9e49-5f4060805868"
      },
      "source": [
        "from sklearn.model_selection import cross_val_score\n",
        "\n",
        "# 10-fold cross-validation with K=5 for KNN (the n_neighbors parameter)\n",
        "knn = KNeighborsClassifier(n_neighbors=5)\n",
        "scores = cross_val_score(knn, X, y, cv=10, scoring='accuracy')\n",
        "print(scores)\n",
        "print(\"Accuracy: %0.2f (+/- %0.2f)\" % (scores.mean(), scores.std() * 2))"
      ],
      "execution_count": 3,
      "outputs": [
        {
          "output_type": "stream",
          "text": [
            "[1.         0.93333333 1.         1.         0.86666667 0.93333333\n",
            " 0.93333333 1.         1.         1.        ]\n",
            "Accuracy: 0.97 (+/- 0.09)\n"
          ],
          "name": "stdout"
        }
      ]
    },
    {
      "cell_type": "code",
      "metadata": {
        "id": "6fL0fHQLayAy",
        "colab_type": "code",
        "colab": {
          "base_uri": "https://localhost:8080/",
          "height": 67
        },
        "outputId": "2966f1ab-0f96-4d48-b076-8125ffcb4fba"
      },
      "source": [
        "#using cross-validation strategy = ShuffleSplit\n",
        "\n",
        "from sklearn.model_selection import ShuffleSplit\n",
        "cv = ShuffleSplit(n_splits=10, test_size=0.3, random_state=0)\n",
        "scores = cross_val_score(knn, X, y, cv=cv,scoring ='accuracy')\n",
        "print(scores)\n",
        "print(\"Accuracy: %0.2f (+/- %0.2f)\" % (scores.mean(), scores.std() * 2))"
      ],
      "execution_count": 6,
      "outputs": [
        {
          "output_type": "stream",
          "text": [
            "[0.97777778 0.95555556 0.95555556 0.93333333 0.97777778 0.95555556\n",
            " 0.97777778 0.97777778 0.97777778 0.97777778]\n",
            "Accuracy: 0.97 (+/- 0.03)\n"
          ],
          "name": "stdout"
        }
      ]
    },
    {
      "cell_type": "markdown",
      "metadata": {
        "id": "0WuZlPOOZNO0",
        "colab_type": "text"
      },
      "source": [
        "# Another way to use K-fold cross validation.\n",
        "##### Using `cross_validate` function\n",
        "- It differs from `cross_val_score` as :\n",
        "  - It allows specifying multiple metrics for evaluation.\n",
        "  - It returns a dict containing fit-times, score-times etc. along with test scores"
      ]
    },
    {
      "cell_type": "code",
      "metadata": {
        "id": "c4-on3PgZ-pT",
        "colab_type": "code",
        "colab": {
          "base_uri": "https://localhost:8080/",
          "height": 134
        },
        "outputId": "b2c23ff5-eb58-485c-916b-dd255a6e0a1e"
      },
      "source": [
        "from sklearn.model_selection import cross_validate\n",
        "from sklearn.metrics import recall_score\n",
        "scoring = ['accuracy', 'recall_macro']\n",
        "scores = cross_validate(knn, X, y, cv=4,scoring=scoring)\n",
        "print(scores.keys())\n",
        "print(scores['fit_time'])\n",
        "print(scores['score_time'])\n",
        "print(scores['test_accuracy'])\n",
        "print(scores['test_recall_macro'])\n",
        "print(\"Accuracy: %0.2f (+/- %0.2f)\" % (scores['test_accuracy'].mean(), scores['test_accuracy'].std() * 2))\n",
        "print(\"recall_macro: %0.2f (+/- %0.2f)\" % (scores['test_recall_macro'].mean(), scores['test_recall_macro'].std() * 2))\n",
        "\n"
      ],
      "execution_count": 17,
      "outputs": [
        {
          "output_type": "stream",
          "text": [
            "dict_keys(['fit_time', 'score_time', 'test_accuracy', 'test_recall_macro'])\n",
            "[0.00080967 0.00069928 0.0004921  0.00042677]\n",
            "[0.00498986 0.0045197  0.0036006  0.00251913]\n",
            "[0.97368421 0.94736842 0.94594595 1.        ]\n",
            "[0.97435897 0.94444444 0.94871795 1.        ]\n",
            "Accuracy: 0.97 (+/- 0.04)\n",
            "recall_macro: 0.97 (+/- 0.04)\n"
          ],
          "name": "stdout"
        }
      ]
    },
    {
      "cell_type": "markdown",
      "metadata": {
        "id": "yGR0Pre9aCry",
        "colab_type": "text"
      },
      "source": [
        "# Comparing cross-validation to train/test split\n",
        "\n",
        "### Advantages of cross-validation:\n",
        "\n",
        "- More accurate estimate of out-of-sample accuracy\n",
        "- More \"efficient\" use of data (every observation is used for both training and testing)\n",
        "\n",
        "### Advantages of train/test split:\n",
        "- Runs K times faster than K-fold cross-validation"
      ]
    }
  ]
}