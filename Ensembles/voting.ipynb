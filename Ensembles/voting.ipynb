{
  "nbformat": 4,
  "nbformat_minor": 0,
  "metadata": {
    "colab": {
      "name": "voting.ipynb",
      "provenance": [],
      "collapsed_sections": [],
      "authorship_tag": "ABX9TyNQhqCY5xi2rWCnajIViQbn",
      "include_colab_link": true
    },
    "kernelspec": {
      "name": "python3",
      "display_name": "Python 3"
    }
  },
  "cells": [
    {
      "cell_type": "markdown",
      "metadata": {
        "id": "view-in-github",
        "colab_type": "text"
      },
      "source": [
        "<a href=\"https://colab.research.google.com/github/dubeyabhi07/hands-on-scikit-learn/blob/master/Ensembles/voting.ipynb\" target=\"_parent\"><img src=\"https://colab.research.google.com/assets/colab-badge.svg\" alt=\"Open In Colab\"/></a>"
      ]
    },
    {
      "cell_type": "code",
      "metadata": {
        "id": "LU8BC1GL1sUt",
        "colab_type": "code",
        "colab": {}
      },
      "source": [
        "import pandas as pd\n",
        "df = pd.read_csv('pokemon.csv', delimiter = ',')"
      ],
      "execution_count": null,
      "outputs": []
    },
    {
      "cell_type": "code",
      "metadata": {
        "id": "xPrLSfg9M4RE",
        "colab_type": "code",
        "colab": {
          "base_uri": "https://localhost:8080/",
          "height": 195
        },
        "outputId": "a7046320-0856-4606-ffb2-588398e7118d"
      },
      "source": [
        "df.head(5)"
      ],
      "execution_count": null,
      "outputs": [
        {
          "output_type": "execute_result",
          "data": {
            "text/html": [
              "<div>\n",
              "<style scoped>\n",
              "    .dataframe tbody tr th:only-of-type {\n",
              "        vertical-align: middle;\n",
              "    }\n",
              "\n",
              "    .dataframe tbody tr th {\n",
              "        vertical-align: top;\n",
              "    }\n",
              "\n",
              "    .dataframe thead th {\n",
              "        text-align: right;\n",
              "    }\n",
              "</style>\n",
              "<table border=\"1\" class=\"dataframe\">\n",
              "  <thead>\n",
              "    <tr style=\"text-align: right;\">\n",
              "      <th></th>\n",
              "      <th>#</th>\n",
              "      <th>Name</th>\n",
              "      <th>Type 1</th>\n",
              "      <th>Type 2</th>\n",
              "      <th>Total</th>\n",
              "      <th>HP</th>\n",
              "      <th>Attack</th>\n",
              "      <th>Defense</th>\n",
              "      <th>Sp. Atk</th>\n",
              "      <th>Sp. Def</th>\n",
              "      <th>Speed</th>\n",
              "      <th>Generation</th>\n",
              "      <th>Legendary</th>\n",
              "    </tr>\n",
              "  </thead>\n",
              "  <tbody>\n",
              "    <tr>\n",
              "      <th>0</th>\n",
              "      <td>1</td>\n",
              "      <td>Bulbasaur</td>\n",
              "      <td>Grass</td>\n",
              "      <td>Poison</td>\n",
              "      <td>318</td>\n",
              "      <td>45</td>\n",
              "      <td>49</td>\n",
              "      <td>49</td>\n",
              "      <td>65</td>\n",
              "      <td>65</td>\n",
              "      <td>45</td>\n",
              "      <td>1</td>\n",
              "      <td>False</td>\n",
              "    </tr>\n",
              "    <tr>\n",
              "      <th>1</th>\n",
              "      <td>2</td>\n",
              "      <td>Ivysaur</td>\n",
              "      <td>Grass</td>\n",
              "      <td>Poison</td>\n",
              "      <td>405</td>\n",
              "      <td>60</td>\n",
              "      <td>62</td>\n",
              "      <td>63</td>\n",
              "      <td>80</td>\n",
              "      <td>80</td>\n",
              "      <td>60</td>\n",
              "      <td>1</td>\n",
              "      <td>False</td>\n",
              "    </tr>\n",
              "    <tr>\n",
              "      <th>2</th>\n",
              "      <td>3</td>\n",
              "      <td>Venusaur</td>\n",
              "      <td>Grass</td>\n",
              "      <td>Poison</td>\n",
              "      <td>525</td>\n",
              "      <td>80</td>\n",
              "      <td>82</td>\n",
              "      <td>83</td>\n",
              "      <td>100</td>\n",
              "      <td>100</td>\n",
              "      <td>80</td>\n",
              "      <td>1</td>\n",
              "      <td>False</td>\n",
              "    </tr>\n",
              "    <tr>\n",
              "      <th>3</th>\n",
              "      <td>3</td>\n",
              "      <td>VenusaurMega Venusaur</td>\n",
              "      <td>Grass</td>\n",
              "      <td>Poison</td>\n",
              "      <td>625</td>\n",
              "      <td>80</td>\n",
              "      <td>100</td>\n",
              "      <td>123</td>\n",
              "      <td>122</td>\n",
              "      <td>120</td>\n",
              "      <td>80</td>\n",
              "      <td>1</td>\n",
              "      <td>False</td>\n",
              "    </tr>\n",
              "    <tr>\n",
              "      <th>4</th>\n",
              "      <td>4</td>\n",
              "      <td>Charmander</td>\n",
              "      <td>Fire</td>\n",
              "      <td>NaN</td>\n",
              "      <td>309</td>\n",
              "      <td>39</td>\n",
              "      <td>52</td>\n",
              "      <td>43</td>\n",
              "      <td>60</td>\n",
              "      <td>50</td>\n",
              "      <td>65</td>\n",
              "      <td>1</td>\n",
              "      <td>False</td>\n",
              "    </tr>\n",
              "  </tbody>\n",
              "</table>\n",
              "</div>"
            ],
            "text/plain": [
              "   #                   Name Type 1  ... Speed  Generation  Legendary\n",
              "0  1              Bulbasaur  Grass  ...    45           1      False\n",
              "1  2                Ivysaur  Grass  ...    60           1      False\n",
              "2  3               Venusaur  Grass  ...    80           1      False\n",
              "3  3  VenusaurMega Venusaur  Grass  ...    80           1      False\n",
              "4  4             Charmander   Fire  ...    65           1      False\n",
              "\n",
              "[5 rows x 13 columns]"
            ]
          },
          "metadata": {
            "tags": []
          },
          "execution_count": 86
        }
      ]
    },
    {
      "cell_type": "code",
      "metadata": {
        "id": "gFRNV4ctM9xM",
        "colab_type": "code",
        "colab": {}
      },
      "source": [
        "df['Legendary'] = df['Legendary'].astype('int')  # when column to be predicted is in bool, catboost gives predicted column as str"
      ],
      "execution_count": null,
      "outputs": []
    },
    {
      "cell_type": "code",
      "metadata": {
        "id": "_mpL9nwUNCfC",
        "colab_type": "code",
        "colab": {}
      },
      "source": [
        "y = df['Legendary']\n",
        "x = df.drop(['#', 'Name','Legendary'], axis = 1) "
      ],
      "execution_count": null,
      "outputs": []
    },
    {
      "cell_type": "code",
      "metadata": {
        "id": "PTMd-XBtN50y",
        "colab_type": "code",
        "colab": {}
      },
      "source": [
        "from sklearn.model_selection import train_test_split\n",
        "X_train, X_test, y_train, y_test = train_test_split(x,y,test_size=0.4, random_state=30, stratify=y)"
      ],
      "execution_count": null,
      "outputs": []
    },
    {
      "cell_type": "markdown",
      "metadata": {
        "id": "cqIRhFKXNMHZ",
        "colab_type": "text"
      },
      "source": [
        "# lets measure f1 score with different different models :\n",
        "\n",
        "- Tree\n",
        "- AdaBoost\n",
        "- CatBoost\n"
      ]
    },
    {
      "cell_type": "code",
      "metadata": {
        "id": "1PuOZGIeNFSd",
        "colab_type": "code",
        "colab": {
          "base_uri": "https://localhost:8080/",
          "height": 118
        },
        "outputId": "bca9b70b-1cf3-433c-cc59-0cdb8e7533cf"
      },
      "source": [
        "from sklearn.tree import DecisionTreeClassifier, plot_tree\n",
        "from sklearn import metrics\n",
        "\n",
        "dt_model = DecisionTreeClassifier()\n",
        "\n",
        "# Fit on training data\n",
        "rf_train = X_train.drop(['Type 1', 'Type 2'], axis = 1) \n",
        "rf_test = X_test.drop(['Type 1', 'Type 2'], axis = 1) \n",
        "dt_model.fit(rf_train, y_train)"
      ],
      "execution_count": null,
      "outputs": [
        {
          "output_type": "execute_result",
          "data": {
            "text/plain": [
              "DecisionTreeClassifier(ccp_alpha=0.0, class_weight=None, criterion='gini',\n",
              "                       max_depth=None, max_features=None, max_leaf_nodes=None,\n",
              "                       min_impurity_decrease=0.0, min_impurity_split=None,\n",
              "                       min_samples_leaf=1, min_samples_split=2,\n",
              "                       min_weight_fraction_leaf=0.0, presort='deprecated',\n",
              "                       random_state=None, splitter='best')"
            ]
          },
          "metadata": {
            "tags": []
          },
          "execution_count": 66
        }
      ]
    },
    {
      "cell_type": "code",
      "metadata": {
        "id": "ZkxhrhuXOnOV",
        "colab_type": "code",
        "colab": {
          "base_uri": "https://localhost:8080/",
          "height": 296
        },
        "outputId": "c1126611-7408-4736-ed8d-d864d6ae62f1"
      },
      "source": [
        "from sklearn import metrics\n",
        "from sklearn.metrics import plot_confusion_matrix\n",
        "_ = plot_confusion_matrix(dt_model, rf_test, y_test,values_format = 'd')\n",
        "print(metrics.f1_score(y_test,dt_model.predict(rf_test),average='macro'))"
      ],
      "execution_count": null,
      "outputs": [
        {
          "output_type": "stream",
          "text": [
            "0.8737038498798034\n"
          ],
          "name": "stdout"
        },
        {
          "output_type": "display_data",
          "data": {
            "image/png": "[encoded data removed]",
            "text/plain": [
              "<Figure size 432x288 with 2 Axes>"
            ]
          },
          "metadata": {
            "tags": [],
            "needs_background": "light"
          }
        }
      ]
    },
    {
      "cell_type": "code",
      "metadata": {
        "id": "M7GauPWxW-L4",
        "colab_type": "code",
        "colab": {
          "base_uri": "https://localhost:8080/",
          "height": 286
        },
        "outputId": "5c689271-1bdd-4199-8e0e-a3f3292b2a55"
      },
      "source": [
        "from sklearn.ensemble import AdaBoostClassifier\n",
        "from sklearn.tree import DecisionTreeClassifier\n",
        "ab_model = AdaBoostClassifier(\n",
        "    DecisionTreeClassifier(max_depth=4)\n",
        ")\n",
        "ab_model.fit(rf_train,y_train)"
      ],
      "execution_count": null,
      "outputs": [
        {
          "output_type": "execute_result",
          "data": {
            "text/plain": [
              "AdaBoostClassifier(algorithm='SAMME.R',\n",
              "                   base_estimator=DecisionTreeClassifier(ccp_alpha=0.0,\n",
              "                                                         class_weight=None,\n",
              "                                                         criterion='gini',\n",
              "                                                         max_depth=4,\n",
              "                                                         max_features=None,\n",
              "                                                         max_leaf_nodes=None,\n",
              "                                                         min_impurity_decrease=0.0,\n",
              "                                                         min_impurity_split=None,\n",
              "                                                         min_samples_leaf=1,\n",
              "                                                         min_samples_split=2,\n",
              "                                                         min_weight_fraction_leaf=0.0,\n",
              "                                                         presort='deprecated',\n",
              "                                                         random_state=None,\n",
              "                                                         splitter='best'),\n",
              "                   learning_rate=1.0, n_estimators=50, random_state=None)"
            ]
          },
          "metadata": {
            "tags": []
          },
          "execution_count": 81
        }
      ]
    },
    {
      "cell_type": "code",
      "metadata": {
        "id": "mtkAlcqNXVx5",
        "colab_type": "code",
        "colab": {
          "base_uri": "https://localhost:8080/",
          "height": 296
        },
        "outputId": "8382c572-86f9-4c65-fe65-486a956a97ad"
      },
      "source": [
        "_ = plot_confusion_matrix(ab_model, rf_test, y_test,values_format = 'd')\n",
        "print(metrics.f1_score(y_test,ab_model.predict(rf_test),average='macro'))"
      ],
      "execution_count": null,
      "outputs": [
        {
          "output_type": "stream",
          "text": [
            "0.763156869619415\n"
          ],
          "name": "stdout"
        },
        {
          "output_type": "display_data",
          "data": {
            "image/png": "[encoded data removed]",
            "text/plain": [
              "<Figure size 432x288 with 2 Axes>"
            ]
          },
          "metadata": {
            "tags": [],
            "needs_background": "light"
          }
        }
      ]
    },
    {
      "cell_type": "code",
      "metadata": {
        "id": "ILVxSgMyRVNT",
        "colab_type": "code",
        "colab": {}
      },
      "source": [
        "!pip install catboost"
      ],
      "execution_count": null,
      "outputs": []
    },
    {
      "cell_type": "code",
      "metadata": {
        "id": "1fGvIPmIPDV1",
        "colab_type": "code",
        "colab": {
          "base_uri": "https://localhost:8080/",
          "height": 235
        },
        "outputId": "b9cfe713-c503-4db8-ce52-a18e46406d73"
      },
      "source": [
        "from catboost import CatBoostClassifier\n",
        "cat_train = X_train\n",
        "cat_test = X_test\n",
        "cat_test[\"Type 2\"] = cat_test[\"Type 2\"].astype('str') \n",
        "cat_train[\"Type 2\"] = cat_train[\"Type 2\"].astype('str')  # for catboost categories column , type has to be int or str. Else nan values wont be imputed.\n",
        "cat_model =  CatBoostClassifier( verbose=False, cat_features=[0,1])\n",
        "cat_model.fit(X_train, y_train)\n"
      ],
      "execution_count": null,
      "outputs": [
        {
          "output_type": "stream",
          "text": [
            "/usr/local/lib/python3.6/dist-packages/ipykernel_launcher.py:4: SettingWithCopyWarning: \n",
            "A value is trying to be set on a copy of a slice from a DataFrame.\n",
            "Try using .loc[row_indexer,col_indexer] = value instead\n",
            "\n",
            "See the caveats in the documentation: https://pandas.pydata.org/pandas-docs/stable/user_guide/indexing.html#returning-a-view-versus-a-copy\n",
            "  after removing the cwd from sys.path.\n",
            "/usr/local/lib/python3.6/dist-packages/ipykernel_launcher.py:5: SettingWithCopyWarning: \n",
            "A value is trying to be set on a copy of a slice from a DataFrame.\n",
            "Try using .loc[row_indexer,col_indexer] = value instead\n",
            "\n",
            "See the caveats in the documentation: https://pandas.pydata.org/pandas-docs/stable/user_guide/indexing.html#returning-a-view-versus-a-copy\n",
            "  \"\"\"\n"
          ],
          "name": "stderr"
        },
        {
          "output_type": "execute_result",
          "data": {
            "text/plain": [
              "<catboost.core.CatBoostClassifier at 0x7f2751e2a710>"
            ]
          },
          "metadata": {
            "tags": []
          },
          "execution_count": 29
        }
      ]
    },
    {
      "cell_type": "code",
      "metadata": {
        "id": "dRk0rzC2QuAg",
        "colab_type": "code",
        "colab": {
          "base_uri": "https://localhost:8080/",
          "height": 296
        },
        "outputId": "118d2881-f7f2-43e2-e01d-418b529de9e4"
      },
      "source": [
        "_ = plot_confusion_matrix(cat_model, cat_test, y_test,values_format = 'd')\n",
        "print(metrics.f1_score(y_test,cat_model.predict(cat_test),average='macro'))"
      ],
      "execution_count": null,
      "outputs": [
        {
          "output_type": "stream",
          "text": [
            "0.8685340802987862\n"
          ],
          "name": "stdout"
        },
        {
          "output_type": "display_data",
          "data": {
            "image/png": "[encoded data removed]",
            "text/plain": [
              "<Figure size 432x288 with 2 Axes>"
            ]
          },
          "metadata": {
            "tags": [],
            "needs_background": "light"
          }
        }
      ]
    },
    {
      "cell_type": "code",
      "metadata": {
        "id": "gnYs0n8mSQrG",
        "colab_type": "code",
        "colab": {
          "base_uri": "https://localhost:8080/",
          "height": 395
        },
        "outputId": "7e6a956c-3e77-49d2-b1cb-24a949bd0c9c"
      },
      "source": [
        "dt_imp = dt_model.feature_importances_\n",
        "dt_imp_df = pd.DataFrame({'feature': list(rf_train.columns),\n",
        "                   'importance': dt_imp}).sort_values('importance',ascending = False)\n",
        "dt_imp_df.set_index('feature').plot(kind='barh', figsize=(10, 6), fontsize=14)"
      ],
      "execution_count": null,
      "outputs": [
        {
          "output_type": "execute_result",
          "data": {
            "text/plain": [
              "<matplotlib.axes._subplots.AxesSubplot at 0x7f274618c278>"
            ]
          },
          "metadata": {
            "tags": []
          },
          "execution_count": 68
        },
        {
          "output_type": "display_data",
          "data": {
            "image/png": "[encoded data removed]",
            "text/plain": [
              "<Figure size 720x432 with 1 Axes>"
            ]
          },
          "metadata": {
            "tags": [],
            "needs_background": "light"
          }
        }
      ]
    },
    {
      "cell_type": "code",
      "metadata": {
        "id": "4PbEHWkaXcv7",
        "colab_type": "code",
        "colab": {
          "base_uri": "https://localhost:8080/",
          "height": 395
        },
        "outputId": "f4716952-376f-4b43-9f89-975706d3cfdf"
      },
      "source": [
        "ab_imp = ab_model.feature_importances_\n",
        "ab_imp_df = pd.DataFrame({'feature': list(rf_train.columns),\n",
        "                   'importance': ab_imp}).sort_values('importance',ascending = False)\n",
        "ab_imp_df.set_index('feature').plot(kind='barh', figsize=(10, 6), fontsize=14)"
      ],
      "execution_count": null,
      "outputs": [
        {
          "output_type": "execute_result",
          "data": {
            "text/plain": [
              "<matplotlib.axes._subplots.AxesSubplot at 0x7f27511eb5f8>"
            ]
          },
          "metadata": {
            "tags": []
          },
          "execution_count": 73
        },
        {
          "output_type": "display_data",
          "data": {
            "image/png": "[encoded data removed]",
            "text/plain": [
              "<Figure size 720x432 with 1 Axes>"
            ]
          },
          "metadata": {
            "tags": [],
            "needs_background": "light"
          }
        }
      ]
    },
    {
      "cell_type": "code",
      "metadata": {
        "id": "62tuNLdLTDDk",
        "colab_type": "code",
        "colab": {
          "base_uri": "https://localhost:8080/",
          "height": 395
        },
        "outputId": "ec134079-c0f3-4d1f-959f-ce579f4bda40"
      },
      "source": [
        "import catboost\n",
        "pool = catboost.Pool(cat_train, y_train, cat_features=[0,1])\n",
        "cat_imp_df = cat_model.get_feature_importance(pool, fstr_type=catboost.EFstrType.FeatureImportance, prettified=True)\n",
        "cat_imp_df.set_index('Feature Id').plot(kind='barh', figsize=(10, 6), fontsize=14)"
      ],
      "execution_count": null,
      "outputs": [
        {
          "output_type": "execute_result",
          "data": {
            "text/plain": [
              "<matplotlib.axes._subplots.AxesSubplot at 0x7f275c8e5f98>"
            ]
          },
          "metadata": {
            "tags": []
          },
          "execution_count": 38
        },
        {
          "output_type": "display_data",
          "data": {
            "image/png": "[encoded data removed]",
            "text/plain": [
              "<Figure size 720x432 with 1 Axes>"
            ]
          },
          "metadata": {
            "tags": [],
            "needs_background": "light"
          }
        }
      ]
    },
    {
      "cell_type": "code",
      "metadata": {
        "id": "lRGiJ_COYLLg",
        "colab_type": "code",
        "colab": {
          "base_uri": "https://localhost:8080/",
          "height": 343
        },
        "outputId": "6e8f4065-da9a-4289-ac6e-85cef587dbf8"
      },
      "source": [
        "base_predictions_train = pd.DataFrame( {'Tree': dt_model.predict_proba(rf_test)[:,0],\n",
        "     'AdaBoost': ab_model.predict_proba(rf_test)[:,0],\n",
        "     'CatBoost': cat_model.predict_proba(cat_test)[:,0]\n",
        "    })\n",
        "base_predictions_train.head(10)"
      ],
      "execution_count": null,
      "outputs": [
        {
          "output_type": "execute_result",
          "data": {
            "text/html": [
              "<div>\n",
              "<style scoped>\n",
              "    .dataframe tbody tr th:only-of-type {\n",
              "        vertical-align: middle;\n",
              "    }\n",
              "\n",
              "    .dataframe tbody tr th {\n",
              "        vertical-align: top;\n",
              "    }\n",
              "\n",
              "    .dataframe thead th {\n",
              "        text-align: right;\n",
              "    }\n",
              "</style>\n",
              "<table border=\"1\" class=\"dataframe\">\n",
              "  <thead>\n",
              "    <tr style=\"text-align: right;\">\n",
              "      <th></th>\n",
              "      <th>Tree</th>\n",
              "      <th>AdaBoost</th>\n",
              "      <th>CatBoost</th>\n",
              "    </tr>\n",
              "  </thead>\n",
              "  <tbody>\n",
              "    <tr>\n",
              "      <th>0</th>\n",
              "      <td>1.0</td>\n",
              "      <td>0.999440</td>\n",
              "      <td>0.998522</td>\n",
              "    </tr>\n",
              "    <tr>\n",
              "      <th>1</th>\n",
              "      <td>1.0</td>\n",
              "      <td>0.999990</td>\n",
              "      <td>0.999732</td>\n",
              "    </tr>\n",
              "    <tr>\n",
              "      <th>2</th>\n",
              "      <td>1.0</td>\n",
              "      <td>0.999374</td>\n",
              "      <td>0.999138</td>\n",
              "    </tr>\n",
              "    <tr>\n",
              "      <th>3</th>\n",
              "      <td>1.0</td>\n",
              "      <td>0.997239</td>\n",
              "      <td>0.999492</td>\n",
              "    </tr>\n",
              "    <tr>\n",
              "      <th>4</th>\n",
              "      <td>1.0</td>\n",
              "      <td>0.999983</td>\n",
              "      <td>0.999691</td>\n",
              "    </tr>\n",
              "    <tr>\n",
              "      <th>5</th>\n",
              "      <td>1.0</td>\n",
              "      <td>0.999456</td>\n",
              "      <td>0.999251</td>\n",
              "    </tr>\n",
              "    <tr>\n",
              "      <th>6</th>\n",
              "      <td>0.0</td>\n",
              "      <td>0.969796</td>\n",
              "      <td>0.893334</td>\n",
              "    </tr>\n",
              "    <tr>\n",
              "      <th>7</th>\n",
              "      <td>1.0</td>\n",
              "      <td>0.999915</td>\n",
              "      <td>0.997423</td>\n",
              "    </tr>\n",
              "    <tr>\n",
              "      <th>8</th>\n",
              "      <td>1.0</td>\n",
              "      <td>0.999995</td>\n",
              "      <td>0.996705</td>\n",
              "    </tr>\n",
              "    <tr>\n",
              "      <th>9</th>\n",
              "      <td>1.0</td>\n",
              "      <td>0.999988</td>\n",
              "      <td>0.999119</td>\n",
              "    </tr>\n",
              "  </tbody>\n",
              "</table>\n",
              "</div>"
            ],
            "text/plain": [
              "   Tree  AdaBoost  CatBoost\n",
              "0   1.0  0.999440  0.998522\n",
              "1   1.0  0.999990  0.999732\n",
              "2   1.0  0.999374  0.999138\n",
              "3   1.0  0.997239  0.999492\n",
              "4   1.0  0.999983  0.999691\n",
              "5   1.0  0.999456  0.999251\n",
              "6   0.0  0.969796  0.893334\n",
              "7   1.0  0.999915  0.997423\n",
              "8   1.0  0.999995  0.996705\n",
              "9   1.0  0.999988  0.999119"
            ]
          },
          "metadata": {
            "tags": []
          },
          "execution_count": 83
        }
      ]
    },
    {
      "cell_type": "code",
      "metadata": {
        "id": "OYvGPxASZoG7",
        "colab_type": "code",
        "colab": {
          "base_uri": "https://localhost:8080/",
          "height": 324
        },
        "outputId": "673af58b-6c77-4287-d0c2-da2955386fd5"
      },
      "source": [
        "import seaborn as sns\n",
        "import matplotlib.pyplot as plt\n",
        "mean_corr = base_predictions_train[list(base_predictions_train)].corr()\n",
        "g1 = sns.heatmap(mean_corr, cmap='coolwarm', vmin=0, vmax=1)\n",
        "g1.set_xticklabels(g1.get_xticklabels(), rotation=70, fontsize=11)\n",
        "g1.set_yticklabels(g1.get_yticklabels(), rotation=15, fontsize=11)\n",
        "plt.title(\"Correlation Plot of Mean Features\")\n",
        "plt.show()"
      ],
      "execution_count": null,
      "outputs": [
        {
          "output_type": "display_data",
          "data": {
            "image/png": "[encoded data removed]",
            "text/plain": [
              "<Figure size 432x288 with 2 Axes>"
            ]
          },
          "metadata": {
            "tags": [],
            "needs_background": "light"
          }
        }
      ]
    },
    {
      "cell_type": "markdown",
      "metadata": {
        "id": "dTjcDFwYcl9f",
        "colab_type": "text"
      },
      "source": [
        "- Ideally the corelation should be less and there should be more blues in the heat map."
      ]
    },
    {
      "cell_type": "markdown",
      "metadata": {
        "id": "Kct2pzof6_Kh",
        "colab_type": "text"
      },
      "source": [
        "# voting classifier :\n",
        "\n",
        "- the VotingClassifier module allows you to implement a consensus method for as many different models as you’d like. You pass the VotingClassifier instantiated, unfitted models that you want to use, and choose between either a “hard” or “soft” voting for the consensus method.\n",
        "- Hard voting is majority rule — whichever prediction has the most votes is chose. In case of a tie, hard voting will assign predictions based on ascending sort order.\n",
        "-  In soft voting, predictions are chosen by summing the prediction probabilities from the individual models and choosing the prediction with the largest sum. Additionally, with soft voting you can choose to weight the predictions from some models higher than others. The default is a uniform weighting, but you can specify a different weighting scheme if you have reason to trust some models more than others.\n",
        "\n",
        "- For pipeline related issues , visit :\n",
        "https://towardsdatascience.com/pipelines-custom-transformers-in-scikit-learn-the-step-by-step-guide-with-python-code-4a7d9b068156"
      ]
    },
    {
      "cell_type": "code",
      "metadata": {
        "id": "eKbv7fBDel3S",
        "colab_type": "code",
        "colab": {}
      },
      "source": [
        "from sklearn.base import TransformerMixin, BaseEstimator\n",
        "\n",
        "# custom transformer for sklearn pipeline\n",
        "class CategoricalColumnRemover(TransformerMixin, BaseEstimator):\n",
        "    def __init__(self):\n",
        "      pass\n",
        "\n",
        "    def transform(self, X):\n",
        "       return X.drop(['Type 1', 'Type 2'], axis = 1)\n",
        "\n",
        "    def fit(self, X, y=None):\n",
        "        return self\n",
        "\n",
        "# custom transformer for sklearn pipeline\n",
        "class CategoricalColumn(TransformerMixin, BaseEstimator):\n",
        "    def __init__(self):\n",
        "      pass\n",
        "\n",
        "    def transform(self, X):\n",
        "       X[\"Type 2\"] = X[\"Type 2\"].astype('str') \n",
        "       X[\"Type 2\"] = X[\"Type 2\"].astype('str')\n",
        "       return X\n",
        "\n",
        "    def fit(self, X, y=None):\n",
        "        return self\n"
      ],
      "execution_count": null,
      "outputs": []
    },
    {
      "cell_type": "code",
      "metadata": {
        "id": "QeXyjpWSfpkX",
        "colab_type": "code",
        "colab": {}
      },
      "source": [
        "from sklearn.pipeline import Pipeline\n",
        "from sklearn.tree import DecisionTreeClassifier, plot_tree\n",
        "from sklearn import metrics\n",
        "\n",
        "pipe_tree = Pipeline([\n",
        "    ('col_extract', CategoricalColumnRemover()), # selecting features 0 and 1 (df1) to be used with LR (clf1)\n",
        "    ('clf',  DecisionTreeClassifier())\n",
        "    ])"
      ],
      "execution_count": null,
      "outputs": []
    },
    {
      "cell_type": "code",
      "metadata": {
        "id": "nroxAOqCGduE",
        "colab_type": "code",
        "colab": {}
      },
      "source": [
        "from sklearn.ensemble import AdaBoostClassifier\n",
        "\n",
        "pipe_adaBoost = Pipeline([\n",
        "    ('col_extract', CategoricalColumnRemover()), # selecting features 0 and 1 (df1) to be used with LR (clf1)\n",
        "    ('clf',  AdaBoostClassifier(\n",
        "    DecisionTreeClassifier(max_depth=4)))\n",
        "    ])"
      ],
      "execution_count": null,
      "outputs": []
    },
    {
      "cell_type": "code",
      "metadata": {
        "id": "TlF2bZDAHXdi",
        "colab_type": "code",
        "colab": {}
      },
      "source": [
        "pipe_catBoost = Pipeline([\n",
        "    ('col_extract', CategoricalColumn()), # selecting features 0 and 1 (df1) to be used with LR (clf1)\n",
        "    ('clf',CatBoostClassifier(verbose=False, cat_features=[0,1]))\n",
        "    ])"
      ],
      "execution_count": null,
      "outputs": []
    },
    {
      "cell_type": "code",
      "metadata": {
        "id": "REgS6ODnHuEr",
        "colab_type": "code",
        "colab": {
          "base_uri": "https://localhost:8080/",
          "height": 622
        },
        "outputId": "68dd24dd-cc3e-4a86-b15c-09bba741cbd9"
      },
      "source": [
        "pd.options.mode.chained_assignment = None\n",
        "from sklearn.ensemble import VotingClassifier\n",
        "vclf = VotingClassifier(estimators=[('clf1', pipe_tree), ('clf2', pipe_adaBoost),('clf3',pipe_catBoost)]\n",
        "                        , voting='soft')\n",
        "vclf.fit(X_train, y_train)"
      ],
      "execution_count": null,
      "outputs": [
        {
          "output_type": "stream",
          "text": [
            " CategoricalColumnRemover init\n",
            " CategoricalColumnRemover init\n",
            "CategoricalColumn\n"
          ],
          "name": "stdout"
        },
        {
          "output_type": "execute_result",
          "data": {
            "text/plain": [
              "VotingClassifier(estimators=[('clf1',\n",
              "                              Pipeline(memory=None,\n",
              "                                       steps=[('col_extract',\n",
              "                                               CategoricalColumnRemover()),\n",
              "                                              ('clf',\n",
              "                                               DecisionTreeClassifier(ccp_alpha=0.0,\n",
              "                                                                      class_weight=None,\n",
              "                                                                      criterion='gini',\n",
              "                                                                      max_depth=None,\n",
              "                                                                      max_features=None,\n",
              "                                                                      max_leaf_nodes=None,\n",
              "                                                                      min_impurity_decrease=0.0,\n",
              "                                                                      min_impurity_split=None,\n",
              "                                                                      min_samples_leaf=1,\n",
              "                                                                      min_samples_split=2,\n",
              "                                                                      min_weight_fraction_l...\n",
              "                                                                                                        min_weight_fraction_leaf=0.0,\n",
              "                                                                                                        presort='deprecated',\n",
              "                                                                                                        random_state=None,\n",
              "                                                                                                        splitter='best'),\n",
              "                                                                  learning_rate=1.0,\n",
              "                                                                  n_estimators=50,\n",
              "                                                                  random_state=None))],\n",
              "                                       verbose=False)),\n",
              "                             ('clf3',\n",
              "                              Pipeline(memory=None,\n",
              "                                       steps=[('col_extract',\n",
              "                                               CategoricalColumn()),\n",
              "                                              ('clf',\n",
              "                                               <catboost.core.CatBoostClassifier object at 0x7f27449d9160>)],\n",
              "                                       verbose=False))],\n",
              "                 flatten_transform=True, n_jobs=None, voting='soft',\n",
              "                 weights=None)"
            ]
          },
          "metadata": {
            "tags": []
          },
          "execution_count": 117
        }
      ]
    },
    {
      "cell_type": "code",
      "metadata": {
        "id": "1FblNDgOIo2H",
        "colab_type": "code",
        "colab": {
          "base_uri": "https://localhost:8080/",
          "height": 296
        },
        "outputId": "202c8f49-4b5d-41d8-defc-78bf897277ad"
      },
      "source": [
        "_ = plot_confusion_matrix(vclf, X_test, y_test,values_format = 'd')\n",
        "print(metrics.f1_score(y_test,vclf.predict(X_test),average='macro'))"
      ],
      "execution_count": null,
      "outputs": [
        {
          "output_type": "stream",
          "text": [
            "0.8966667862652937\n"
          ],
          "name": "stdout"
        },
        {
          "output_type": "display_data",
          "data": {
            "image/png": "[encoded data removed]",
            "text/plain": [
              "<Figure size 432x288 with 2 Axes>"
            ]
          },
          "metadata": {
            "tags": [],
            "needs_background": "light"
          }
        }
      ]
    },
    {
      "cell_type": "code",
      "metadata": {
        "id": "56_cfPP8KCkx",
        "colab_type": "code",
        "colab": {}
      },
      "source": [
        "from sklearn.model_selection import RandomizedSearchCV\n",
        "params = {'clf1__clf__max_depth': [3,4,5,6,7,8,9],\n",
        "          'clf1__clf__max_features': [0.5, 0.75,None],\n",
        "          'clf2__clf__base_estimator__max_depth' : [1,2,3,4,5],\n",
        "          'clf2__clf__n_estimators': [50,100],\n",
        "          'clf3__clf__max_depth':[3,5,7,10]\n",
        "          }\n",
        "\n",
        "grid = RandomizedSearchCV(estimator=vclf, param_distributions = params, cv=5,return_train_score=False,n_iter=20)\n",
        "grid = grid.fit(X_train, y_train)"
      ],
      "execution_count": null,
      "outputs": []
    },
    {
      "cell_type": "code",
      "metadata": {
        "id": "NIlCDK4wMkbm",
        "colab_type": "code",
        "colab": {
          "base_uri": "https://localhost:8080/",
          "height": 313
        },
        "outputId": "bea00b60-8cc5-4dff-cd4d-a40884eb62cb"
      },
      "source": [
        "_ = plot_confusion_matrix(grid.best_estimator_, X_test, y_test,values_format = 'd')\n",
        "print(metrics.accuracy_score(y_test,grid.best_estimator_.predict(X_test)))\n",
        "print(metrics.f1_score(y_test,grid.best_estimator_.predict(X_test),average='macro'))"
      ],
      "execution_count": null,
      "outputs": [
        {
          "output_type": "stream",
          "text": [
            "0.959375\n",
            "0.850740913494313\n"
          ],
          "name": "stdout"
        },
        {
          "output_type": "display_data",
          "data": {
            "image/png": "[encoded data removed]",
            "text/plain": [
              "<Figure size 432x288 with 2 Axes>"
            ]
          },
          "metadata": {
            "tags": [],
            "needs_background": "light"
          }
        }
      ]
    },
    {
      "cell_type": "code",
      "metadata": {
        "id": "uC2Z62rYOTQH",
        "colab_type": "code",
        "colab": {
          "base_uri": "https://localhost:8080/",
          "height": 975
        },
        "outputId": "9453114a-441b-42b0-90ef-9a5fa64c09f5"
      },
      "source": [
        "pd.set_option('display.max_colwidth', None)\n",
        "pd.DataFrame(grid.cv_results_)[['params','mean_test_score']]"
      ],
      "execution_count": null,
      "outputs": [
        {
          "output_type": "execute_result",
          "data": {
            "text/html": [
              "<div>\n",
              "<style scoped>\n",
              "    .dataframe tbody tr th:only-of-type {\n",
              "        vertical-align: middle;\n",
              "    }\n",
              "\n",
              "    .dataframe tbody tr th {\n",
              "        vertical-align: top;\n",
              "    }\n",
              "\n",
              "    .dataframe thead th {\n",
              "        text-align: right;\n",
              "    }\n",
              "</style>\n",
              "<table border=\"1\" class=\"dataframe\">\n",
              "  <thead>\n",
              "    <tr style=\"text-align: right;\">\n",
              "      <th></th>\n",
              "      <th>params</th>\n",
              "      <th>mean_test_score</th>\n",
              "    </tr>\n",
              "  </thead>\n",
              "  <tbody>\n",
              "    <tr>\n",
              "      <th>0</th>\n",
              "      <td>{'clf3__clf__max_depth': 7, 'clf2__clf__n_estimators': 100, 'clf2__clf__base_estimator__max_depth': 1, 'clf1__clf__max_features': None, 'clf1__clf__max_depth': 6}</td>\n",
              "      <td>0.952083</td>\n",
              "    </tr>\n",
              "    <tr>\n",
              "      <th>1</th>\n",
              "      <td>{'clf3__clf__max_depth': 3, 'clf2__clf__n_estimators': 100, 'clf2__clf__base_estimator__max_depth': 2, 'clf1__clf__max_features': 0.5, 'clf1__clf__max_depth': 4}</td>\n",
              "      <td>0.945833</td>\n",
              "    </tr>\n",
              "    <tr>\n",
              "      <th>2</th>\n",
              "      <td>{'clf3__clf__max_depth': 3, 'clf2__clf__n_estimators': 100, 'clf2__clf__base_estimator__max_depth': 4, 'clf1__clf__max_features': 0.5, 'clf1__clf__max_depth': 8}</td>\n",
              "      <td>0.947917</td>\n",
              "    </tr>\n",
              "    <tr>\n",
              "      <th>3</th>\n",
              "      <td>{'clf3__clf__max_depth': 3, 'clf2__clf__n_estimators': 100, 'clf2__clf__base_estimator__max_depth': 5, 'clf1__clf__max_features': 0.5, 'clf1__clf__max_depth': 4}</td>\n",
              "      <td>0.945833</td>\n",
              "    </tr>\n",
              "    <tr>\n",
              "      <th>4</th>\n",
              "      <td>{'clf3__clf__max_depth': 3, 'clf2__clf__n_estimators': 50, 'clf2__clf__base_estimator__max_depth': 4, 'clf1__clf__max_features': 0.5, 'clf1__clf__max_depth': 9}</td>\n",
              "      <td>0.947917</td>\n",
              "    </tr>\n",
              "    <tr>\n",
              "      <th>5</th>\n",
              "      <td>{'clf3__clf__max_depth': 7, 'clf2__clf__n_estimators': 50, 'clf2__clf__base_estimator__max_depth': 5, 'clf1__clf__max_features': None, 'clf1__clf__max_depth': 8}</td>\n",
              "      <td>0.958333</td>\n",
              "    </tr>\n",
              "    <tr>\n",
              "      <th>6</th>\n",
              "      <td>{'clf3__clf__max_depth': 7, 'clf2__clf__n_estimators': 50, 'clf2__clf__base_estimator__max_depth': 3, 'clf1__clf__max_features': 0.5, 'clf1__clf__max_depth': 8}</td>\n",
              "      <td>0.958333</td>\n",
              "    </tr>\n",
              "    <tr>\n",
              "      <th>7</th>\n",
              "      <td>{'clf3__clf__max_depth': 5, 'clf2__clf__n_estimators': 50, 'clf2__clf__base_estimator__max_depth': 1, 'clf1__clf__max_features': 0.75, 'clf1__clf__max_depth': 3}</td>\n",
              "      <td>0.954167</td>\n",
              "    </tr>\n",
              "    <tr>\n",
              "      <th>8</th>\n",
              "      <td>{'clf3__clf__max_depth': 10, 'clf2__clf__n_estimators': 50, 'clf2__clf__base_estimator__max_depth': 5, 'clf1__clf__max_features': 0.75, 'clf1__clf__max_depth': 5}</td>\n",
              "      <td>0.950000</td>\n",
              "    </tr>\n",
              "    <tr>\n",
              "      <th>9</th>\n",
              "      <td>{'clf3__clf__max_depth': 10, 'clf2__clf__n_estimators': 50, 'clf2__clf__base_estimator__max_depth': 5, 'clf1__clf__max_features': None, 'clf1__clf__max_depth': 5}</td>\n",
              "      <td>0.958333</td>\n",
              "    </tr>\n",
              "    <tr>\n",
              "      <th>10</th>\n",
              "      <td>{'clf3__clf__max_depth': 5, 'clf2__clf__n_estimators': 50, 'clf2__clf__base_estimator__max_depth': 4, 'clf1__clf__max_features': None, 'clf1__clf__max_depth': 7}</td>\n",
              "      <td>0.950000</td>\n",
              "    </tr>\n",
              "    <tr>\n",
              "      <th>11</th>\n",
              "      <td>{'clf3__clf__max_depth': 3, 'clf2__clf__n_estimators': 100, 'clf2__clf__base_estimator__max_depth': 5, 'clf1__clf__max_features': 0.75, 'clf1__clf__max_depth': 9}</td>\n",
              "      <td>0.958333</td>\n",
              "    </tr>\n",
              "    <tr>\n",
              "      <th>12</th>\n",
              "      <td>{'clf3__clf__max_depth': 3, 'clf2__clf__n_estimators': 50, 'clf2__clf__base_estimator__max_depth': 4, 'clf1__clf__max_features': None, 'clf1__clf__max_depth': 6}</td>\n",
              "      <td>0.954167</td>\n",
              "    </tr>\n",
              "    <tr>\n",
              "      <th>13</th>\n",
              "      <td>{'clf3__clf__max_depth': 10, 'clf2__clf__n_estimators': 100, 'clf2__clf__base_estimator__max_depth': 4, 'clf1__clf__max_features': 0.75, 'clf1__clf__max_depth': 7}</td>\n",
              "      <td>0.962500</td>\n",
              "    </tr>\n",
              "    <tr>\n",
              "      <th>14</th>\n",
              "      <td>{'clf3__clf__max_depth': 5, 'clf2__clf__n_estimators': 100, 'clf2__clf__base_estimator__max_depth': 2, 'clf1__clf__max_features': None, 'clf1__clf__max_depth': 9}</td>\n",
              "      <td>0.950000</td>\n",
              "    </tr>\n",
              "    <tr>\n",
              "      <th>15</th>\n",
              "      <td>{'clf3__clf__max_depth': 7, 'clf2__clf__n_estimators': 50, 'clf2__clf__base_estimator__max_depth': 3, 'clf1__clf__max_features': None, 'clf1__clf__max_depth': 3}</td>\n",
              "      <td>0.954167</td>\n",
              "    </tr>\n",
              "    <tr>\n",
              "      <th>16</th>\n",
              "      <td>{'clf3__clf__max_depth': 5, 'clf2__clf__n_estimators': 50, 'clf2__clf__base_estimator__max_depth': 3, 'clf1__clf__max_features': 0.5, 'clf1__clf__max_depth': 3}</td>\n",
              "      <td>0.947917</td>\n",
              "    </tr>\n",
              "    <tr>\n",
              "      <th>17</th>\n",
              "      <td>{'clf3__clf__max_depth': 7, 'clf2__clf__n_estimators': 100, 'clf2__clf__base_estimator__max_depth': 1, 'clf1__clf__max_features': None, 'clf1__clf__max_depth': 5}</td>\n",
              "      <td>0.952083</td>\n",
              "    </tr>\n",
              "    <tr>\n",
              "      <th>18</th>\n",
              "      <td>{'clf3__clf__max_depth': 10, 'clf2__clf__n_estimators': 50, 'clf2__clf__base_estimator__max_depth': 2, 'clf1__clf__max_features': None, 'clf1__clf__max_depth': 9}</td>\n",
              "      <td>0.947917</td>\n",
              "    </tr>\n",
              "    <tr>\n",
              "      <th>19</th>\n",
              "      <td>{'clf3__clf__max_depth': 3, 'clf2__clf__n_estimators': 100, 'clf2__clf__base_estimator__max_depth': 2, 'clf1__clf__max_features': 0.5, 'clf1__clf__max_depth': 5}</td>\n",
              "      <td>0.952083</td>\n",
              "    </tr>\n",
              "  </tbody>\n",
              "</table>\n",
              "</div>"
            ],
            "text/plain": [
              "                                                                                                                                                                 params  mean_test_score\n",
              "0    {'clf3__clf__max_depth': 7, 'clf2__clf__n_estimators': 100, 'clf2__clf__base_estimator__max_depth': 1, 'clf1__clf__max_features': None, 'clf1__clf__max_depth': 6}         0.952083\n",
              "1     {'clf3__clf__max_depth': 3, 'clf2__clf__n_estimators': 100, 'clf2__clf__base_estimator__max_depth': 2, 'clf1__clf__max_features': 0.5, 'clf1__clf__max_depth': 4}         0.945833\n",
              "2     {'clf3__clf__max_depth': 3, 'clf2__clf__n_estimators': 100, 'clf2__clf__base_estimator__max_depth': 4, 'clf1__clf__max_features': 0.5, 'clf1__clf__max_depth': 8}         0.947917\n",
              "3     {'clf3__clf__max_depth': 3, 'clf2__clf__n_estimators': 100, 'clf2__clf__base_estimator__max_depth': 5, 'clf1__clf__max_features': 0.5, 'clf1__clf__max_depth': 4}         0.945833\n",
              "4      {'clf3__clf__max_depth': 3, 'clf2__clf__n_estimators': 50, 'clf2__clf__base_estimator__max_depth': 4, 'clf1__clf__max_features': 0.5, 'clf1__clf__max_depth': 9}         0.947917\n",
              "5     {'clf3__clf__max_depth': 7, 'clf2__clf__n_estimators': 50, 'clf2__clf__base_estimator__max_depth': 5, 'clf1__clf__max_features': None, 'clf1__clf__max_depth': 8}         0.958333\n",
              "6      {'clf3__clf__max_depth': 7, 'clf2__clf__n_estimators': 50, 'clf2__clf__base_estimator__max_depth': 3, 'clf1__clf__max_features': 0.5, 'clf1__clf__max_depth': 8}         0.958333\n",
              "7     {'clf3__clf__max_depth': 5, 'clf2__clf__n_estimators': 50, 'clf2__clf__base_estimator__max_depth': 1, 'clf1__clf__max_features': 0.75, 'clf1__clf__max_depth': 3}         0.954167\n",
              "8    {'clf3__clf__max_depth': 10, 'clf2__clf__n_estimators': 50, 'clf2__clf__base_estimator__max_depth': 5, 'clf1__clf__max_features': 0.75, 'clf1__clf__max_depth': 5}         0.950000\n",
              "9    {'clf3__clf__max_depth': 10, 'clf2__clf__n_estimators': 50, 'clf2__clf__base_estimator__max_depth': 5, 'clf1__clf__max_features': None, 'clf1__clf__max_depth': 5}         0.958333\n",
              "10    {'clf3__clf__max_depth': 5, 'clf2__clf__n_estimators': 50, 'clf2__clf__base_estimator__max_depth': 4, 'clf1__clf__max_features': None, 'clf1__clf__max_depth': 7}         0.950000\n",
              "11   {'clf3__clf__max_depth': 3, 'clf2__clf__n_estimators': 100, 'clf2__clf__base_estimator__max_depth': 5, 'clf1__clf__max_features': 0.75, 'clf1__clf__max_depth': 9}         0.958333\n",
              "12    {'clf3__clf__max_depth': 3, 'clf2__clf__n_estimators': 50, 'clf2__clf__base_estimator__max_depth': 4, 'clf1__clf__max_features': None, 'clf1__clf__max_depth': 6}         0.954167\n",
              "13  {'clf3__clf__max_depth': 10, 'clf2__clf__n_estimators': 100, 'clf2__clf__base_estimator__max_depth': 4, 'clf1__clf__max_features': 0.75, 'clf1__clf__max_depth': 7}         0.962500\n",
              "14   {'clf3__clf__max_depth': 5, 'clf2__clf__n_estimators': 100, 'clf2__clf__base_estimator__max_depth': 2, 'clf1__clf__max_features': None, 'clf1__clf__max_depth': 9}         0.950000\n",
              "15    {'clf3__clf__max_depth': 7, 'clf2__clf__n_estimators': 50, 'clf2__clf__base_estimator__max_depth': 3, 'clf1__clf__max_features': None, 'clf1__clf__max_depth': 3}         0.954167\n",
              "16     {'clf3__clf__max_depth': 5, 'clf2__clf__n_estimators': 50, 'clf2__clf__base_estimator__max_depth': 3, 'clf1__clf__max_features': 0.5, 'clf1__clf__max_depth': 3}         0.947917\n",
              "17   {'clf3__clf__max_depth': 7, 'clf2__clf__n_estimators': 100, 'clf2__clf__base_estimator__max_depth': 1, 'clf1__clf__max_features': None, 'clf1__clf__max_depth': 5}         0.952083\n",
              "18   {'clf3__clf__max_depth': 10, 'clf2__clf__n_estimators': 50, 'clf2__clf__base_estimator__max_depth': 2, 'clf1__clf__max_features': None, 'clf1__clf__max_depth': 9}         0.947917\n",
              "19    {'clf3__clf__max_depth': 3, 'clf2__clf__n_estimators': 100, 'clf2__clf__base_estimator__max_depth': 2, 'clf1__clf__max_features': 0.5, 'clf1__clf__max_depth': 5}         0.952083"
            ]
          },
          "metadata": {
            "tags": []
          },
          "execution_count": 136
        }
      ]
    },
    {
      "cell_type": "code",
      "metadata": {
        "id": "avYOCPXLOyFr",
        "colab_type": "code",
        "colab": {
          "base_uri": "https://localhost:8080/",
          "height": 370
        },
        "outputId": "67654959-a595-40bc-b186-f09e52533a09"
      },
      "source": [
        "from hyperopt import hp, tpe\n",
        "from hyperopt.fmin import fmin\n",
        "from catboost import CatBoostClassifier\n",
        "from sklearn.model_selection import cross_val_score\n",
        "\n",
        "def hyperopt_train_test(params):\n",
        "    clf = VotingClassifier(estimators=[('clf1', pipe_tree), ('clf2', pipe_adaBoost),('clf3',pipe_catBoost)]\n",
        "                        , voting='soft')\n",
        "    score = cross_val_score(clf, X_train, y_train,cv=4,scoring='accuracy').mean()\n",
        "    print(\"score {:.4f} params {}\".format(score, params))\n",
        "    return -score\n",
        "\n",
        "space4rf = {\n",
        "    'clf2__clf__n_estimators': hp.choice('clf2__clf__n_estimators',range(100,500))\n",
        "}\n",
        "\n",
        "best = fmin(hyperopt_train_test, space4rf, algo=tpe.suggest, max_evals=20)"
      ],
      "execution_count": null,
      "outputs": [
        {
          "output_type": "stream",
          "text": [
            "score 0.9542 params {'clf2__clf__n_estimators': 451}\n",
            "score 0.9583 params {'clf2__clf__n_estimators': 297}\n",
            "score 0.9521 params {'clf2__clf__n_estimators': 103}\n",
            "score 0.9583 params {'clf2__clf__n_estimators': 411}\n",
            "score 0.9521 params {'clf2__clf__n_estimators': 400}\n",
            "score 0.9646 params {'clf2__clf__n_estimators': 448}\n",
            "score 0.9563 params {'clf2__clf__n_estimators': 100}\n",
            "score 0.9563 params {'clf2__clf__n_estimators': 467}\n",
            "score 0.9625 params {'clf2__clf__n_estimators': 333}\n",
            "score 0.9583 params {'clf2__clf__n_estimators': 157}\n",
            "score 0.9625 params {'clf2__clf__n_estimators': 216}\n",
            "score 0.9521 params {'clf2__clf__n_estimators': 302}\n",
            "score 0.9583 params {'clf2__clf__n_estimators': 117}\n",
            "score 0.9604 params {'clf2__clf__n_estimators': 367}\n",
            "score 0.9563 params {'clf2__clf__n_estimators': 180}\n",
            "score 0.9542 params {'clf2__clf__n_estimators': 203}\n",
            "score 0.9500 params {'clf2__clf__n_estimators': 338}\n",
            "score 0.9417 params {'clf2__clf__n_estimators': 161}\n",
            "score 0.9625 params {'clf2__clf__n_estimators': 216}\n",
            "score 0.9583 params {'clf2__clf__n_estimators': 320}\n",
            "100%|██████████| 20/20 [03:23<00:00, 10.19s/it, best loss: -0.9645833333333333]\n"
          ],
          "name": "stdout"
        }
      ]
    },
    {
      "cell_type": "code",
      "metadata": {
        "id": "4HqNEoU2T2_X",
        "colab_type": "code",
        "colab": {
          "base_uri": "https://localhost:8080/",
          "height": 34
        },
        "outputId": "cecdf13b-8a2e-4213-cae0-3168b3580016"
      },
      "source": [
        "print(\"Hyperopt estimated optimum {}\".format(best))"
      ],
      "execution_count": null,
      "outputs": [
        {
          "output_type": "stream",
          "text": [
            "Hyperopt estimated optimum {'clf2__clf__n_estimators': 348}\n"
          ],
          "name": "stdout"
        }
      ]
    },
    {
      "cell_type": "code",
      "metadata": {
        "id": "oEHUUKmgUz-v",
        "colab_type": "code",
        "colab": {
          "base_uri": "https://localhost:8080/",
          "height": 571
        },
        "outputId": "72124b54-fa6d-4096-f0b9-c6bc7b80b7b9"
      },
      "source": [
        "from sklearn.ensemble import VotingClassifier\n",
        "pipe_adaBoost_best = Pipeline([\n",
        "    ('col_extract', CategoricalColumnRemover()), # selecting features 0 and 1 (df1) to be used with LR (clf1)\n",
        "    ('clf',  AdaBoostClassifier(\n",
        "    DecisionTreeClassifier(max_depth=4),n_estimators = 348))\n",
        "    ])\n",
        "vclf_best = VotingClassifier(estimators=[('clf1', pipe_tree), ('clf2', pipe_adaBoost_best),('clf3',pipe_catBoost)]\n",
        "                        , voting='soft')\n",
        "vclf_best.fit(X_train, y_train)"
      ],
      "execution_count": null,
      "outputs": [
        {
          "output_type": "execute_result",
          "data": {
            "text/plain": [
              "VotingClassifier(estimators=[('clf1',\n",
              "                              Pipeline(memory=None,\n",
              "                                       steps=[('col_extract',\n",
              "                                               CategoricalColumnRemover()),\n",
              "                                              ('clf',\n",
              "                                               DecisionTreeClassifier(ccp_alpha=0.0,\n",
              "                                                                      class_weight=None,\n",
              "                                                                      criterion='gini',\n",
              "                                                                      max_depth=None,\n",
              "                                                                      max_features=None,\n",
              "                                                                      max_leaf_nodes=None,\n",
              "                                                                      min_impurity_decrease=0.0,\n",
              "                                                                      min_impurity_split=None,\n",
              "                                                                      min_samples_leaf=1,\n",
              "                                                                      min_samples_split=2,\n",
              "                                                                      min_weight_fraction_l...\n",
              "                                                                                                        min_weight_fraction_leaf=0.0,\n",
              "                                                                                                        presort='deprecated',\n",
              "                                                                                                        random_state=None,\n",
              "                                                                                                        splitter='best'),\n",
              "                                                                  learning_rate=1.0,\n",
              "                                                                  n_estimators=348,\n",
              "                                                                  random_state=None))],\n",
              "                                       verbose=False)),\n",
              "                             ('clf3',\n",
              "                              Pipeline(memory=None,\n",
              "                                       steps=[('col_extract',\n",
              "                                               CategoricalColumn()),\n",
              "                                              ('clf',\n",
              "                                               <catboost.core.CatBoostClassifier object at 0x7f27436cb3c8>)],\n",
              "                                       verbose=False))],\n",
              "                 flatten_transform=True, n_jobs=None, voting='soft',\n",
              "                 weights=None)"
            ]
          },
          "metadata": {
            "tags": []
          },
          "execution_count": 154
        }
      ]
    },
    {
      "cell_type": "code",
      "metadata": {
        "id": "Xtr5fsO2Wnjv",
        "colab_type": "code",
        "colab": {
          "base_uri": "https://localhost:8080/",
          "height": 313
        },
        "outputId": "880faf47-34ca-4a72-c88a-2ca44fe51f98"
      },
      "source": [
        "_ = plot_confusion_matrix(vclf_best, X_test, y_test,values_format = 'd')\n",
        "print(metrics.accuracy_score(y_test,vclf_best.predict(X_test)))\n",
        "print(metrics.f1_score(y_test,vclf_best.predict(X_test),average='macro'))"
      ],
      "execution_count": null,
      "outputs": [
        {
          "output_type": "stream",
          "text": [
            "0.965625\n",
            "0.8685340802987862\n"
          ],
          "name": "stdout"
        },
        {
          "output_type": "display_data",
          "data": {
            "image/png": "[encoded data removed]",
            "text/plain": [
              "<Figure size 432x288 with 2 Axes>"
            ]
          },
          "metadata": {
            "tags": [],
            "needs_background": "light"
          }
        }
      ]
    }
  ]
}