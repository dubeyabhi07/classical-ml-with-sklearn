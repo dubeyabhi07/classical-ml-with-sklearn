{
  "nbformat": 4,
  "nbformat_minor": 0,
  "metadata": {
    "colab": {
      "name": "voting.ipynb",
      "provenance": [],
      "collapsed_sections": [],
      "include_colab_link": true
    },
    "kernelspec": {
      "name": "python3",
      "display_name": "Python 3"
    }
  },
  "cells": [
    {
      "cell_type": "markdown",
      "metadata": {
        "id": "view-in-github",
        "colab_type": "text"
      },
      "source": [
        "<a href=\"https://colab.research.google.com/github/dubeyabhi07/classical-ml-with-sklearn/blob/master/Ensembles/voting.ipynb\" target=\"_parent\"><img src=\"https://colab.research.google.com/assets/colab-badge.svg\" alt=\"Open In Colab\"/></a>"
      ]
    },
    {
      "cell_type": "code",
      "metadata": {
        "id": "LU8BC1GL1sUt",
        "colab_type": "code",
        "colab": {}
      },
      "source": [
        "import pandas as pd\n",
        "df = pd.read_csv('pokemon.csv', delimiter = ',')"
      ],
      "execution_count": 1,
      "outputs": []
    },
    {
      "cell_type": "code",
      "metadata": {
        "id": "xPrLSfg9M4RE",
        "colab_type": "code",
        "colab": {
          "base_uri": "https://localhost:8080/",
          "height": 195
        },
        "outputId": "ec91f72f-3e63-4259-9b3f-00b9252d2067"
      },
      "source": [
        "df.head(5)"
      ],
      "execution_count": 2,
      "outputs": [
        {
          "output_type": "execute_result",
          "data": {
            "text/html": [
              "<div>\n",
              "<style scoped>\n",
              "    .dataframe tbody tr th:only-of-type {\n",
              "        vertical-align: middle;\n",
              "    }\n",
              "\n",
              "    .dataframe tbody tr th {\n",
              "        vertical-align: top;\n",
              "    }\n",
              "\n",
              "    .dataframe thead th {\n",
              "        text-align: right;\n",
              "    }\n",
              "</style>\n",
              "<table border=\"1\" class=\"dataframe\">\n",
              "  <thead>\n",
              "    <tr style=\"text-align: right;\">\n",
              "      <th></th>\n",
              "      <th>#</th>\n",
              "      <th>Name</th>\n",
              "      <th>Type 1</th>\n",
              "      <th>Type 2</th>\n",
              "      <th>Total</th>\n",
              "      <th>HP</th>\n",
              "      <th>Attack</th>\n",
              "      <th>Defense</th>\n",
              "      <th>Sp. Atk</th>\n",
              "      <th>Sp. Def</th>\n",
              "      <th>Speed</th>\n",
              "      <th>Generation</th>\n",
              "      <th>Legendary</th>\n",
              "    </tr>\n",
              "  </thead>\n",
              "  <tbody>\n",
              "    <tr>\n",
              "      <th>0</th>\n",
              "      <td>1</td>\n",
              "      <td>Bulbasaur</td>\n",
              "      <td>Grass</td>\n",
              "      <td>Poison</td>\n",
              "      <td>318</td>\n",
              "      <td>45</td>\n",
              "      <td>49</td>\n",
              "      <td>49</td>\n",
              "      <td>65</td>\n",
              "      <td>65</td>\n",
              "      <td>45</td>\n",
              "      <td>1</td>\n",
              "      <td>False</td>\n",
              "    </tr>\n",
              "    <tr>\n",
              "      <th>1</th>\n",
              "      <td>2</td>\n",
              "      <td>Ivysaur</td>\n",
              "      <td>Grass</td>\n",
              "      <td>Poison</td>\n",
              "      <td>405</td>\n",
              "      <td>60</td>\n",
              "      <td>62</td>\n",
              "      <td>63</td>\n",
              "      <td>80</td>\n",
              "      <td>80</td>\n",
              "      <td>60</td>\n",
              "      <td>1</td>\n",
              "      <td>False</td>\n",
              "    </tr>\n",
              "    <tr>\n",
              "      <th>2</th>\n",
              "      <td>3</td>\n",
              "      <td>Venusaur</td>\n",
              "      <td>Grass</td>\n",
              "      <td>Poison</td>\n",
              "      <td>525</td>\n",
              "      <td>80</td>\n",
              "      <td>82</td>\n",
              "      <td>83</td>\n",
              "      <td>100</td>\n",
              "      <td>100</td>\n",
              "      <td>80</td>\n",
              "      <td>1</td>\n",
              "      <td>False</td>\n",
              "    </tr>\n",
              "    <tr>\n",
              "      <th>3</th>\n",
              "      <td>3</td>\n",
              "      <td>VenusaurMega Venusaur</td>\n",
              "      <td>Grass</td>\n",
              "      <td>Poison</td>\n",
              "      <td>625</td>\n",
              "      <td>80</td>\n",
              "      <td>100</td>\n",
              "      <td>123</td>\n",
              "      <td>122</td>\n",
              "      <td>120</td>\n",
              "      <td>80</td>\n",
              "      <td>1</td>\n",
              "      <td>False</td>\n",
              "    </tr>\n",
              "    <tr>\n",
              "      <th>4</th>\n",
              "      <td>4</td>\n",
              "      <td>Charmander</td>\n",
              "      <td>Fire</td>\n",
              "      <td>NaN</td>\n",
              "      <td>309</td>\n",
              "      <td>39</td>\n",
              "      <td>52</td>\n",
              "      <td>43</td>\n",
              "      <td>60</td>\n",
              "      <td>50</td>\n",
              "      <td>65</td>\n",
              "      <td>1</td>\n",
              "      <td>False</td>\n",
              "    </tr>\n",
              "  </tbody>\n",
              "</table>\n",
              "</div>"
            ],
            "text/plain": [
              "   #                   Name Type 1  ... Speed  Generation  Legendary\n",
              "0  1              Bulbasaur  Grass  ...    45           1      False\n",
              "1  2                Ivysaur  Grass  ...    60           1      False\n",
              "2  3               Venusaur  Grass  ...    80           1      False\n",
              "3  3  VenusaurMega Venusaur  Grass  ...    80           1      False\n",
              "4  4             Charmander   Fire  ...    65           1      False\n",
              "\n",
              "[5 rows x 13 columns]"
            ]
          },
          "metadata": {
            "tags": []
          },
          "execution_count": 2
        }
      ]
    },
    {
      "cell_type": "code",
      "metadata": {
        "id": "gFRNV4ctM9xM",
        "colab_type": "code",
        "colab": {}
      },
      "source": [
        "df['Legendary'] = df['Legendary'].astype('int')  # when column to be predicted is in bool, catboost gives predicted column as str"
      ],
      "execution_count": 3,
      "outputs": []
    },
    {
      "cell_type": "code",
      "metadata": {
        "id": "_mpL9nwUNCfC",
        "colab_type": "code",
        "colab": {}
      },
      "source": [
        "y = df['Legendary']\n",
        "x = df.drop(['#', 'Name','Legendary'], axis = 1) "
      ],
      "execution_count": 4,
      "outputs": []
    },
    {
      "cell_type": "code",
      "metadata": {
        "id": "PTMd-XBtN50y",
        "colab_type": "code",
        "colab": {}
      },
      "source": [
        "from sklearn.model_selection import train_test_split\n",
        "X_train, X_test, y_train, y_test = train_test_split(x,y,test_size=0.4, random_state=30, stratify=y)"
      ],
      "execution_count": 5,
      "outputs": []
    },
    {
      "cell_type": "markdown",
      "metadata": {
        "id": "cqIRhFKXNMHZ",
        "colab_type": "text"
      },
      "source": [
        "# lets measure f1 score with different different models :\n",
        "\n",
        "- Tree\n",
        "- AdaBoost\n",
        "- CatBoost\n"
      ]
    },
    {
      "cell_type": "code",
      "metadata": {
        "id": "1PuOZGIeNFSd",
        "colab_type": "code",
        "colab": {
          "base_uri": "https://localhost:8080/",
          "height": 118
        },
        "outputId": "e28e0bc6-c791-4ede-c812-412300b7d6e6"
      },
      "source": [
        "from sklearn.tree import DecisionTreeClassifier, plot_tree\n",
        "from sklearn import metrics\n",
        "\n",
        "dt_model = DecisionTreeClassifier()\n",
        "\n",
        "# Fit on training data\n",
        "rf_train = X_train.drop(['Type 1', 'Type 2'], axis = 1) \n",
        "rf_test = X_test.drop(['Type 1', 'Type 2'], axis = 1) \n",
        "dt_model.fit(rf_train, y_train)"
      ],
      "execution_count": 6,
      "outputs": [
        {
          "output_type": "execute_result",
          "data": {
            "text/plain": [
              "DecisionTreeClassifier(ccp_alpha=0.0, class_weight=None, criterion='gini',\n",
              "                       max_depth=None, max_features=None, max_leaf_nodes=None,\n",
              "                       min_impurity_decrease=0.0, min_impurity_split=None,\n",
              "                       min_samples_leaf=1, min_samples_split=2,\n",
              "                       min_weight_fraction_leaf=0.0, presort='deprecated',\n",
              "                       random_state=None, splitter='best')"
            ]
          },
          "metadata": {
            "tags": []
          },
          "execution_count": 6
        }
      ]
    },
    {
      "cell_type": "code",
      "metadata": {
        "id": "ZkxhrhuXOnOV",
        "colab_type": "code",
        "colab": {
          "base_uri": "https://localhost:8080/",
          "height": 296
        },
        "outputId": "b1811684-f498-4630-94ff-93319034ccd4"
      },
      "source": [
        "from sklearn import metrics\n",
        "from sklearn.metrics import plot_confusion_matrix\n",
        "_ = plot_confusion_matrix(dt_model, rf_test, y_test,values_format = 'd')\n",
        "print(metrics.f1_score(y_test,dt_model.predict(rf_test),average='macro'))"
      ],
      "execution_count": 7,
      "outputs": [
        {
          "output_type": "stream",
          "text": [
            "0.8594642072902943\n"
          ],
          "name": "stdout"
        },
        {
          "output_type": "display_data",
          "data": {
            "image/png": "[encoded data removed]",
            "text/plain": [
              "<Figure size 432x288 with 2 Axes>"
            ]
          },
          "metadata": {
            "tags": [],
            "needs_background": "light"
          }
        }
      ]
    },
    {
      "cell_type": "code",
      "metadata": {
        "id": "M7GauPWxW-L4",
        "colab_type": "code",
        "colab": {
          "base_uri": "https://localhost:8080/",
          "height": 286
        },
        "outputId": "af7812d8-aa70-45c5-8e72-dda0b8d3e6c3"
      },
      "source": [
        "from sklearn.ensemble import AdaBoostClassifier\n",
        "from sklearn.tree import DecisionTreeClassifier\n",
        "ab_model = AdaBoostClassifier(\n",
        "    DecisionTreeClassifier(max_depth=4)\n",
        ")\n",
        "ab_model.fit(rf_train,y_train)"
      ],
      "execution_count": 8,
      "outputs": [
        {
          "output_type": "execute_result",
          "data": {
            "text/plain": [
              "AdaBoostClassifier(algorithm='SAMME.R',\n",
              "                   base_estimator=DecisionTreeClassifier(ccp_alpha=0.0,\n",
              "                                                         class_weight=None,\n",
              "                                                         criterion='gini',\n",
              "                                                         max_depth=4,\n",
              "                                                         max_features=None,\n",
              "                                                         max_leaf_nodes=None,\n",
              "                                                         min_impurity_decrease=0.0,\n",
              "                                                         min_impurity_split=None,\n",
              "                                                         min_samples_leaf=1,\n",
              "                                                         min_samples_split=2,\n",
              "                                                         min_weight_fraction_leaf=0.0,\n",
              "                                                         presort='deprecated',\n",
              "                                                         random_state=None,\n",
              "                                                         splitter='best'),\n",
              "                   learning_rate=1.0, n_estimators=50, random_state=None)"
            ]
          },
          "metadata": {
            "tags": []
          },
          "execution_count": 8
        }
      ]
    },
    {
      "cell_type": "code",
      "metadata": {
        "id": "mtkAlcqNXVx5",
        "colab_type": "code",
        "colab": {
          "base_uri": "https://localhost:8080/",
          "height": 296
        },
        "outputId": "b64545cf-0f4b-4504-d62e-c3273cd20595"
      },
      "source": [
        "_ = plot_confusion_matrix(ab_model, rf_test, y_test,values_format = 'd')\n",
        "print(metrics.f1_score(y_test,ab_model.predict(rf_test),average='macro'))"
      ],
      "execution_count": 9,
      "outputs": [
        {
          "output_type": "stream",
          "text": [
            "0.7880877254489502\n"
          ],
          "name": "stdout"
        },
        {
          "output_type": "display_data",
          "data": {
            "image/png": "[encoded data removed]",
            "text/plain": [
              "<Figure size 432x288 with 2 Axes>"
            ]
          },
          "metadata": {
            "tags": [],
            "needs_background": "light"
          }
        }
      ]
    },
    {
      "cell_type": "code",
      "metadata": {
        "id": "ILVxSgMyRVNT",
        "colab_type": "code",
        "colab": {
          "base_uri": "https://localhost:8080/",
          "height": 319
        },
        "outputId": "88746356-c763-4512-9700-162bf9be4035"
      },
      "source": [
        "!pip install catboost"
      ],
      "execution_count": 10,
      "outputs": [
        {
          "output_type": "stream",
          "text": [
            "Collecting catboost\n",
            "\u001b[?25l  Downloading https://files.pythonhosted.org/packages/90/86/c3dcb600b4f9e7584ed90ea9d30a717fb5c0111574675f442c3e7bc19535/catboost-0.24.1-cp36-none-manylinux1_x86_64.whl (66.1MB)\n",
            "\u001b[K     |████████████████████████████████| 66.1MB 57kB/s \n",
            "\u001b[?25hRequirement already satisfied: plotly in /usr/local/lib/python3.6/dist-packages (from catboost) (4.4.1)\n",
            "Requirement already satisfied: graphviz in /usr/local/lib/python3.6/dist-packages (from catboost) (0.10.1)\n",
            "Requirement already satisfied: pandas>=0.24.0 in /usr/local/lib/python3.6/dist-packages (from catboost) (1.0.5)\n",
            "Requirement already satisfied: scipy in /usr/local/lib/python3.6/dist-packages (from catboost) (1.4.1)\n",
            "Requirement already satisfied: numpy>=1.16.0 in /usr/local/lib/python3.6/dist-packages (from catboost) (1.18.5)\n",
            "Requirement already satisfied: six in /usr/local/lib/python3.6/dist-packages (from catboost) (1.15.0)\n",
            "Requirement already satisfied: matplotlib in /usr/local/lib/python3.6/dist-packages (from catboost) (3.2.2)\n",
            "Requirement already satisfied: retrying>=1.3.3 in /usr/local/lib/python3.6/dist-packages (from plotly->catboost) (1.3.3)\n",
            "Requirement already satisfied: pytz>=2017.2 in /usr/local/lib/python3.6/dist-packages (from pandas>=0.24.0->catboost) (2018.9)\n",
            "Requirement already satisfied: python-dateutil>=2.6.1 in /usr/local/lib/python3.6/dist-packages (from pandas>=0.24.0->catboost) (2.8.1)\n",
            "Requirement already satisfied: pyparsing!=2.0.4,!=2.1.2,!=2.1.6,>=2.0.1 in /usr/local/lib/python3.6/dist-packages (from matplotlib->catboost) (2.4.7)\n",
            "Requirement already satisfied: cycler>=0.10 in /usr/local/lib/python3.6/dist-packages (from matplotlib->catboost) (0.10.0)\n",
            "Requirement already satisfied: kiwisolver>=1.0.1 in /usr/local/lib/python3.6/dist-packages (from matplotlib->catboost) (1.2.0)\n",
            "Installing collected packages: catboost\n",
            "Successfully installed catboost-0.24.1\n"
          ],
          "name": "stdout"
        }
      ]
    },
    {
      "cell_type": "code",
      "metadata": {
        "id": "1fGvIPmIPDV1",
        "colab_type": "code",
        "colab": {
          "base_uri": "https://localhost:8080/",
          "height": 235
        },
        "outputId": "4d63e9c7-71d6-4fe7-d383-5e4982a73acb"
      },
      "source": [
        "from catboost import CatBoostClassifier\n",
        "cat_train = X_train\n",
        "cat_test = X_test\n",
        "cat_test[\"Type 2\"] = cat_test[\"Type 2\"].astype('str') \n",
        "cat_train[\"Type 2\"] = cat_train[\"Type 2\"].astype('str')  # for catboost categories column , type has to be int or str. Else nan values wont be imputed.\n",
        "cat_model =  CatBoostClassifier( verbose=False, cat_features=[0,1])\n",
        "cat_model.fit(X_train, y_train)\n"
      ],
      "execution_count": 11,
      "outputs": [
        {
          "output_type": "stream",
          "text": [
            "/usr/local/lib/python3.6/dist-packages/ipykernel_launcher.py:4: SettingWithCopyWarning: \n",
            "A value is trying to be set on a copy of a slice from a DataFrame.\n",
            "Try using .loc[row_indexer,col_indexer] = value instead\n",
            "\n",
            "See the caveats in the documentation: https://pandas.pydata.org/pandas-docs/stable/user_guide/indexing.html#returning-a-view-versus-a-copy\n",
            "  after removing the cwd from sys.path.\n",
            "/usr/local/lib/python3.6/dist-packages/ipykernel_launcher.py:5: SettingWithCopyWarning: \n",
            "A value is trying to be set on a copy of a slice from a DataFrame.\n",
            "Try using .loc[row_indexer,col_indexer] = value instead\n",
            "\n",
            "See the caveats in the documentation: https://pandas.pydata.org/pandas-docs/stable/user_guide/indexing.html#returning-a-view-versus-a-copy\n",
            "  \"\"\"\n"
          ],
          "name": "stderr"
        },
        {
          "output_type": "execute_result",
          "data": {
            "text/plain": [
              "<catboost.core.CatBoostClassifier at 0x7f1e5e823048>"
            ]
          },
          "metadata": {
            "tags": []
          },
          "execution_count": 11
        }
      ]
    },
    {
      "cell_type": "code",
      "metadata": {
        "id": "dRk0rzC2QuAg",
        "colab_type": "code",
        "colab": {
          "base_uri": "https://localhost:8080/",
          "height": 296
        },
        "outputId": "a74bf505-6c13-40f4-87d4-b74a0ceb91f9"
      },
      "source": [
        "_ = plot_confusion_matrix(cat_model, cat_test, y_test,values_format = 'd')\n",
        "print(metrics.f1_score(y_test,cat_model.predict(cat_test),average='macro'))"
      ],
      "execution_count": 12,
      "outputs": [
        {
          "output_type": "stream",
          "text": [
            "0.8685340802987862\n"
          ],
          "name": "stdout"
        },
        {
          "output_type": "display_data",
          "data": {
            "image/png": "[encoded data removed]",
            "text/plain": [
              "<Figure size 432x288 with 2 Axes>"
            ]
          },
          "metadata": {
            "tags": [],
            "needs_background": "light"
          }
        }
      ]
    },
    {
      "cell_type": "code",
      "metadata": {
        "id": "gnYs0n8mSQrG",
        "colab_type": "code",
        "colab": {
          "base_uri": "https://localhost:8080/",
          "height": 395
        },
        "outputId": "e96be1e8-5591-47b2-e5e6-c55e28b8c1d0"
      },
      "source": [
        "dt_imp = dt_model.feature_importances_\n",
        "dt_imp_df = pd.DataFrame({'feature': list(rf_train.columns),\n",
        "                   'importance': dt_imp}).sort_values('importance',ascending = False)\n",
        "dt_imp_df.set_index('feature').plot(kind='barh', figsize=(10, 6), fontsize=14)"
      ],
      "execution_count": 13,
      "outputs": [
        {
          "output_type": "execute_result",
          "data": {
            "text/plain": [
              "<matplotlib.axes._subplots.AxesSubplot at 0x7f1e5395a978>"
            ]
          },
          "metadata": {
            "tags": []
          },
          "execution_count": 13
        },
        {
          "output_type": "display_data",
          "data": {
            "image/png": "[encoded data removed]",
            "text/plain": [
              "<Figure size 720x432 with 1 Axes>"
            ]
          },
          "metadata": {
            "tags": [],
            "needs_background": "light"
          }
        }
      ]
    },
    {
      "cell_type": "code",
      "metadata": {
        "id": "4PbEHWkaXcv7",
        "colab_type": "code",
        "colab": {
          "base_uri": "https://localhost:8080/",
          "height": 395
        },
        "outputId": "89c265c2-ae00-4065-bfc9-8acc7ce4a06b"
      },
      "source": [
        "ab_imp = ab_model.feature_importances_\n",
        "ab_imp_df = pd.DataFrame({'feature': list(rf_train.columns),\n",
        "                   'importance': ab_imp}).sort_values('importance',ascending = False)\n",
        "ab_imp_df.set_index('feature').plot(kind='barh', figsize=(10, 6), fontsize=14)"
      ],
      "execution_count": 14,
      "outputs": [
        {
          "output_type": "execute_result",
          "data": {
            "text/plain": [
              "<matplotlib.axes._subplots.AxesSubplot at 0x7f1e538f9d30>"
            ]
          },
          "metadata": {
            "tags": []
          },
          "execution_count": 14
        },
        {
          "output_type": "display_data",
          "data": {
            "image/png": "[encoded data removed]",
            "text/plain": [
              "<Figure size 720x432 with 1 Axes>"
            ]
          },
          "metadata": {
            "tags": [],
            "needs_background": "light"
          }
        }
      ]
    },
    {
      "cell_type": "code",
      "metadata": {
        "id": "62tuNLdLTDDk",
        "colab_type": "code",
        "colab": {
          "base_uri": "https://localhost:8080/",
          "height": 395
        },
        "outputId": "fab75e13-ea8c-446e-d623-7856a9b99388"
      },
      "source": [
        "import catboost\n",
        "pool = catboost.Pool(cat_train, y_train, cat_features=[0,1])\n",
        "cat_imp_df = cat_model.get_feature_importance(pool, fstr_type=catboost.EFstrType.FeatureImportance, prettified=True)\n",
        "cat_imp_df.set_index('Feature Id').plot(kind='barh', figsize=(10, 6), fontsize=14)"
      ],
      "execution_count": 15,
      "outputs": [
        {
          "output_type": "execute_result",
          "data": {
            "text/plain": [
              "<matplotlib.axes._subplots.AxesSubplot at 0x7f1e53994cc0>"
            ]
          },
          "metadata": {
            "tags": []
          },
          "execution_count": 15
        },
        {
          "output_type": "display_data",
          "data": {
            "image/png": "[encoded data removed]",
            "text/plain": [
              "<Figure size 720x432 with 1 Axes>"
            ]
          },
          "metadata": {
            "tags": [],
            "needs_background": "light"
          }
        }
      ]
    },
    {
      "cell_type": "code",
      "metadata": {
        "id": "lRGiJ_COYLLg",
        "colab_type": "code",
        "colab": {
          "base_uri": "https://localhost:8080/",
          "height": 343
        },
        "outputId": "0d1039fd-c421-4115-de1c-5946ad82bec0"
      },
      "source": [
        "base_predictions_train = pd.DataFrame( {'Tree': dt_model.predict_proba(rf_test)[:,0],\n",
        "     'AdaBoost': ab_model.predict_proba(rf_test)[:,0],\n",
        "     'CatBoost': cat_model.predict_proba(cat_test)[:,0]\n",
        "    })\n",
        "base_predictions_train.head(10)"
      ],
      "execution_count": 16,
      "outputs": [
        {
          "output_type": "execute_result",
          "data": {
            "text/html": [
              "<div>\n",
              "<style scoped>\n",
              "    .dataframe tbody tr th:only-of-type {\n",
              "        vertical-align: middle;\n",
              "    }\n",
              "\n",
              "    .dataframe tbody tr th {\n",
              "        vertical-align: top;\n",
              "    }\n",
              "\n",
              "    .dataframe thead th {\n",
              "        text-align: right;\n",
              "    }\n",
              "</style>\n",
              "<table border=\"1\" class=\"dataframe\">\n",
              "  <thead>\n",
              "    <tr style=\"text-align: right;\">\n",
              "      <th></th>\n",
              "      <th>Tree</th>\n",
              "      <th>AdaBoost</th>\n",
              "      <th>CatBoost</th>\n",
              "    </tr>\n",
              "  </thead>\n",
              "  <tbody>\n",
              "    <tr>\n",
              "      <th>0</th>\n",
              "      <td>1.0</td>\n",
              "      <td>0.999334</td>\n",
              "      <td>0.998522</td>\n",
              "    </tr>\n",
              "    <tr>\n",
              "      <th>1</th>\n",
              "      <td>1.0</td>\n",
              "      <td>0.999211</td>\n",
              "      <td>0.999732</td>\n",
              "    </tr>\n",
              "    <tr>\n",
              "      <th>2</th>\n",
              "      <td>1.0</td>\n",
              "      <td>0.991750</td>\n",
              "      <td>0.999138</td>\n",
              "    </tr>\n",
              "    <tr>\n",
              "      <th>3</th>\n",
              "      <td>1.0</td>\n",
              "      <td>0.978695</td>\n",
              "      <td>0.999492</td>\n",
              "    </tr>\n",
              "    <tr>\n",
              "      <th>4</th>\n",
              "      <td>1.0</td>\n",
              "      <td>0.997260</td>\n",
              "      <td>0.999691</td>\n",
              "    </tr>\n",
              "    <tr>\n",
              "      <th>5</th>\n",
              "      <td>1.0</td>\n",
              "      <td>0.979989</td>\n",
              "      <td>0.999251</td>\n",
              "    </tr>\n",
              "    <tr>\n",
              "      <th>6</th>\n",
              "      <td>0.0</td>\n",
              "      <td>0.962223</td>\n",
              "      <td>0.893334</td>\n",
              "    </tr>\n",
              "    <tr>\n",
              "      <th>7</th>\n",
              "      <td>1.0</td>\n",
              "      <td>0.999758</td>\n",
              "      <td>0.997423</td>\n",
              "    </tr>\n",
              "    <tr>\n",
              "      <th>8</th>\n",
              "      <td>1.0</td>\n",
              "      <td>0.999918</td>\n",
              "      <td>0.996705</td>\n",
              "    </tr>\n",
              "    <tr>\n",
              "      <th>9</th>\n",
              "      <td>1.0</td>\n",
              "      <td>0.999988</td>\n",
              "      <td>0.999119</td>\n",
              "    </tr>\n",
              "  </tbody>\n",
              "</table>\n",
              "</div>"
            ],
            "text/plain": [
              "   Tree  AdaBoost  CatBoost\n",
              "0   1.0  0.999334  0.998522\n",
              "1   1.0  0.999211  0.999732\n",
              "2   1.0  0.991750  0.999138\n",
              "3   1.0  0.978695  0.999492\n",
              "4   1.0  0.997260  0.999691\n",
              "5   1.0  0.979989  0.999251\n",
              "6   0.0  0.962223  0.893334\n",
              "7   1.0  0.999758  0.997423\n",
              "8   1.0  0.999918  0.996705\n",
              "9   1.0  0.999988  0.999119"
            ]
          },
          "metadata": {
            "tags": []
          },
          "execution_count": 16
        }
      ]
    },
    {
      "cell_type": "code",
      "metadata": {
        "id": "OYvGPxASZoG7",
        "colab_type": "code",
        "colab": {
          "base_uri": "https://localhost:8080/",
          "height": 378
        },
        "outputId": "b8d2484c-b54f-4c20-f67e-79e575740c27"
      },
      "source": [
        "import seaborn as sns\n",
        "import matplotlib.pyplot as plt\n",
        "mean_corr = base_predictions_train[list(base_predictions_train)].corr()\n",
        "g1 = sns.heatmap(mean_corr, cmap='coolwarm', vmin=0, vmax=1)\n",
        "g1.set_xticklabels(g1.get_xticklabels(), rotation=70, fontsize=11)\n",
        "g1.set_yticklabels(g1.get_yticklabels(), rotation=15, fontsize=11)\n",
        "plt.title(\"Correlation Plot of Mean Features\")\n",
        "plt.show()"
      ],
      "execution_count": 17,
      "outputs": [
        {
          "output_type": "stream",
          "text": [
            "/usr/local/lib/python3.6/dist-packages/statsmodels/tools/_testing.py:19: FutureWarning: pandas.util.testing is deprecated. Use the functions in the public API at pandas.testing instead.\n",
            "  import pandas.util.testing as tm\n"
          ],
          "name": "stderr"
        },
        {
          "output_type": "display_data",
          "data": {
            "image/png": "[encoded data removed]",
            "text/plain": [
              "<Figure size 432x288 with 2 Axes>"
            ]
          },
          "metadata": {
            "tags": [],
            "needs_background": "light"
          }
        }
      ]
    },
    {
      "cell_type": "markdown",
      "metadata": {
        "id": "dTjcDFwYcl9f",
        "colab_type": "text"
      },
      "source": [
        "- Ideally the corelation should be less and there should be more blues in the heat map."
      ]
    },
    {
      "cell_type": "markdown",
      "metadata": {
        "id": "Kct2pzof6_Kh",
        "colab_type": "text"
      },
      "source": [
        "# voting classifier :\n",
        "\n",
        "- the VotingClassifier module allows you to implement a consensus method for as many different models as you’d like. You pass the VotingClassifier instantiated, unfitted models that you want to use, and choose between either a “hard” or “soft” voting for the consensus method.\n",
        "- Hard voting is majority rule — whichever prediction has the most votes is chose. In case of a tie, hard voting will assign predictions based on ascending sort order.\n",
        "-  In soft voting, predictions are chosen by summing the prediction probabilities from the individual models and choosing the prediction with the largest sum. Additionally, with soft voting you can choose to weight the predictions from some models higher than others. The default is a uniform weighting, but you can specify a different weighting scheme if you have reason to trust some models more than others.\n",
        "\n",
        "- For pipeline related issues , visit :\n",
        "https://towardsdatascience.com/pipelines-custom-transformers-in-scikit-learn-the-step-by-step-guide-with-python-code-4a7d9b068156"
      ]
    },
    {
      "cell_type": "code",
      "metadata": {
        "id": "eKbv7fBDel3S",
        "colab_type": "code",
        "colab": {}
      },
      "source": [
        "from sklearn.base import TransformerMixin, BaseEstimator\n",
        "\n",
        "# custom transformer for sklearn pipeline\n",
        "class CategoricalColumnRemover(TransformerMixin, BaseEstimator):\n",
        "    def __init__(self):\n",
        "      pass\n",
        "\n",
        "    def transform(self, X):\n",
        "       return X.drop(['Type 1', 'Type 2'], axis = 1)\n",
        "\n",
        "    def fit(self, X, y=None):\n",
        "        return self\n",
        "\n",
        "# custom transformer for sklearn pipeline\n",
        "class CategoricalColumn(TransformerMixin, BaseEstimator):\n",
        "    def __init__(self):\n",
        "      pass\n",
        "\n",
        "    def transform(self, X):\n",
        "       X[\"Type 2\"] = X[\"Type 2\"].astype('str') \n",
        "       X[\"Type 2\"] = X[\"Type 2\"].astype('str')\n",
        "       return X\n",
        "\n",
        "    def fit(self, X, y=None):\n",
        "        return self\n"
      ],
      "execution_count": 18,
      "outputs": []
    },
    {
      "cell_type": "code",
      "metadata": {
        "id": "QeXyjpWSfpkX",
        "colab_type": "code",
        "colab": {}
      },
      "source": [
        "from sklearn.pipeline import Pipeline\n",
        "from sklearn.tree import DecisionTreeClassifier, plot_tree\n",
        "from sklearn import metrics\n",
        "\n",
        "pipe_tree = Pipeline([\n",
        "    ('col_extract', CategoricalColumnRemover()), # selecting features 0 and 1 (df1) to be used with LR (clf1)\n",
        "    ('clf',  DecisionTreeClassifier())\n",
        "    ])"
      ],
      "execution_count": 19,
      "outputs": []
    },
    {
      "cell_type": "code",
      "metadata": {
        "id": "nroxAOqCGduE",
        "colab_type": "code",
        "colab": {}
      },
      "source": [
        "from sklearn.ensemble import AdaBoostClassifier\n",
        "\n",
        "pipe_adaBoost = Pipeline([\n",
        "    ('col_extract', CategoricalColumnRemover()), # selecting features 0 and 1 (df1) to be used with LR (clf1)\n",
        "    ('clf',  AdaBoostClassifier(\n",
        "    DecisionTreeClassifier(max_depth=4)))\n",
        "    ])"
      ],
      "execution_count": 20,
      "outputs": []
    },
    {
      "cell_type": "code",
      "metadata": {
        "id": "TlF2bZDAHXdi",
        "colab_type": "code",
        "colab": {}
      },
      "source": [
        "pipe_catBoost = Pipeline([\n",
        "    ('col_extract', CategoricalColumn()), # selecting features 0 and 1 (df1) to be used with LR (clf1)\n",
        "    ('clf',CatBoostClassifier(verbose=False, cat_features=[0,1]))\n",
        "    ])"
      ],
      "execution_count": 21,
      "outputs": []
    },
    {
      "cell_type": "code",
      "metadata": {
        "id": "REgS6ODnHuEr",
        "colab_type": "code",
        "colab": {
          "base_uri": "https://localhost:8080/",
          "height": 571
        },
        "outputId": "2d87156c-a020-4d2d-84ee-469ac00b84c4"
      },
      "source": [
        "pd.options.mode.chained_assignment = None\n",
        "from sklearn.ensemble import VotingClassifier\n",
        "vclf = VotingClassifier(estimators=[('clf1', pipe_tree), ('clf2', pipe_adaBoost),('clf3',pipe_catBoost)]\n",
        "                        , voting='soft')\n",
        "vclf.fit(X_train, y_train)"
      ],
      "execution_count": 22,
      "outputs": [
        {
          "output_type": "execute_result",
          "data": {
            "text/plain": [
              "VotingClassifier(estimators=[('clf1',\n",
              "                              Pipeline(memory=None,\n",
              "                                       steps=[('col_extract',\n",
              "                                               CategoricalColumnRemover()),\n",
              "                                              ('clf',\n",
              "                                               DecisionTreeClassifier(ccp_alpha=0.0,\n",
              "                                                                      class_weight=None,\n",
              "                                                                      criterion='gini',\n",
              "                                                                      max_depth=None,\n",
              "                                                                      max_features=None,\n",
              "                                                                      max_leaf_nodes=None,\n",
              "                                                                      min_impurity_decrease=0.0,\n",
              "                                                                      min_impurity_split=None,\n",
              "                                                                      min_samples_leaf=1,\n",
              "                                                                      min_samples_split=2,\n",
              "                                                                      min_weight_fraction_l...\n",
              "                                                                                                        min_weight_fraction_leaf=0.0,\n",
              "                                                                                                        presort='deprecated',\n",
              "                                                                                                        random_state=None,\n",
              "                                                                                                        splitter='best'),\n",
              "                                                                  learning_rate=1.0,\n",
              "                                                                  n_estimators=50,\n",
              "                                                                  random_state=None))],\n",
              "                                       verbose=False)),\n",
              "                             ('clf3',\n",
              "                              Pipeline(memory=None,\n",
              "                                       steps=[('col_extract',\n",
              "                                               CategoricalColumn()),\n",
              "                                              ('clf',\n",
              "                                               <catboost.core.CatBoostClassifier object at 0x7f1e53a2f7b8>)],\n",
              "                                       verbose=False))],\n",
              "                 flatten_transform=True, n_jobs=None, voting='soft',\n",
              "                 weights=None)"
            ]
          },
          "metadata": {
            "tags": []
          },
          "execution_count": 22
        }
      ]
    },
    {
      "cell_type": "code",
      "metadata": {
        "id": "1FblNDgOIo2H",
        "colab_type": "code",
        "colab": {
          "base_uri": "https://localhost:8080/",
          "height": 296
        },
        "outputId": "3eada5af-6231-450f-89cd-30775ae86675"
      },
      "source": [
        "_ = plot_confusion_matrix(vclf, X_test, y_test,values_format = 'd')\n",
        "print(metrics.f1_score(y_test,vclf.predict(X_test),average='macro'))"
      ],
      "execution_count": 23,
      "outputs": [
        {
          "output_type": "stream",
          "text": [
            "0.8966667862652937\n"
          ],
          "name": "stdout"
        },
        {
          "output_type": "display_data",
          "data": {
            "image/png": "[encoded data removed]",
            "text/plain": [
              "<Figure size 432x288 with 2 Axes>"
            ]
          },
          "metadata": {
            "tags": [],
            "needs_background": "light"
          }
        }
      ]
    },
    {
      "cell_type": "code",
      "metadata": {
        "id": "56_cfPP8KCkx",
        "colab_type": "code",
        "colab": {}
      },
      "source": [
        "from sklearn.model_selection import RandomizedSearchCV\n",
        "params = {'clf1__clf__max_depth': [3,4,5,6,7,8,9],\n",
        "          'clf1__clf__max_features': [0.5, 0.75,None],\n",
        "          'clf2__clf__base_estimator__max_depth' : [1,2,3,4,5],\n",
        "          'clf2__clf__n_estimators': [50,100],\n",
        "          'clf3__clf__max_depth':[3,5,7,10]\n",
        "          }\n",
        "\n",
        "grid = RandomizedSearchCV(estimator=vclf, param_distributions = params, cv=5,return_train_score=False,n_iter=20)\n",
        "grid = grid.fit(X_train, y_train)"
      ],
      "execution_count": 24,
      "outputs": []
    },
    {
      "cell_type": "code",
      "metadata": {
        "id": "NIlCDK4wMkbm",
        "colab_type": "code",
        "colab": {
          "base_uri": "https://localhost:8080/",
          "height": 313
        },
        "outputId": "855c239c-404d-47c9-d559-777a86be13f1"
      },
      "source": [
        "_ = plot_confusion_matrix(grid.best_estimator_, X_test, y_test,values_format = 'd')\n",
        "print(metrics.accuracy_score(y_test,grid.best_estimator_.predict(X_test)))\n",
        "print(metrics.f1_score(y_test,grid.best_estimator_.predict(X_test),average='macro'))"
      ],
      "execution_count": 25,
      "outputs": [
        {
          "output_type": "stream",
          "text": [
            "0.9625\n",
            "0.853569249542404\n"
          ],
          "name": "stdout"
        },
        {
          "output_type": "display_data",
          "data": {
            "image/png": "[encoded data removed]",
            "text/plain": [
              "<Figure size 432x288 with 2 Axes>"
            ]
          },
          "metadata": {
            "tags": [],
            "needs_background": "light"
          }
        }
      ]
    },
    {
      "cell_type": "code",
      "metadata": {
        "id": "uC2Z62rYOTQH",
        "colab_type": "code",
        "colab": {
          "base_uri": "https://localhost:8080/",
          "height": 639
        },
        "outputId": "5c41d9ae-0878-4015-c3e1-694bdb2c0325"
      },
      "source": [
        "pd.set_option('display.max_colwidth', None)\n",
        "pd.DataFrame(grid.cv_results_)[['params','mean_test_score']]"
      ],
      "execution_count": 26,
      "outputs": [
        {
          "output_type": "execute_result",
          "data": {
            "text/html": [
              "<div>\n",
              "<style scoped>\n",
              "    .dataframe tbody tr th:only-of-type {\n",
              "        vertical-align: middle;\n",
              "    }\n",
              "\n",
              "    .dataframe tbody tr th {\n",
              "        vertical-align: top;\n",
              "    }\n",
              "\n",
              "    .dataframe thead th {\n",
              "        text-align: right;\n",
              "    }\n",
              "</style>\n",
              "<table border=\"1\" class=\"dataframe\">\n",
              "  <thead>\n",
              "    <tr style=\"text-align: right;\">\n",
              "      <th></th>\n",
              "      <th>params</th>\n",
              "      <th>mean_test_score</th>\n",
              "    </tr>\n",
              "  </thead>\n",
              "  <tbody>\n",
              "    <tr>\n",
              "      <th>0</th>\n",
              "      <td>{'clf3__clf__max_depth': 10, 'clf2__clf__n_estimators': 50, 'clf2__clf__base_estimator__max_depth': 5, 'clf1__clf__max_features': 0.5, 'clf1__clf__max_depth': 3}</td>\n",
              "      <td>0.954167</td>\n",
              "    </tr>\n",
              "    <tr>\n",
              "      <th>1</th>\n",
              "      <td>{'clf3__clf__max_depth': 3, 'clf2__clf__n_estimators': 100, 'clf2__clf__base_estimator__max_depth': 5, 'clf1__clf__max_features': None, 'clf1__clf__max_depth': 7}</td>\n",
              "      <td>0.952083</td>\n",
              "    </tr>\n",
              "    <tr>\n",
              "      <th>2</th>\n",
              "      <td>{'clf3__clf__max_depth': 7, 'clf2__clf__n_estimators': 100, 'clf2__clf__base_estimator__max_depth': 5, 'clf1__clf__max_features': 0.75, 'clf1__clf__max_depth': 3}</td>\n",
              "      <td>0.950000</td>\n",
              "    </tr>\n",
              "    <tr>\n",
              "      <th>3</th>\n",
              "      <td>{'clf3__clf__max_depth': 3, 'clf2__clf__n_estimators': 100, 'clf2__clf__base_estimator__max_depth': 2, 'clf1__clf__max_features': 0.5, 'clf1__clf__max_depth': 5}</td>\n",
              "      <td>0.956250</td>\n",
              "    </tr>\n",
              "    <tr>\n",
              "      <th>4</th>\n",
              "      <td>{'clf3__clf__max_depth': 5, 'clf2__clf__n_estimators': 50, 'clf2__clf__base_estimator__max_depth': 1, 'clf1__clf__max_features': 0.5, 'clf1__clf__max_depth': 3}</td>\n",
              "      <td>0.952083</td>\n",
              "    </tr>\n",
              "    <tr>\n",
              "      <th>5</th>\n",
              "      <td>{'clf3__clf__max_depth': 7, 'clf2__clf__n_estimators': 100, 'clf2__clf__base_estimator__max_depth': 5, 'clf1__clf__max_features': 0.75, 'clf1__clf__max_depth': 4}</td>\n",
              "      <td>0.952083</td>\n",
              "    </tr>\n",
              "    <tr>\n",
              "      <th>6</th>\n",
              "      <td>{'clf3__clf__max_depth': 10, 'clf2__clf__n_estimators': 100, 'clf2__clf__base_estimator__max_depth': 2, 'clf1__clf__max_features': 0.5, 'clf1__clf__max_depth': 4}</td>\n",
              "      <td>0.952083</td>\n",
              "    </tr>\n",
              "    <tr>\n",
              "      <th>7</th>\n",
              "      <td>{'clf3__clf__max_depth': 10, 'clf2__clf__n_estimators': 100, 'clf2__clf__base_estimator__max_depth': 1, 'clf1__clf__max_features': None, 'clf1__clf__max_depth': 3}</td>\n",
              "      <td>0.954167</td>\n",
              "    </tr>\n",
              "    <tr>\n",
              "      <th>8</th>\n",
              "      <td>{'clf3__clf__max_depth': 5, 'clf2__clf__n_estimators': 100, 'clf2__clf__base_estimator__max_depth': 3, 'clf1__clf__max_features': None, 'clf1__clf__max_depth': 3}</td>\n",
              "      <td>0.954167</td>\n",
              "    </tr>\n",
              "    <tr>\n",
              "      <th>9</th>\n",
              "      <td>{'clf3__clf__max_depth': 5, 'clf2__clf__n_estimators': 100, 'clf2__clf__base_estimator__max_depth': 5, 'clf1__clf__max_features': None, 'clf1__clf__max_depth': 5}</td>\n",
              "      <td>0.958333</td>\n",
              "    </tr>\n",
              "    <tr>\n",
              "      <th>10</th>\n",
              "      <td>{'clf3__clf__max_depth': 5, 'clf2__clf__n_estimators': 100, 'clf2__clf__base_estimator__max_depth': 3, 'clf1__clf__max_features': 0.5, 'clf1__clf__max_depth': 9}</td>\n",
              "      <td>0.947917</td>\n",
              "    </tr>\n",
              "    <tr>\n",
              "      <th>11</th>\n",
              "      <td>{'clf3__clf__max_depth': 10, 'clf2__clf__n_estimators': 100, 'clf2__clf__base_estimator__max_depth': 5, 'clf1__clf__max_features': 0.75, 'clf1__clf__max_depth': 3}</td>\n",
              "      <td>0.952083</td>\n",
              "    </tr>\n",
              "    <tr>\n",
              "      <th>12</th>\n",
              "      <td>{'clf3__clf__max_depth': 10, 'clf2__clf__n_estimators': 50, 'clf2__clf__base_estimator__max_depth': 5, 'clf1__clf__max_features': 0.5, 'clf1__clf__max_depth': 5}</td>\n",
              "      <td>0.947917</td>\n",
              "    </tr>\n",
              "    <tr>\n",
              "      <th>13</th>\n",
              "      <td>{'clf3__clf__max_depth': 3, 'clf2__clf__n_estimators': 50, 'clf2__clf__base_estimator__max_depth': 3, 'clf1__clf__max_features': 0.5, 'clf1__clf__max_depth': 3}</td>\n",
              "      <td>0.950000</td>\n",
              "    </tr>\n",
              "    <tr>\n",
              "      <th>14</th>\n",
              "      <td>{'clf3__clf__max_depth': 5, 'clf2__clf__n_estimators': 50, 'clf2__clf__base_estimator__max_depth': 1, 'clf1__clf__max_features': 0.75, 'clf1__clf__max_depth': 3}</td>\n",
              "      <td>0.943750</td>\n",
              "    </tr>\n",
              "    <tr>\n",
              "      <th>15</th>\n",
              "      <td>{'clf3__clf__max_depth': 7, 'clf2__clf__n_estimators': 50, 'clf2__clf__base_estimator__max_depth': 2, 'clf1__clf__max_features': 0.75, 'clf1__clf__max_depth': 6}</td>\n",
              "      <td>0.954167</td>\n",
              "    </tr>\n",
              "    <tr>\n",
              "      <th>16</th>\n",
              "      <td>{'clf3__clf__max_depth': 5, 'clf2__clf__n_estimators': 50, 'clf2__clf__base_estimator__max_depth': 2, 'clf1__clf__max_features': None, 'clf1__clf__max_depth': 7}</td>\n",
              "      <td>0.947917</td>\n",
              "    </tr>\n",
              "    <tr>\n",
              "      <th>17</th>\n",
              "      <td>{'clf3__clf__max_depth': 10, 'clf2__clf__n_estimators': 50, 'clf2__clf__base_estimator__max_depth': 1, 'clf1__clf__max_features': 0.5, 'clf1__clf__max_depth': 3}</td>\n",
              "      <td>0.950000</td>\n",
              "    </tr>\n",
              "    <tr>\n",
              "      <th>18</th>\n",
              "      <td>{'clf3__clf__max_depth': 7, 'clf2__clf__n_estimators': 100, 'clf2__clf__base_estimator__max_depth': 1, 'clf1__clf__max_features': 0.75, 'clf1__clf__max_depth': 9}</td>\n",
              "      <td>0.945833</td>\n",
              "    </tr>\n",
              "    <tr>\n",
              "      <th>19</th>\n",
              "      <td>{'clf3__clf__max_depth': 3, 'clf2__clf__n_estimators': 100, 'clf2__clf__base_estimator__max_depth': 3, 'clf1__clf__max_features': 0.75, 'clf1__clf__max_depth': 7}</td>\n",
              "      <td>0.947917</td>\n",
              "    </tr>\n",
              "  </tbody>\n",
              "</table>\n",
              "</div>"
            ],
            "text/plain": [
              "                                                                                                                                                                 params  mean_test_score\n",
              "0     {'clf3__clf__max_depth': 10, 'clf2__clf__n_estimators': 50, 'clf2__clf__base_estimator__max_depth': 5, 'clf1__clf__max_features': 0.5, 'clf1__clf__max_depth': 3}         0.954167\n",
              "1    {'clf3__clf__max_depth': 3, 'clf2__clf__n_estimators': 100, 'clf2__clf__base_estimator__max_depth': 5, 'clf1__clf__max_features': None, 'clf1__clf__max_depth': 7}         0.952083\n",
              "2    {'clf3__clf__max_depth': 7, 'clf2__clf__n_estimators': 100, 'clf2__clf__base_estimator__max_depth': 5, 'clf1__clf__max_features': 0.75, 'clf1__clf__max_depth': 3}         0.950000\n",
              "3     {'clf3__clf__max_depth': 3, 'clf2__clf__n_estimators': 100, 'clf2__clf__base_estimator__max_depth': 2, 'clf1__clf__max_features': 0.5, 'clf1__clf__max_depth': 5}         0.956250\n",
              "4      {'clf3__clf__max_depth': 5, 'clf2__clf__n_estimators': 50, 'clf2__clf__base_estimator__max_depth': 1, 'clf1__clf__max_features': 0.5, 'clf1__clf__max_depth': 3}         0.952083\n",
              "5    {'clf3__clf__max_depth': 7, 'clf2__clf__n_estimators': 100, 'clf2__clf__base_estimator__max_depth': 5, 'clf1__clf__max_features': 0.75, 'clf1__clf__max_depth': 4}         0.952083\n",
              "6    {'clf3__clf__max_depth': 10, 'clf2__clf__n_estimators': 100, 'clf2__clf__base_estimator__max_depth': 2, 'clf1__clf__max_features': 0.5, 'clf1__clf__max_depth': 4}         0.952083\n",
              "7   {'clf3__clf__max_depth': 10, 'clf2__clf__n_estimators': 100, 'clf2__clf__base_estimator__max_depth': 1, 'clf1__clf__max_features': None, 'clf1__clf__max_depth': 3}         0.954167\n",
              "8    {'clf3__clf__max_depth': 5, 'clf2__clf__n_estimators': 100, 'clf2__clf__base_estimator__max_depth': 3, 'clf1__clf__max_features': None, 'clf1__clf__max_depth': 3}         0.954167\n",
              "9    {'clf3__clf__max_depth': 5, 'clf2__clf__n_estimators': 100, 'clf2__clf__base_estimator__max_depth': 5, 'clf1__clf__max_features': None, 'clf1__clf__max_depth': 5}         0.958333\n",
              "10    {'clf3__clf__max_depth': 5, 'clf2__clf__n_estimators': 100, 'clf2__clf__base_estimator__max_depth': 3, 'clf1__clf__max_features': 0.5, 'clf1__clf__max_depth': 9}         0.947917\n",
              "11  {'clf3__clf__max_depth': 10, 'clf2__clf__n_estimators': 100, 'clf2__clf__base_estimator__max_depth': 5, 'clf1__clf__max_features': 0.75, 'clf1__clf__max_depth': 3}         0.952083\n",
              "12    {'clf3__clf__max_depth': 10, 'clf2__clf__n_estimators': 50, 'clf2__clf__base_estimator__max_depth': 5, 'clf1__clf__max_features': 0.5, 'clf1__clf__max_depth': 5}         0.947917\n",
              "13     {'clf3__clf__max_depth': 3, 'clf2__clf__n_estimators': 50, 'clf2__clf__base_estimator__max_depth': 3, 'clf1__clf__max_features': 0.5, 'clf1__clf__max_depth': 3}         0.950000\n",
              "14    {'clf3__clf__max_depth': 5, 'clf2__clf__n_estimators': 50, 'clf2__clf__base_estimator__max_depth': 1, 'clf1__clf__max_features': 0.75, 'clf1__clf__max_depth': 3}         0.943750\n",
              "15    {'clf3__clf__max_depth': 7, 'clf2__clf__n_estimators': 50, 'clf2__clf__base_estimator__max_depth': 2, 'clf1__clf__max_features': 0.75, 'clf1__clf__max_depth': 6}         0.954167\n",
              "16    {'clf3__clf__max_depth': 5, 'clf2__clf__n_estimators': 50, 'clf2__clf__base_estimator__max_depth': 2, 'clf1__clf__max_features': None, 'clf1__clf__max_depth': 7}         0.947917\n",
              "17    {'clf3__clf__max_depth': 10, 'clf2__clf__n_estimators': 50, 'clf2__clf__base_estimator__max_depth': 1, 'clf1__clf__max_features': 0.5, 'clf1__clf__max_depth': 3}         0.950000\n",
              "18   {'clf3__clf__max_depth': 7, 'clf2__clf__n_estimators': 100, 'clf2__clf__base_estimator__max_depth': 1, 'clf1__clf__max_features': 0.75, 'clf1__clf__max_depth': 9}         0.945833\n",
              "19   {'clf3__clf__max_depth': 3, 'clf2__clf__n_estimators': 100, 'clf2__clf__base_estimator__max_depth': 3, 'clf1__clf__max_features': 0.75, 'clf1__clf__max_depth': 7}         0.947917"
            ]
          },
          "metadata": {
            "tags": []
          },
          "execution_count": 26
        }
      ]
    },
    {
      "cell_type": "code",
      "metadata": {
        "id": "avYOCPXLOyFr",
        "colab_type": "code",
        "colab": {
          "base_uri": "https://localhost:8080/",
          "height": 370
        },
        "outputId": "9f43f51d-7783-4a45-ac09-358cae155272"
      },
      "source": [
        "from hyperopt import hp, tpe\n",
        "from hyperopt.fmin import fmin\n",
        "from catboost import CatBoostClassifier\n",
        "from sklearn.model_selection import cross_val_score\n",
        "from hyperopt import Trials\n",
        "from hyperopt.pyll.base import scope\n",
        "\n",
        "def hyperopt_train_test(params):\n",
        "    clf = VotingClassifier(estimators=[('clf1', pipe_tree), ('clf2', pipe_adaBoost),('clf3',pipe_catBoost)]\n",
        "                        , voting='soft')\n",
        "    score = cross_val_score(clf, X_train, y_train,cv=4,scoring='accuracy').mean()\n",
        "    print(\"score {:.4f} params {}\".format(score, params))\n",
        "    return -score\n",
        "\n",
        "trials= Trials()\n",
        "\n",
        "space4v = {\n",
        "    'clf2__clf__n_estimators': scope.int(hp.quniform('clf2__clf__n_estimators',100,500,10))\n",
        "}\n",
        "\n",
        "best = fmin(hyperopt_train_test, trials= trials , space=space4v, algo=tpe.suggest, max_evals=20)"
      ],
      "execution_count": 29,
      "outputs": [
        {
          "output_type": "stream",
          "text": [
            "score 0.9563 params {'clf2__clf__n_estimators': 340}\n",
            "score 0.9500 params {'clf2__clf__n_estimators': 480}\n",
            "score 0.9583 params {'clf2__clf__n_estimators': 210}\n",
            "score 0.9583 params {'clf2__clf__n_estimators': 160}\n",
            "score 0.9563 params {'clf2__clf__n_estimators': 360}\n",
            "score 0.9583 params {'clf2__clf__n_estimators': 480}\n",
            "score 0.9646 params {'clf2__clf__n_estimators': 190}\n",
            "score 0.9583 params {'clf2__clf__n_estimators': 350}\n",
            "score 0.9542 params {'clf2__clf__n_estimators': 380}\n",
            "score 0.9521 params {'clf2__clf__n_estimators': 270}\n",
            "score 0.9542 params {'clf2__clf__n_estimators': 180}\n",
            "score 0.9583 params {'clf2__clf__n_estimators': 110}\n",
            "score 0.9542 params {'clf2__clf__n_estimators': 500}\n",
            "score 0.9625 params {'clf2__clf__n_estimators': 120}\n",
            "score 0.9542 params {'clf2__clf__n_estimators': 120}\n",
            "score 0.9542 params {'clf2__clf__n_estimators': 270}\n",
            "score 0.9583 params {'clf2__clf__n_estimators': 430}\n",
            "score 0.9521 params {'clf2__clf__n_estimators': 130}\n",
            "score 0.9542 params {'clf2__clf__n_estimators': 320}\n",
            "score 0.9604 params {'clf2__clf__n_estimators': 280}\n",
            "100%|██████████| 20/20 [03:14<00:00,  9.75s/it, best loss: -0.9645833333333333]\n"
          ],
          "name": "stdout"
        }
      ]
    },
    {
      "cell_type": "code",
      "metadata": {
        "id": "Tq_tzZU4DEyG",
        "colab_type": "code",
        "colab": {
          "base_uri": "https://localhost:8080/",
          "height": 709
        },
        "outputId": "110ef112-176d-4995-8f6f-1723914dab56"
      },
      "source": [
        "best_trials = sorted(trials, key=lambda x: x['result']['loss'], reverse=False)\n",
        "for obs in best_trials :\n",
        "  print(obs)\n",
        "  print(\"---------------------------------------------------------------------------------------------------------------------------------------\")"
      ],
      "execution_count": 30,
      "outputs": [
        {
          "output_type": "stream",
          "text": [
            "{'state': 2, 'tid': 6, 'spec': None, 'result': {'loss': -0.9645833333333333, 'status': 'ok'}, 'misc': {'tid': 6, 'cmd': ('domain_attachment', 'FMinIter_Domain'), 'workdir': None, 'idxs': {'clf2__clf__n_estimators': [6]}, 'vals': {'clf2__clf__n_estimators': [190.0]}}, 'exp_key': None, 'owner': None, 'version': 0, 'book_time': datetime.datetime(2020, 9, 11, 16, 53, 10, 670000), 'refresh_time': datetime.datetime(2020, 9, 11, 16, 53, 20, 376000)}\n",
            "---------------------------------------------------------------------------------------------------------------------------------------\n",
            "{'state': 2, 'tid': 13, 'spec': None, 'result': {'loss': -0.9624999999999999, 'status': 'ok'}, 'misc': {'tid': 13, 'cmd': ('domain_attachment', 'FMinIter_Domain'), 'workdir': None, 'idxs': {'clf2__clf__n_estimators': [13]}, 'vals': {'clf2__clf__n_estimators': [120.0]}}, 'exp_key': None, 'owner': None, 'version': 0, 'book_time': datetime.datetime(2020, 9, 11, 16, 54, 18, 670000), 'refresh_time': datetime.datetime(2020, 9, 11, 16, 54, 28, 48000)}\n",
            "---------------------------------------------------------------------------------------------------------------------------------------\n",
            "{'state': 2, 'tid': 19, 'spec': None, 'result': {'loss': -0.9604166666666667, 'status': 'ok'}, 'misc': {'tid': 19, 'cmd': ('domain_attachment', 'FMinIter_Domain'), 'workdir': None, 'idxs': {'clf2__clf__n_estimators': [19]}, 'vals': {'clf2__clf__n_estimators': [280.0]}}, 'exp_key': None, 'owner': None, 'version': 0, 'book_time': datetime.datetime(2020, 9, 11, 16, 55, 16, 80000), 'refresh_time': datetime.datetime(2020, 9, 11, 16, 55, 25, 805000)}\n",
            "---------------------------------------------------------------------------------------------------------------------------------------\n",
            "{'state': 2, 'tid': 2, 'spec': None, 'result': {'loss': -0.9583333333333333, 'status': 'ok'}, 'misc': {'tid': 2, 'cmd': ('domain_attachment', 'FMinIter_Domain'), 'workdir': None, 'idxs': {'clf2__clf__n_estimators': [2]}, 'vals': {'clf2__clf__n_estimators': [210.0]}}, 'exp_key': None, 'owner': None, 'version': 0, 'book_time': datetime.datetime(2020, 9, 11, 16, 52, 30, 564000), 'refresh_time': datetime.datetime(2020, 9, 11, 16, 52, 41, 114000)}\n",
            "---------------------------------------------------------------------------------------------------------------------------------------\n",
            "{'state': 2, 'tid': 3, 'spec': None, 'result': {'loss': -0.9583333333333333, 'status': 'ok'}, 'misc': {'tid': 3, 'cmd': ('domain_attachment', 'FMinIter_Domain'), 'workdir': None, 'idxs': {'clf2__clf__n_estimators': [3]}, 'vals': {'clf2__clf__n_estimators': [160.0]}}, 'exp_key': None, 'owner': None, 'version': 0, 'book_time': datetime.datetime(2020, 9, 11, 16, 52, 41, 119000), 'refresh_time': datetime.datetime(2020, 9, 11, 16, 52, 50, 864000)}\n",
            "---------------------------------------------------------------------------------------------------------------------------------------\n",
            "{'state': 2, 'tid': 5, 'spec': None, 'result': {'loss': -0.9583333333333333, 'status': 'ok'}, 'misc': {'tid': 5, 'cmd': ('domain_attachment', 'FMinIter_Domain'), 'workdir': None, 'idxs': {'clf2__clf__n_estimators': [5]}, 'vals': {'clf2__clf__n_estimators': [480.0]}}, 'exp_key': None, 'owner': None, 'version': 0, 'book_time': datetime.datetime(2020, 9, 11, 16, 53, 0, 788000), 'refresh_time': datetime.datetime(2020, 9, 11, 16, 53, 10, 666000)}\n",
            "---------------------------------------------------------------------------------------------------------------------------------------\n",
            "{'state': 2, 'tid': 7, 'spec': None, 'result': {'loss': -0.9583333333333333, 'status': 'ok'}, 'misc': {'tid': 7, 'cmd': ('domain_attachment', 'FMinIter_Domain'), 'workdir': None, 'idxs': {'clf2__clf__n_estimators': [7]}, 'vals': {'clf2__clf__n_estimators': [350.0]}}, 'exp_key': None, 'owner': None, 'version': 0, 'book_time': datetime.datetime(2020, 9, 11, 16, 53, 20, 380000), 'refresh_time': datetime.datetime(2020, 9, 11, 16, 53, 30, 289000)}\n",
            "---------------------------------------------------------------------------------------------------------------------------------------\n",
            "{'state': 2, 'tid': 11, 'spec': None, 'result': {'loss': -0.9583333333333333, 'status': 'ok'}, 'misc': {'tid': 11, 'cmd': ('domain_attachment', 'FMinIter_Domain'), 'workdir': None, 'idxs': {'clf2__clf__n_estimators': [11]}, 'vals': {'clf2__clf__n_estimators': [110.0]}}, 'exp_key': None, 'owner': None, 'version': 0, 'book_time': datetime.datetime(2020, 9, 11, 16, 53, 59, 447000), 'refresh_time': datetime.datetime(2020, 9, 11, 16, 54, 8, 868000)}\n",
            "---------------------------------------------------------------------------------------------------------------------------------------\n",
            "{'state': 2, 'tid': 16, 'spec': None, 'result': {'loss': -0.9583333333333333, 'status': 'ok'}, 'misc': {'tid': 16, 'cmd': ('domain_attachment', 'FMinIter_Domain'), 'workdir': None, 'idxs': {'clf2__clf__n_estimators': [16]}, 'vals': {'clf2__clf__n_estimators': [430.0]}}, 'exp_key': None, 'owner': None, 'version': 0, 'book_time': datetime.datetime(2020, 9, 11, 16, 54, 47, 174000), 'refresh_time': datetime.datetime(2020, 9, 11, 16, 54, 56, 648000)}\n",
            "---------------------------------------------------------------------------------------------------------------------------------------\n",
            "{'state': 2, 'tid': 0, 'spec': None, 'result': {'loss': -0.95625, 'status': 'ok'}, 'misc': {'tid': 0, 'cmd': ('domain_attachment', 'FMinIter_Domain'), 'workdir': None, 'idxs': {'clf2__clf__n_estimators': [0]}, 'vals': {'clf2__clf__n_estimators': [340.0]}}, 'exp_key': None, 'owner': None, 'version': 0, 'book_time': datetime.datetime(2020, 9, 11, 16, 52, 10, 901000), 'refresh_time': datetime.datetime(2020, 9, 11, 16, 52, 20, 541000)}\n",
            "---------------------------------------------------------------------------------------------------------------------------------------\n",
            "{'state': 2, 'tid': 4, 'spec': None, 'result': {'loss': -0.95625, 'status': 'ok'}, 'misc': {'tid': 4, 'cmd': ('domain_attachment', 'FMinIter_Domain'), 'workdir': None, 'idxs': {'clf2__clf__n_estimators': [4]}, 'vals': {'clf2__clf__n_estimators': [360.0]}}, 'exp_key': None, 'owner': None, 'version': 0, 'book_time': datetime.datetime(2020, 9, 11, 16, 52, 50, 871000), 'refresh_time': datetime.datetime(2020, 9, 11, 16, 53, 0, 782000)}\n",
            "---------------------------------------------------------------------------------------------------------------------------------------\n",
            "{'state': 2, 'tid': 8, 'spec': None, 'result': {'loss': -0.9541666666666666, 'status': 'ok'}, 'misc': {'tid': 8, 'cmd': ('domain_attachment', 'FMinIter_Domain'), 'workdir': None, 'idxs': {'clf2__clf__n_estimators': [8]}, 'vals': {'clf2__clf__n_estimators': [380.0]}}, 'exp_key': None, 'owner': None, 'version': 0, 'book_time': datetime.datetime(2020, 9, 11, 16, 53, 30, 297000), 'refresh_time': datetime.datetime(2020, 9, 11, 16, 53, 40, 199000)}\n",
            "---------------------------------------------------------------------------------------------------------------------------------------\n",
            "{'state': 2, 'tid': 10, 'spec': None, 'result': {'loss': -0.9541666666666666, 'status': 'ok'}, 'misc': {'tid': 10, 'cmd': ('domain_attachment', 'FMinIter_Domain'), 'workdir': None, 'idxs': {'clf2__clf__n_estimators': [10]}, 'vals': {'clf2__clf__n_estimators': [180.0]}}, 'exp_key': None, 'owner': None, 'version': 0, 'book_time': datetime.datetime(2020, 9, 11, 16, 53, 49, 854000), 'refresh_time': datetime.datetime(2020, 9, 11, 16, 53, 59, 441000)}\n",
            "---------------------------------------------------------------------------------------------------------------------------------------\n",
            "{'state': 2, 'tid': 12, 'spec': None, 'result': {'loss': -0.9541666666666666, 'status': 'ok'}, 'misc': {'tid': 12, 'cmd': ('domain_attachment', 'FMinIter_Domain'), 'workdir': None, 'idxs': {'clf2__clf__n_estimators': [12]}, 'vals': {'clf2__clf__n_estimators': [500.0]}}, 'exp_key': None, 'owner': None, 'version': 0, 'book_time': datetime.datetime(2020, 9, 11, 16, 54, 8, 872000), 'refresh_time': datetime.datetime(2020, 9, 11, 16, 54, 18, 667000)}\n",
            "---------------------------------------------------------------------------------------------------------------------------------------\n",
            "{'state': 2, 'tid': 14, 'spec': None, 'result': {'loss': -0.9541666666666666, 'status': 'ok'}, 'misc': {'tid': 14, 'cmd': ('domain_attachment', 'FMinIter_Domain'), 'workdir': None, 'idxs': {'clf2__clf__n_estimators': [14]}, 'vals': {'clf2__clf__n_estimators': [120.0]}}, 'exp_key': None, 'owner': None, 'version': 0, 'book_time': datetime.datetime(2020, 9, 11, 16, 54, 28, 53000), 'refresh_time': datetime.datetime(2020, 9, 11, 16, 54, 37, 617000)}\n",
            "---------------------------------------------------------------------------------------------------------------------------------------\n",
            "{'state': 2, 'tid': 15, 'spec': None, 'result': {'loss': -0.9541666666666666, 'status': 'ok'}, 'misc': {'tid': 15, 'cmd': ('domain_attachment', 'FMinIter_Domain'), 'workdir': None, 'idxs': {'clf2__clf__n_estimators': [15]}, 'vals': {'clf2__clf__n_estimators': [270.0]}}, 'exp_key': None, 'owner': None, 'version': 0, 'book_time': datetime.datetime(2020, 9, 11, 16, 54, 37, 623000), 'refresh_time': datetime.datetime(2020, 9, 11, 16, 54, 47, 171000)}\n",
            "---------------------------------------------------------------------------------------------------------------------------------------\n",
            "{'state': 2, 'tid': 18, 'spec': None, 'result': {'loss': -0.9541666666666666, 'status': 'ok'}, 'misc': {'tid': 18, 'cmd': ('domain_attachment', 'FMinIter_Domain'), 'workdir': None, 'idxs': {'clf2__clf__n_estimators': [18]}, 'vals': {'clf2__clf__n_estimators': [320.0]}}, 'exp_key': None, 'owner': None, 'version': 0, 'book_time': datetime.datetime(2020, 9, 11, 16, 55, 6, 240000), 'refresh_time': datetime.datetime(2020, 9, 11, 16, 55, 16, 76000)}\n",
            "---------------------------------------------------------------------------------------------------------------------------------------\n",
            "{'state': 2, 'tid': 9, 'spec': None, 'result': {'loss': -0.9520833333333334, 'status': 'ok'}, 'misc': {'tid': 9, 'cmd': ('domain_attachment', 'FMinIter_Domain'), 'workdir': None, 'idxs': {'clf2__clf__n_estimators': [9]}, 'vals': {'clf2__clf__n_estimators': [270.0]}}, 'exp_key': None, 'owner': None, 'version': 0, 'book_time': datetime.datetime(2020, 9, 11, 16, 53, 40, 205000), 'refresh_time': datetime.datetime(2020, 9, 11, 16, 53, 49, 849000)}\n",
            "---------------------------------------------------------------------------------------------------------------------------------------\n",
            "{'state': 2, 'tid': 17, 'spec': None, 'result': {'loss': -0.9520833333333333, 'status': 'ok'}, 'misc': {'tid': 17, 'cmd': ('domain_attachment', 'FMinIter_Domain'), 'workdir': None, 'idxs': {'clf2__clf__n_estimators': [17]}, 'vals': {'clf2__clf__n_estimators': [130.0]}}, 'exp_key': None, 'owner': None, 'version': 0, 'book_time': datetime.datetime(2020, 9, 11, 16, 54, 56, 651000), 'refresh_time': datetime.datetime(2020, 9, 11, 16, 55, 6, 236000)}\n",
            "---------------------------------------------------------------------------------------------------------------------------------------\n",
            "{'state': 2, 'tid': 1, 'spec': None, 'result': {'loss': -0.95, 'status': 'ok'}, 'misc': {'tid': 1, 'cmd': ('domain_attachment', 'FMinIter_Domain'), 'workdir': None, 'idxs': {'clf2__clf__n_estimators': [1]}, 'vals': {'clf2__clf__n_estimators': [480.0]}}, 'exp_key': None, 'owner': None, 'version': 0, 'book_time': datetime.datetime(2020, 9, 11, 16, 52, 20, 544000), 'refresh_time': datetime.datetime(2020, 9, 11, 16, 52, 30, 560000)}\n",
            "---------------------------------------------------------------------------------------------------------------------------------------\n"
          ],
          "name": "stdout"
        }
      ]
    },
    {
      "cell_type": "code",
      "metadata": {
        "id": "4HqNEoU2T2_X",
        "colab_type": "code",
        "colab": {
          "base_uri": "https://localhost:8080/",
          "height": 34
        },
        "outputId": "da64607b-89e8-450d-ee17-84bcc2822ef2"
      },
      "source": [
        "print(\"Hyperopt estimated optimum {}\".format(best))"
      ],
      "execution_count": 31,
      "outputs": [
        {
          "output_type": "stream",
          "text": [
            "Hyperopt estimated optimum {'clf2__clf__n_estimators': 190.0}\n"
          ],
          "name": "stdout"
        }
      ]
    },
    {
      "cell_type": "code",
      "metadata": {
        "id": "oEHUUKmgUz-v",
        "colab_type": "code",
        "colab": {
          "base_uri": "https://localhost:8080/",
          "height": 571
        },
        "outputId": "0b073343-07dc-4176-d3d7-410e66648da8"
      },
      "source": [
        "from sklearn.ensemble import VotingClassifier\n",
        "pipe_adaBoost_best = Pipeline([\n",
        "    ('col_extract', CategoricalColumnRemover()), # selecting features 0 and 1 (df1) to be used with LR (clf1)\n",
        "    ('clf',  AdaBoostClassifier(\n",
        "    DecisionTreeClassifier(max_depth=4),n_estimators = 348))\n",
        "    ])\n",
        "vclf_best = VotingClassifier(estimators=[('clf1', pipe_tree), ('clf2', pipe_adaBoost_best),('clf3',pipe_catBoost)]\n",
        "                        , voting='soft')\n",
        "vclf_best.fit(X_train, y_train)"
      ],
      "execution_count": 32,
      "outputs": [
        {
          "output_type": "execute_result",
          "data": {
            "text/plain": [
              "VotingClassifier(estimators=[('clf1',\n",
              "                              Pipeline(memory=None,\n",
              "                                       steps=[('col_extract',\n",
              "                                               CategoricalColumnRemover()),\n",
              "                                              ('clf',\n",
              "                                               DecisionTreeClassifier(ccp_alpha=0.0,\n",
              "                                                                      class_weight=None,\n",
              "                                                                      criterion='gini',\n",
              "                                                                      max_depth=None,\n",
              "                                                                      max_features=None,\n",
              "                                                                      max_leaf_nodes=None,\n",
              "                                                                      min_impurity_decrease=0.0,\n",
              "                                                                      min_impurity_split=None,\n",
              "                                                                      min_samples_leaf=1,\n",
              "                                                                      min_samples_split=2,\n",
              "                                                                      min_weight_fraction_l...\n",
              "                                                                                                        min_weight_fraction_leaf=0.0,\n",
              "                                                                                                        presort='deprecated',\n",
              "                                                                                                        random_state=None,\n",
              "                                                                                                        splitter='best'),\n",
              "                                                                  learning_rate=1.0,\n",
              "                                                                  n_estimators=348,\n",
              "                                                                  random_state=None))],\n",
              "                                       verbose=False)),\n",
              "                             ('clf3',\n",
              "                              Pipeline(memory=None,\n",
              "                                       steps=[('col_extract',\n",
              "                                               CategoricalColumn()),\n",
              "                                              ('clf',\n",
              "                                               <catboost.core.CatBoostClassifier object at 0x7f1e53a2f7b8>)],\n",
              "                                       verbose=False))],\n",
              "                 flatten_transform=True, n_jobs=None, voting='soft',\n",
              "                 weights=None)"
            ]
          },
          "metadata": {
            "tags": []
          },
          "execution_count": 32
        }
      ]
    },
    {
      "cell_type": "code",
      "metadata": {
        "id": "Xtr5fsO2Wnjv",
        "colab_type": "code",
        "colab": {
          "base_uri": "https://localhost:8080/",
          "height": 313
        },
        "outputId": "40321d46-8a9f-4a71-d957-103d82521a4b"
      },
      "source": [
        "_ = plot_confusion_matrix(vclf_best, X_test, y_test,values_format = 'd')\n",
        "print(metrics.accuracy_score(y_test,vclf_best.predict(X_test)))\n",
        "print(metrics.f1_score(y_test,vclf_best.predict(X_test),average='macro'))"
      ],
      "execution_count": 33,
      "outputs": [
        {
          "output_type": "stream",
          "text": [
            "0.965625\n",
            "0.8685340802987862\n"
          ],
          "name": "stdout"
        },
        {
          "output_type": "display_data",
          "data": {
            "image/png": "[encoded data removed]",
            "text/plain": [
              "<Figure size 432x288 with 2 Axes>"
            ]
          },
          "metadata": {
            "tags": [],
            "needs_background": "light"
          }
        }
      ]
    }
  ]
}